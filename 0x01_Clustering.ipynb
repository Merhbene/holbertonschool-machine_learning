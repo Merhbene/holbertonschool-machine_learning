{
  "nbformat": 4,
  "nbformat_minor": 0,
  "metadata": {
    "colab": {
      "name": "0x01. Clustering.ipynb",
      "provenance": [],
      "authorship_tag": "ABX9TyOcrflc5o0tTH/lQLpIymwb",
      "include_colab_link": true
    },
    "kernelspec": {
      "name": "python3",
      "display_name": "Python 3"
    },
    "language_info": {
      "name": "python"
    }
  },
  "cells": [
    {
      "cell_type": "markdown",
      "metadata": {
        "id": "view-in-github",
        "colab_type": "text"
      },
      "source": [
        "<a href=\"https://colab.research.google.com/github/Merhbene/holbertonschool-machine_learning/blob/main/0x01_Clustering.ipynb\" target=\"_parent\"><img src=\"https://colab.research.google.com/assets/colab-badge.svg\" alt=\"Open In Colab\"/></a>"
      ]
    },
    {
      "cell_type": "markdown",
      "metadata": {
        "id": "tt4uy96Ny_Qh"
      },
      "source": [
        "## 0. Initialize K-means"
      ]
    },
    {
      "cell_type": "code",
      "metadata": {
        "id": "4mvkV6vLFpRm"
      },
      "source": [
        "import numpy as np"
      ],
      "execution_count": 1,
      "outputs": []
    },
    {
      "cell_type": "code",
      "metadata": {
        "id": "bbq2lQzfy37h"
      },
      "source": [
        "def initialize(X, k):\n",
        "  n, d = X.shape\n",
        "  low = np.amin(X, 0)\n",
        "  high = np.amax(X, 0)\n",
        "  cluster_centroids = np.random.uniform(low, high, size=(k, d))\n",
        "  return cluster_centroids\n",
        "\n"
      ],
      "execution_count": 2,
      "outputs": []
    },
    {
      "cell_type": "code",
      "metadata": {
        "colab": {
          "base_uri": "https://localhost:8080/"
        },
        "id": "uzCuy9nwFjnr",
        "outputId": "98a9445b-109a-4342-82b3-210ab1378ef0"
      },
      "source": [
        "np.random.uniform(low=0, high=1, size=(3,2))"
      ],
      "execution_count": 3,
      "outputs": [
        {
          "output_type": "execute_result",
          "data": {
            "text/plain": [
              "array([[0.39694877, 0.94117006],\n",
              "       [0.82666558, 0.78285298],\n",
              "       [0.38770041, 0.46882582]])"
            ]
          },
          "metadata": {},
          "execution_count": 3
        }
      ]
    },
    {
      "cell_type": "code",
      "metadata": {
        "colab": {
          "base_uri": "https://localhost:8080/",
          "height": 355
        },
        "id": "tq5Qe-HtFmj1",
        "outputId": "0e4bfcd4-c9cc-412c-8156-11967123fa87"
      },
      "source": [
        "import numpy as np\n",
        "import matplotlib.pyplot as plt\n",
        "\n",
        "if __name__ == \"__main__\":\n",
        "    np.random.seed(0)\n",
        "    a = np.random.multivariate_normal([30, 40], [[16, 0], [0, 16]], size=50)\n",
        "    b = np.random.multivariate_normal([10, 25], [[16, 0], [0, 16]], size=50)\n",
        "    c = np.random.multivariate_normal([40, 20], [[16, 0], [0, 16]], size=50)\n",
        "    d = np.random.multivariate_normal([60, 30], [[16, 0], [0, 16]], size=50)\n",
        "    e = np.random.multivariate_normal([20, 70], [[16, 0], [0, 16]], size=50)\n",
        "    X = np.concatenate((a, b, c, d, e), axis=0)\n",
        "    np.random.shuffle(X)\n",
        "    plt.scatter(X[:, 0], X[:, 1], s=10)\n",
        "    plt.show()\n",
        "    print(initialize(X, 5))"
      ],
      "execution_count": 4,
      "outputs": [
        {
          "output_type": "display_data",
          "data": {
            "image/png": "[encoded data removed]",
            "text/plain": [
              "<Figure size 432x288 with 1 Axes>"
            ]
          },
          "metadata": {
            "needs_background": "light"
          }
        },
        {
          "output_type": "stream",
          "name": "stdout",
          "text": [
            "[[14.54730144 13.46780434]\n",
            " [20.57098466 33.55245039]\n",
            " [ 9.55556506 51.51143281]\n",
            " [48.72458008 20.03154959]\n",
            " [25.43826106 60.35542243]]\n"
          ]
        }
      ]
    },
    {
      "cell_type": "markdown",
      "metadata": {
        "id": "GyoJjq94HcVS"
      },
      "source": [
        "## 1. K-means"
      ]
    },
    {
      "cell_type": "code",
      "metadata": {
        "id": "7-95wbozRyDX"
      },
      "source": [
        "A = X[:5, :4]"
      ],
      "execution_count": 5,
      "outputs": []
    },
    {
      "cell_type": "code",
      "metadata": {
        "colab": {
          "base_uri": "https://localhost:8080/"
        },
        "id": "ijOXxm8lR44g",
        "outputId": "14a800db-e4c2-4646-cbb5-7bbc92a9f272"
      },
      "source": [
        "A.shape"
      ],
      "execution_count": 6,
      "outputs": [
        {
          "output_type": "execute_result",
          "data": {
            "text/plain": [
              "(5, 2)"
            ]
          },
          "metadata": {},
          "execution_count": 6
        }
      ]
    },
    {
      "cell_type": "code",
      "metadata": {
        "id": "6MboZIRYR6Ft"
      },
      "source": [
        "B = initialize(X, 3)"
      ],
      "execution_count": 7,
      "outputs": []
    },
    {
      "cell_type": "code",
      "metadata": {
        "colab": {
          "base_uri": "https://localhost:8080/"
        },
        "id": "zkmSjkKvSF7M",
        "outputId": "1fcfbe71-5f93-41ae-97fc-99a4d2fb1749"
      },
      "source": [
        "B.shape"
      ],
      "execution_count": 8,
      "outputs": [
        {
          "output_type": "execute_result",
          "data": {
            "text/plain": [
              "(3, 2)"
            ]
          },
          "metadata": {},
          "execution_count": 8
        }
      ]
    },
    {
      "cell_type": "code",
      "metadata": {
        "colab": {
          "base_uri": "https://localhost:8080/"
        },
        "id": "ny-uvmsrTZ-b",
        "outputId": "dd0f7075-0ba6-44e9-a9e7-4960dac6a6a5"
      },
      "source": [
        "(A[:, None, :] - B[None, :, :]).sum(axis=-1).shape"
      ],
      "execution_count": 9,
      "outputs": [
        {
          "output_type": "execute_result",
          "data": {
            "text/plain": [
              "(5, 3)"
            ]
          },
          "metadata": {},
          "execution_count": 9
        }
      ]
    },
    {
      "cell_type": "code",
      "metadata": {
        "id": "raR4rZd_U9BT"
      },
      "source": [
        "dist = np.square(A[:, None, :] - B[None, :, :]).sum(axis=-1)\n",
        "min = np.argmin(dist, axis=1)"
      ],
      "execution_count": 10,
      "outputs": []
    },
    {
      "cell_type": "code",
      "metadata": {
        "colab": {
          "base_uri": "https://localhost:8080/"
        },
        "id": "KKWuvtHfzfc8",
        "outputId": "2c1a7898-55b8-4600-c782-cb94c4152008"
      },
      "source": [
        "min"
      ],
      "execution_count": 11,
      "outputs": [
        {
          "output_type": "execute_result",
          "data": {
            "text/plain": [
              "array([1, 1, 0, 0, 1])"
            ]
          },
          "metadata": {},
          "execution_count": 11
        }
      ]
    },
    {
      "cell_type": "code",
      "metadata": {
        "id": "ceTHVJEEziwr"
      },
      "source": [
        "c = np.argwhere(min == 1)"
      ],
      "execution_count": 12,
      "outputs": []
    },
    {
      "cell_type": "code",
      "metadata": {
        "colab": {
          "base_uri": "https://localhost:8080/"
        },
        "id": "Aqi_pV6-0jL9",
        "outputId": "1fd31e90-d2f0-4b74-8678-c179daa435fc"
      },
      "source": [
        "c.shape"
      ],
      "execution_count": 13,
      "outputs": [
        {
          "output_type": "execute_result",
          "data": {
            "text/plain": [
              "(3, 1)"
            ]
          },
          "metadata": {},
          "execution_count": 13
        }
      ]
    },
    {
      "cell_type": "code",
      "metadata": {
        "colab": {
          "base_uri": "https://localhost:8080/"
        },
        "id": "1EumN_tb2m3X",
        "outputId": "cce9fcae-b7a1-470c-f73b-acce2872b478"
      },
      "source": [
        "c.reshape(-1).shape"
      ],
      "execution_count": 14,
      "outputs": [
        {
          "output_type": "execute_result",
          "data": {
            "text/plain": [
              "(3,)"
            ]
          },
          "metadata": {},
          "execution_count": 14
        }
      ]
    },
    {
      "cell_type": "code",
      "metadata": {
        "id": "2YzHbtI80Ndp"
      },
      "source": [
        "L = [A[i] for i in c]"
      ],
      "execution_count": 15,
      "outputs": []
    },
    {
      "cell_type": "code",
      "metadata": {
        "colab": {
          "base_uri": "https://localhost:8080/"
        },
        "id": "MPFNpFbB0s47",
        "outputId": "fa9ed457-ed3c-482b-bcce-d1317e835b2d"
      },
      "source": [
        "L"
      ],
      "execution_count": 16,
      "outputs": [
        {
          "output_type": "execute_result",
          "data": {
            "text/plain": [
              "[array([[28.45069273, 38.790789  ]]),\n",
              " array([[34.55760274, 35.06069672]]),\n",
              " array([[49.36331105, 32.4252781 ]])]"
            ]
          },
          "metadata": {},
          "execution_count": 16
        }
      ]
    },
    {
      "cell_type": "code",
      "metadata": {
        "colab": {
          "base_uri": "https://localhost:8080/"
        },
        "id": "3AsR2tpB0WNf",
        "outputId": "aa6a380c-dc36-48c9-d548-da36bbcfa36d"
      },
      "source": [
        "A"
      ],
      "execution_count": 17,
      "outputs": [
        {
          "output_type": "execute_result",
          "data": {
            "text/plain": [
              "array([[28.45069273, 38.790789  ],\n",
              "       [34.55760274, 35.06069672],\n",
              "       [15.9278325 , 69.68858098],\n",
              "       [36.13111686, 45.87743508],\n",
              "       [49.36331105, 32.4252781 ]])"
            ]
          },
          "metadata": {},
          "execution_count": 17
        }
      ]
    },
    {
      "cell_type": "code",
      "metadata": {
        "id": "25AbM19S0W9R"
      },
      "source": [
        "z = np.array(L)"
      ],
      "execution_count": 18,
      "outputs": []
    },
    {
      "cell_type": "code",
      "metadata": {
        "colab": {
          "base_uri": "https://localhost:8080/"
        },
        "id": "_TjKpgEs09G9",
        "outputId": "d3549ea3-4ff4-4a34-e22e-0d1208994826"
      },
      "source": [
        "z"
      ],
      "execution_count": 19,
      "outputs": [
        {
          "output_type": "execute_result",
          "data": {
            "text/plain": [
              "array([[[28.45069273, 38.790789  ]],\n",
              "\n",
              "       [[34.55760274, 35.06069672]],\n",
              "\n",
              "       [[49.36331105, 32.4252781 ]]])"
            ]
          },
          "metadata": {},
          "execution_count": 19
        }
      ]
    },
    {
      "cell_type": "code",
      "metadata": {
        "colab": {
          "base_uri": "https://localhost:8080/"
        },
        "id": "hb4pAtDI03OA",
        "outputId": "0412315c-f7d4-4b93-bac7-4f97d4b3e819"
      },
      "source": [
        "np.mean(z, axis=0)"
      ],
      "execution_count": 20,
      "outputs": [
        {
          "output_type": "execute_result",
          "data": {
            "text/plain": [
              "array([[37.45720217, 35.42558794]])"
            ]
          },
          "metadata": {},
          "execution_count": 20
        }
      ]
    },
    {
      "cell_type": "code",
      "metadata": {
        "colab": {
          "base_uri": "https://localhost:8080/"
        },
        "id": "O5xi4qiU_6Sv",
        "outputId": "e9e3eef2-89b7-45a3-a79b-27be038858f9"
      },
      "source": [
        "np.random.uniform(0, 1, size=3)"
      ],
      "execution_count": 21,
      "outputs": [
        {
          "output_type": "execute_result",
          "data": {
            "text/plain": [
              "array([0.51713728, 0.75510618, 0.03227329])"
            ]
          },
          "metadata": {},
          "execution_count": 21
        }
      ]
    },
    {
      "cell_type": "code",
      "metadata": {
        "id": "LnsB--JeHTUK"
      },
      "source": [
        "\n",
        "def kmeans(X, k, iterations=1000):\n",
        "    \"performs K-means on a dataset\"\n",
        "    if type(X) is not np.ndarray or X.ndim != 2:\n",
        "        return None, None\n",
        "    if type(k) is not int  or k < 1:\n",
        "        return None, None\n",
        "    if type(iterations) is not int or iterations < 1:\n",
        "        return None, None\n",
        "    _, d = X.shape\n",
        "    mins = np.min(X, axis=0)\n",
        "    maxs = np.max(X, axis=0)\n",
        "    \n",
        "    centroids = np.random.uniform(mins, maxs, size=(k, d))\n",
        "    new_centroids = centroids.copy()\n",
        "    for i in range(iterations):\n",
        "        \n",
        "        dist = np.square(X[:, None, :] - centroids[None, :, :]).sum(axis=-1)\n",
        "        clss = np.argmin(dist, axis=1)\n",
        "        \n",
        "\n",
        "        for c in range(k):\n",
        "            indices = np.argwhere(clss == c).reshape(-1)\n",
        "            #centroids[indices] = np.mean(x[indices], axis=0)\n",
        "            if len(X[indices]) > 0:\n",
        "                new_centroids[c] = np.mean(X[indices], axis=0)\n",
        "            else:\n",
        "                new_centroids[c] = np.random.uniform(mins, maxs)\n",
        "            \n",
        "\n",
        "        if np.array_equal(centroids, new_centroids):\n",
        "            break\n",
        "        centroids = new_centroids.copy()\n",
        "    \n",
        "    return centroids, clss\n"
      ],
      "execution_count": 22,
      "outputs": []
    },
    {
      "cell_type": "code",
      "metadata": {
        "colab": {
          "base_uri": "https://localhost:8080/",
          "height": 355
        },
        "id": "eqPehS3k9g5T",
        "outputId": "439afeb0-03b4-41c7-908a-bc01451b1470"
      },
      "source": [
        "\n",
        "import numpy as np\n",
        "import matplotlib.pyplot as plt\n",
        "\n",
        "if __name__ == \"__main__\":\n",
        "    np.random.seed(0)\n",
        "    a = np.random.multivariate_normal([30, 40], [[16, 0], [0, 16]], size=50)\n",
        "    b = np.random.multivariate_normal([10, 25], [[16, 0], [0, 16]], size=50)\n",
        "    c = np.random.multivariate_normal([40, 20], [[16, 0], [0, 16]], size=50)\n",
        "    d = np.random.multivariate_normal([60, 30], [[16, 0], [0, 16]], size=50)\n",
        "    e = np.random.multivariate_normal([20, 70], [[16, 0], [0, 16]], size=50)\n",
        "    X = np.concatenate((a, b, c, d, e), axis=0)\n",
        "    np.random.shuffle(X)\n",
        "    C, clss = kmeans(X, 5)\n",
        "    print(C)\n",
        "    plt.scatter(X[:, 0], X[:, 1], s=10, c=clss)\n",
        "    plt.scatter(C[:, 0], C[:, 1], s=50, marker='*', c=list(range(5)))\n",
        "    plt.show()"
      ],
      "execution_count": 23,
      "outputs": [
        {
          "output_type": "stream",
          "name": "stdout",
          "text": [
            "[[ 9.92511389 25.73098987]\n",
            " [30.06722465 40.41123947]\n",
            " [39.62770705 19.89843487]\n",
            " [59.22766628 29.19796006]\n",
            " [20.0835633  69.81592298]]\n"
          ]
        },
        {
          "output_type": "display_data",
          "data": {
            "image/png": "[encoded data removed]",
            "text/plain": [
              "<Figure size 432x288 with 1 Axes>"
            ]
          },
          "metadata": {
            "needs_background": "light"
          }
        }
      ]
    },
    {
      "cell_type": "code",
      "metadata": {
        "id": "thNDTV_6NhSM",
        "colab": {
          "base_uri": "https://localhost:8080/",
          "height": 108
        },
        "outputId": "c359beec-2f18-443d-891f-860ac4d86827"
      },
      "source": [
        "\"\"\"\n",
        "#!/usr/bin/env python3\n",
        "\"K-means\"\n",
        "import numpy as np\n",
        "\n",
        "\n",
        "def kmeans(X, k, iterations=1000):\n",
        "    \"performs K-means on a dataset\"\n",
        "    if type(X) is not np.ndarray or X.ndim != 2:\n",
        "        return None, None\n",
        "    if type(k) is not int  or k < 1:\n",
        "        return None, None\n",
        "    if type(iterations) is not int or iterations < 1:\n",
        "        return None, None\n",
        "    _, d = X.shape\n",
        "\n",
        "    centroids = initialize(X, k)\n",
        "    new_centroids = centroids.copy()\n",
        "    for i in range(iterations):\n",
        "        \n",
        "        dist = np.square(X[:, None, :] - centroids[None, :, :]).sum(axis=-1)\n",
        "        clss = np.argmin(dist, axis=1)\n",
        "        \n",
        "\n",
        "        for c in range(k):\n",
        "            indices = np.argwhere(clss == c).reshape(-1)\n",
        "            #centroids[indices] = np.mean(x[indices], axis=0)\n",
        "            if len(X[indices]) > 0:\n",
        "                new_centroids[c] = np.mean(X[indices], axis=0)\n",
        "            else:\n",
        "                new_centroids[c] = initialize(X, 1)\n",
        "            \n",
        "\n",
        "        if np.allclose(centroids, new_centroids):\n",
        "            break\n",
        "        centroids = new_centroids.copy()\n",
        "    return centroids, clss\n",
        "\n",
        "\n",
        "def initialize(X, k):\n",
        "    \" initializes cluster centroids for K-means\"\n",
        "    if type(X) is not np.ndarray or X.ndim != 2:\n",
        "        return None\n",
        "    if type(k) is not int or k < 1:\n",
        "        return None\n",
        "    _, d = X.shape\n",
        "    low = np.amin(X, 0)\n",
        "    high = np.amax(X, 0)\n",
        "    cluster_centroids = np.random.uniform(low, high, size=(k, d))\n",
        "    return cluster_centroids\n",
        "\"\"\""
      ],
      "execution_count": 24,
      "outputs": [
        {
          "output_type": "execute_result",
          "data": {
            "application/vnd.google.colaboratory.intrinsic+json": {
              "type": "string"
            },
            "text/plain": [
              "'\\n#!/usr/bin/env python3\\n\"K-means\"\\nimport numpy as np\\n\\n\\ndef kmeans(X, k, iterations=1000):\\n    \"performs K-means on a dataset\"\\n    if type(X) is not np.ndarray or X.ndim != 2:\\n        return None, None\\n    if type(k) is not int  or k < 1:\\n        return None, None\\n    if type(iterations) is not int or iterations < 1:\\n        return None, None\\n    _, d = X.shape\\n\\n    centroids = initialize(X, k)\\n    new_centroids = centroids.copy()\\n    for i in range(iterations):\\n        \\n        dist = np.square(X[:, None, :] - centroids[None, :, :]).sum(axis=-1)\\n        clss = np.argmin(dist, axis=1)\\n        \\n\\n        for c in range(k):\\n            indices = np.argwhere(clss == c).reshape(-1)\\n            #centroids[indices] = np.mean(x[indices], axis=0)\\n            if len(X[indices]) > 0:\\n                new_centroids[c] = np.mean(X[indices], axis=0)\\n            else:\\n                new_centroids[c] = initialize(X, 1)\\n            \\n\\n        if np.allclose(centroids, new_centroids):\\n            break\\n        centroids = new_centroids.copy()\\n    return centroids, clss\\n\\n\\ndef initialize(X, k):\\n    \" initializes cluster centroids for K-means\"\\n    if type(X) is not np.ndarray or X.ndim != 2:\\n        return None\\n    if type(k) is not int or k < 1:\\n        return None\\n    _, d = X.shape\\n    low = np.amin(X, 0)\\n    high = np.amax(X, 0)\\n    cluster_centroids = np.random.uniform(low, high, size=(k, d))\\n    return cluster_centroids\\n'"
            ]
          },
          "metadata": {},
          "execution_count": 24
        }
      ]
    },
    {
      "cell_type": "markdown",
      "metadata": {
        "id": "ZIe_o8J9QVnd"
      },
      "source": [
        "## 2. Variance"
      ]
    },
    {
      "cell_type": "code",
      "metadata": {
        "id": "Et17iL67QXr0"
      },
      "source": [
        "def variance(X, C):\n",
        "    if type(X) is not np.ndarray or X.ndim != 2:\n",
        "        return None\n",
        "    if type(C) is not np.ndarray or C.ndim != 2 or C.shape[1] != X.shape[1]:\n",
        "        return None\n",
        "    dist = np.square(X[:, None, :] - C[None, :, :]).sum(axis=-1)\n",
        "    centroid_dist = np.min(dist, axis=1)    \n",
        "    var = np.sum(centroid_dist)\n",
        "    return var\n"
      ],
      "execution_count": 25,
      "outputs": []
    },
    {
      "cell_type": "code",
      "metadata": {
        "id": "jJUBYnFsHoSq",
        "colab": {
          "base_uri": "https://localhost:8080/"
        },
        "outputId": "6d280e83-9828-4cd3-a109-961ea7bd11b5"
      },
      "source": [
        "np.random.seed(0)\n",
        "a = np.random.multivariate_normal([30, 40], [[16, 0], [0, 16]], size=50)\n",
        "b = np.random.multivariate_normal([10, 25], [[16, 0], [0, 16]], size=50)\n",
        "c = np.random.multivariate_normal([40, 20], [[16, 0], [0, 16]], size=50)\n",
        "d = np.random.multivariate_normal([60, 30], [[16, 0], [0, 16]], size=50)\n",
        "e = np.random.multivariate_normal([20, 70], [[16, 0], [0, 16]], size=50)\n",
        "X = np.concatenate((a, b, c, d, e), axis=0)\n",
        "np.random.shuffle(X)\n",
        "\n",
        "for k in range(1, 11):\n",
        "    C, _ = kmeans(X, k)\n",
        "    print('Variance with {} clusters: {}'.format(k, variance(X, C).round(5)))"
      ],
      "execution_count": 26,
      "outputs": [
        {
          "output_type": "stream",
          "name": "stdout",
          "text": [
            "Variance with 1 clusters: 157927.7052\n",
            "Variance with 2 clusters: 82095.68297\n",
            "Variance with 3 clusters: 34784.23723\n",
            "Variance with 4 clusters: 23158.40095\n",
            "Variance with 5 clusters: 7868.52123\n",
            "Variance with 6 clusters: 7406.93077\n",
            "Variance with 7 clusters: 6930.66361\n",
            "Variance with 8 clusters: 6162.15884\n",
            "Variance with 9 clusters: 5843.92455\n",
            "Variance with 10 clusters: 5727.41124\n"
          ]
        }
      ]
    },
    {
      "cell_type": "markdown",
      "metadata": {
        "id": "5X_-l742KoGf"
      },
      "source": [
        "## 3. Optimize k"
      ]
    },
    {
      "cell_type": "code",
      "metadata": {
        "id": "lfNza9ANHu5c"
      },
      "source": [
        "#!/usr/bin/env python3\n",
        "\"\"\"optimum\"\"\"\n",
        "import numpy as np\n",
        "\n",
        "\n",
        "def optimum_k(X, kmin=1, kmax=None, iterations=1000):\n",
        "    \"tests for the optimum nb of clusters by variance\"\n",
        "    if type(X) is not np.ndarray or X.ndim != 2:\n",
        "        return None, None\n",
        "    if type(kmin) is not int or kmin < 1:\n",
        "        return None, None\n",
        "    if kmax is None:\n",
        "        kmax = X.shape[0] \n",
        "    if type(kmax) is not int or kmax < 1:\n",
        "        return None, None\n",
        "    if kmax <= kmin:\n",
        "        return None, None\n",
        "    if type(iterations) is not int or iterations < 1:\n",
        "        return None, None\n",
        "\n",
        "    results = []\n",
        "    var = []\n",
        "    for k in range(kmin, kmax + 1):\n",
        "        C, clss = kmeans(X, k, iterations)\n",
        "        results.append((C, clss))\n",
        "        var.append(variance(X, C))\n",
        "    d0 = var[0]\n",
        "    d_vars = [d0 - v for v in var]\n",
        "    return results, d_vars\n"
      ],
      "execution_count": 27,
      "outputs": []
    },
    {
      "cell_type": "code",
      "metadata": {
        "id": "WTqTRABSNwk9",
        "colab": {
          "base_uri": "https://localhost:8080/",
          "height": 1000
        },
        "outputId": "ff1872d6-7d99-4bd6-ac28-5a904e9dbb32"
      },
      "source": [
        "np.random.seed(0)\n",
        "a = np.random.multivariate_normal([30, 40], [[16, 0], [0, 16]], size=50)\n",
        "b = np.random.multivariate_normal([10, 25], [[16, 0], [0, 16]], size=50)\n",
        "c = np.random.multivariate_normal([40, 20], [[16, 0], [0, 16]], size=50)\n",
        "d = np.random.multivariate_normal([60, 30], [[16, 0], [0, 16]], size=50)\n",
        "e = np.random.multivariate_normal([20, 70], [[16, 0], [0, 16]], size=50)\n",
        "X = np.concatenate((a, b, c, d, e), axis=0)\n",
        "np.random.shuffle(X)\n",
        "\n",
        "results, d_vars = optimum_k(X, kmax=10)\n",
        "print(results)\n",
        "print(np.round(d_vars, 5))\n",
        "plt.scatter(list(range(1, 11)), d_vars)\n",
        "plt.xlabel('Clusters')\n",
        "plt.ylabel('Delta Variance')\n",
        "plt.title('Optimizing K-means')\n",
        "plt.show()"
      ],
      "execution_count": 28,
      "outputs": [
        {
          "output_type": "stream",
          "name": "stdout",
          "text": [
            "[(array([[31.78625503, 37.01090945]]), array([0, 0, 0, 0, 0, 0, 0, 0, 0, 0, 0, 0, 0, 0, 0, 0, 0, 0, 0, 0, 0, 0,\n",
            "       0, 0, 0, 0, 0, 0, 0, 0, 0, 0, 0, 0, 0, 0, 0, 0, 0, 0, 0, 0, 0, 0,\n",
            "       0, 0, 0, 0, 0, 0, 0, 0, 0, 0, 0, 0, 0, 0, 0, 0, 0, 0, 0, 0, 0, 0,\n",
            "       0, 0, 0, 0, 0, 0, 0, 0, 0, 0, 0, 0, 0, 0, 0, 0, 0, 0, 0, 0, 0, 0,\n",
            "       0, 0, 0, 0, 0, 0, 0, 0, 0, 0, 0, 0, 0, 0, 0, 0, 0, 0, 0, 0, 0, 0,\n",
            "       0, 0, 0, 0, 0, 0, 0, 0, 0, 0, 0, 0, 0, 0, 0, 0, 0, 0, 0, 0, 0, 0,\n",
            "       0, 0, 0, 0, 0, 0, 0, 0, 0, 0, 0, 0, 0, 0, 0, 0, 0, 0, 0, 0, 0, 0,\n",
            "       0, 0, 0, 0, 0, 0, 0, 0, 0, 0, 0, 0, 0, 0, 0, 0, 0, 0, 0, 0, 0, 0,\n",
            "       0, 0, 0, 0, 0, 0, 0, 0, 0, 0, 0, 0, 0, 0, 0, 0, 0, 0, 0, 0, 0, 0,\n",
            "       0, 0, 0, 0, 0, 0, 0, 0, 0, 0, 0, 0, 0, 0, 0, 0, 0, 0, 0, 0, 0, 0,\n",
            "       0, 0, 0, 0, 0, 0, 0, 0, 0, 0, 0, 0, 0, 0, 0, 0, 0, 0, 0, 0, 0, 0,\n",
            "       0, 0, 0, 0, 0, 0, 0, 0])), (array([[34.76990289, 28.71421162],\n",
            "       [20.14417812, 69.38429903]]), array([0, 0, 1, 0, 0, 0, 0, 0, 1, 0, 0, 0, 1, 0, 1, 0, 0, 0, 0, 1, 0, 0,\n",
            "       1, 0, 0, 0, 0, 0, 0, 0, 0, 0, 1, 0, 0, 0, 0, 0, 0, 1, 1, 0, 0, 0,\n",
            "       0, 0, 0, 0, 1, 0, 0, 1, 0, 1, 0, 0, 0, 0, 0, 0, 0, 0, 0, 0, 0, 0,\n",
            "       0, 0, 1, 0, 1, 0, 0, 0, 0, 0, 1, 0, 0, 1, 0, 0, 0, 1, 0, 0, 0, 0,\n",
            "       0, 1, 0, 0, 0, 0, 0, 1, 0, 1, 0, 0, 0, 0, 0, 0, 0, 0, 0, 0, 0, 0,\n",
            "       0, 0, 0, 1, 0, 0, 0, 1, 0, 0, 0, 0, 0, 1, 0, 1, 1, 0, 1, 0, 0, 0,\n",
            "       0, 1, 0, 0, 0, 0, 0, 0, 0, 0, 1, 0, 1, 1, 0, 0, 0, 1, 0, 0, 0, 0,\n",
            "       1, 1, 1, 0, 0, 0, 0, 0, 0, 0, 0, 0, 0, 0, 1, 1, 1, 1, 0, 0, 0, 1,\n",
            "       0, 0, 0, 0, 0, 0, 0, 1, 0, 1, 0, 0, 1, 1, 0, 0, 0, 0, 0, 0, 0, 0,\n",
            "       0, 0, 0, 0, 0, 0, 0, 1, 0, 0, 0, 0, 0, 0, 0, 0, 0, 0, 0, 0, 1, 0,\n",
            "       1, 0, 0, 0, 1, 0, 0, 0, 0, 1, 1, 0, 0, 0, 0, 0, 0, 1, 0, 0, 0, 0,\n",
            "       0, 1, 0, 0, 0, 0, 0, 0])), (array([[49.55185774, 24.76080087],\n",
            "       [20.0835633 , 69.81592298],\n",
            "       [19.8719982 , 32.85851127]]), array([2, 2, 1, 2, 0, 2, 2, 0, 1, 0, 0, 2, 1, 0, 1, 2, 2, 0, 0, 1, 2, 2,\n",
            "       1, 0, 2, 2, 0, 0, 2, 0, 0, 2, 1, 2, 0, 2, 0, 2, 0, 1, 1, 0, 2, 2,\n",
            "       0, 2, 2, 2, 1, 0, 0, 1, 2, 1, 2, 2, 2, 2, 2, 2, 2, 2, 0, 2, 0, 0,\n",
            "       2, 0, 1, 0, 1, 0, 2, 2, 2, 2, 1, 2, 2, 1, 0, 2, 0, 1, 2, 0, 2, 2,\n",
            "       0, 1, 2, 2, 0, 2, 2, 1, 2, 1, 0, 0, 2, 2, 0, 0, 0, 2, 2, 0, 0, 0,\n",
            "       2, 2, 0, 1, 0, 2, 2, 1, 2, 2, 0, 0, 2, 1, 0, 1, 1, 0, 1, 2, 2, 2,\n",
            "       0, 1, 0, 2, 2, 0, 2, 0, 2, 0, 1, 0, 1, 1, 0, 2, 2, 1, 0, 2, 0, 0,\n",
            "       1, 1, 1, 0, 0, 0, 2, 2, 2, 0, 0, 0, 0, 2, 1, 1, 1, 1, 2, 0, 0, 1,\n",
            "       2, 0, 0, 2, 0, 0, 2, 1, 2, 1, 2, 0, 1, 1, 0, 0, 0, 2, 0, 0, 0, 0,\n",
            "       2, 2, 0, 0, 0, 0, 0, 1, 0, 2, 2, 0, 2, 2, 2, 2, 2, 2, 2, 2, 1, 2,\n",
            "       1, 0, 0, 2, 1, 0, 0, 0, 0, 1, 1, 0, 0, 0, 0, 0, 0, 2, 2, 0, 0, 0,\n",
            "       2, 1, 0, 2, 2, 0, 2, 0])), (array([[39.57566544, 20.48452248],\n",
            "       [20.0835633 , 69.81592298],\n",
            "       [19.62313956, 33.02895961],\n",
            "       [59.22766628, 29.19796006]]), array([2, 2, 1, 2, 3, 2, 2, 0, 1, 0, 0, 2, 1, 0, 1, 2, 0, 3, 0, 1, 2, 2,\n",
            "       1, 3, 2, 2, 0, 0, 2, 3, 3, 2, 1, 2, 0, 2, 3, 2, 3, 1, 1, 0, 2, 2,\n",
            "       0, 2, 2, 2, 1, 3, 3, 1, 2, 1, 2, 2, 2, 2, 2, 2, 2, 2, 3, 2, 3, 3,\n",
            "       2, 0, 1, 3, 1, 0, 2, 2, 2, 2, 1, 2, 2, 1, 3, 2, 3, 1, 2, 0, 2, 2,\n",
            "       3, 1, 2, 2, 3, 2, 2, 1, 2, 1, 0, 3, 2, 2, 3, 0, 0, 2, 2, 0, 3, 0,\n",
            "       2, 2, 0, 1, 0, 2, 2, 1, 2, 2, 0, 0, 2, 1, 0, 1, 1, 3, 1, 2, 2, 2,\n",
            "       3, 1, 3, 2, 2, 0, 2, 3, 2, 3, 1, 3, 1, 1, 3, 2, 2, 1, 3, 2, 3, 0,\n",
            "       1, 1, 1, 3, 3, 0, 2, 2, 2, 0, 0, 3, 0, 2, 1, 1, 1, 1, 2, 0, 3, 1,\n",
            "       2, 3, 3, 2, 0, 0, 2, 1, 2, 1, 0, 0, 1, 1, 3, 0, 3, 2, 0, 0, 3, 3,\n",
            "       2, 2, 3, 0, 0, 0, 3, 1, 3, 2, 2, 3, 2, 2, 2, 2, 2, 2, 2, 2, 1, 2,\n",
            "       1, 0, 0, 2, 1, 0, 3, 0, 3, 1, 1, 0, 0, 3, 0, 3, 0, 2, 2, 3, 3, 3,\n",
            "       2, 1, 0, 2, 2, 0, 2, 0])), (array([[30.06722465, 40.41123947],\n",
            "       [59.22766628, 29.19796006],\n",
            "       [ 9.92511389, 25.73098987],\n",
            "       [20.0835633 , 69.81592298],\n",
            "       [39.62770705, 19.89843487]]), array([0, 0, 3, 0, 1, 2, 0, 4, 3, 4, 4, 0, 3, 4, 3, 2, 4, 1, 4, 3, 2, 0,\n",
            "       3, 1, 0, 2, 4, 4, 2, 1, 1, 0, 3, 2, 4, 0, 1, 0, 1, 3, 3, 4, 0, 2,\n",
            "       4, 0, 0, 0, 3, 1, 1, 3, 0, 3, 0, 2, 0, 2, 0, 0, 2, 2, 1, 2, 1, 1,\n",
            "       0, 4, 3, 1, 3, 4, 0, 0, 2, 0, 3, 2, 0, 3, 1, 0, 1, 3, 2, 4, 2, 0,\n",
            "       1, 3, 0, 2, 1, 0, 0, 3, 2, 3, 4, 1, 0, 2, 1, 4, 4, 0, 2, 4, 1, 4,\n",
            "       2, 2, 4, 3, 4, 2, 2, 3, 2, 2, 4, 4, 0, 3, 0, 3, 3, 1, 3, 2, 0, 2,\n",
            "       1, 3, 1, 2, 0, 4, 0, 1, 0, 1, 3, 1, 3, 3, 1, 2, 2, 3, 1, 2, 1, 4,\n",
            "       3, 3, 3, 1, 1, 4, 2, 2, 0, 4, 4, 1, 4, 2, 3, 3, 3, 3, 0, 4, 1, 3,\n",
            "       2, 1, 1, 2, 4, 4, 2, 3, 2, 3, 4, 4, 3, 3, 1, 4, 1, 0, 4, 4, 1, 1,\n",
            "       2, 0, 1, 4, 4, 0, 1, 3, 1, 2, 0, 1, 0, 2, 0, 2, 2, 0, 0, 2, 3, 0,\n",
            "       3, 4, 4, 2, 3, 4, 1, 4, 1, 3, 3, 4, 4, 1, 4, 1, 4, 0, 2, 1, 1, 1,\n",
            "       2, 3, 4, 0, 2, 4, 2, 4])), (array([[44.18492017, 16.98881789],\n",
            "       [30.06722465, 40.41123947],\n",
            "       [38.18858711, 20.81726128],\n",
            "       [59.22766628, 29.19796006],\n",
            "       [20.0835633 , 69.81592298],\n",
            "       [ 9.92511389, 25.73098987]]), array([1, 1, 4, 1, 3, 5, 1, 2, 4, 0, 2, 1, 4, 2, 4, 5, 2, 3, 2, 4, 5, 1,\n",
            "       4, 3, 1, 5, 2, 2, 5, 3, 3, 1, 4, 5, 2, 1, 3, 1, 3, 4, 4, 2, 1, 5,\n",
            "       0, 1, 1, 1, 4, 3, 3, 4, 1, 4, 1, 5, 1, 5, 1, 1, 5, 5, 3, 5, 3, 3,\n",
            "       1, 2, 4, 3, 4, 2, 1, 1, 5, 1, 4, 5, 1, 4, 3, 1, 3, 4, 5, 2, 5, 1,\n",
            "       3, 4, 1, 5, 3, 1, 1, 4, 5, 4, 2, 3, 1, 5, 3, 2, 2, 1, 5, 2, 3, 2,\n",
            "       5, 5, 2, 4, 2, 5, 5, 4, 5, 5, 0, 2, 1, 4, 1, 4, 4, 3, 4, 5, 1, 5,\n",
            "       3, 4, 3, 5, 1, 0, 1, 3, 1, 3, 4, 3, 4, 4, 3, 5, 5, 4, 3, 5, 3, 0,\n",
            "       4, 4, 4, 3, 3, 0, 5, 5, 1, 0, 2, 3, 2, 5, 4, 4, 4, 4, 1, 0, 3, 4,\n",
            "       5, 3, 3, 5, 2, 2, 5, 4, 5, 4, 2, 2, 4, 4, 3, 0, 3, 1, 0, 2, 3, 3,\n",
            "       5, 1, 3, 2, 2, 1, 3, 4, 3, 5, 1, 3, 1, 5, 1, 5, 5, 1, 1, 5, 4, 1,\n",
            "       4, 2, 2, 5, 4, 2, 3, 2, 3, 4, 4, 0, 2, 3, 0, 3, 2, 1, 5, 3, 3, 3,\n",
            "       5, 4, 2, 1, 5, 2, 5, 2])), (array([[26.23935735, 39.56231098],\n",
            "       [33.86397001, 36.21416257],\n",
            "       [32.10246392, 43.52452575],\n",
            "       [39.78587939, 19.72783208],\n",
            "       [59.22766628, 29.19796006],\n",
            "       [20.0835633 , 69.81592298],\n",
            "       [ 9.92511389, 25.73098987]]), array([0, 1, 5, 2, 4, 6, 1, 3, 5, 3, 3, 2, 5, 3, 5, 6, 3, 4, 3, 5, 6, 0,\n",
            "       5, 4, 1, 6, 3, 3, 6, 4, 4, 0, 5, 6, 3, 2, 4, 1, 4, 5, 5, 3, 2, 6,\n",
            "       3, 0, 0, 1, 5, 4, 4, 5, 2, 5, 0, 6, 2, 6, 2, 1, 6, 6, 4, 6, 4, 4,\n",
            "       0, 3, 5, 4, 5, 3, 0, 2, 6, 1, 5, 6, 2, 5, 4, 2, 4, 5, 6, 3, 6, 0,\n",
            "       4, 5, 0, 6, 4, 2, 0, 5, 6, 5, 3, 4, 2, 6, 4, 3, 3, 0, 6, 3, 4, 3,\n",
            "       6, 6, 3, 5, 3, 6, 6, 5, 6, 6, 3, 3, 0, 5, 1, 5, 5, 4, 5, 6, 0, 6,\n",
            "       4, 5, 4, 6, 0, 3, 0, 4, 2, 4, 5, 4, 5, 5, 4, 6, 6, 5, 4, 6, 4, 3,\n",
            "       5, 5, 5, 4, 4, 3, 6, 6, 2, 3, 3, 4, 3, 6, 5, 5, 5, 5, 0, 3, 4, 5,\n",
            "       6, 4, 4, 6, 3, 3, 6, 5, 6, 5, 1, 3, 5, 5, 4, 3, 4, 2, 3, 3, 4, 4,\n",
            "       6, 2, 4, 3, 3, 1, 4, 5, 4, 6, 1, 4, 0, 6, 0, 6, 6, 2, 2, 6, 5, 0,\n",
            "       5, 3, 3, 6, 5, 3, 4, 3, 4, 5, 5, 3, 3, 4, 3, 4, 3, 0, 6, 4, 4, 4,\n",
            "       6, 5, 3, 1, 6, 3, 6, 3])), (array([[46.45917139, 23.16813158],\n",
            "       [17.46350686, 68.10438494],\n",
            "       [59.60504708, 29.19922401],\n",
            "       [32.37545229, 35.93762723],\n",
            "       [38.66481538, 19.34921236],\n",
            "       [28.96634723, 42.29059653],\n",
            "       [ 9.92511389, 25.73098987],\n",
            "       [24.01364794, 72.38323004]]), array([5, 3, 1, 5, 0, 6, 3, 4, 7, 4, 4, 5, 1, 4, 1, 6, 4, 2, 4, 1, 6, 5,\n",
            "       7, 2, 3, 6, 4, 4, 6, 2, 2, 3, 7, 6, 4, 3, 2, 3, 2, 1, 7, 4, 5, 6,\n",
            "       0, 5, 5, 3, 7, 2, 2, 1, 5, 7, 5, 6, 5, 6, 5, 3, 6, 6, 2, 6, 2, 2,\n",
            "       5, 4, 1, 2, 1, 4, 5, 5, 6, 3, 7, 6, 5, 1, 2, 5, 2, 7, 6, 0, 6, 5,\n",
            "       2, 1, 3, 6, 2, 5, 5, 7, 6, 7, 4, 2, 5, 6, 2, 4, 0, 5, 6, 4, 2, 4,\n",
            "       6, 6, 4, 1, 4, 6, 6, 7, 6, 6, 0, 4, 5, 7, 3, 7, 1, 2, 1, 6, 3, 6,\n",
            "       2, 1, 2, 6, 5, 4, 5, 2, 5, 2, 7, 2, 1, 7, 2, 6, 6, 1, 2, 6, 2, 4,\n",
            "       7, 1, 1, 2, 2, 0, 6, 6, 5, 0, 4, 2, 0, 6, 7, 1, 1, 7, 5, 4, 2, 7,\n",
            "       6, 2, 0, 6, 4, 4, 6, 1, 6, 1, 3, 4, 7, 1, 2, 4, 2, 5, 4, 4, 2, 2,\n",
            "       6, 5, 2, 4, 4, 3, 2, 1, 2, 6, 3, 2, 3, 6, 5, 6, 6, 5, 5, 6, 1, 5,\n",
            "       1, 4, 4, 6, 1, 4, 2, 4, 2, 1, 1, 0, 4, 2, 4, 2, 4, 5, 6, 2, 2, 2,\n",
            "       6, 1, 4, 3, 6, 4, 6, 4])), (array([[41.41465903, 21.62570842],\n",
            "       [37.61417321, 17.19733029],\n",
            "       [26.6124459 , 43.91604964],\n",
            "       [16.74238916, 69.20086704],\n",
            "       [ 9.92511389, 25.73098987],\n",
            "       [24.00581119, 70.53794517],\n",
            "       [31.42335817, 38.75662838],\n",
            "       [55.10816891, 27.75253127],\n",
            "       [61.16625328, 29.87816185]]), array([6, 6, 3, 6, 7, 4, 6, 1, 5, 0, 1, 2, 3, 1, 3, 4, 1, 7, 0, 3, 4, 2,\n",
            "       3, 7, 6, 4, 1, 0, 4, 8, 8, 6, 5, 4, 1, 6, 8, 6, 7, 3, 5, 0, 2, 4,\n",
            "       0, 2, 6, 6, 5, 8, 7, 3, 2, 5, 6, 4, 6, 4, 6, 6, 4, 4, 8, 4, 8, 8,\n",
            "       2, 1, 3, 8, 3, 0, 6, 6, 4, 6, 5, 4, 6, 3, 7, 6, 8, 5, 4, 0, 4, 2,\n",
            "       7, 3, 6, 4, 7, 6, 6, 5, 4, 5, 0, 8, 6, 4, 8, 0, 0, 6, 4, 0, 8, 1,\n",
            "       4, 4, 0, 3, 0, 4, 4, 5, 4, 4, 0, 0, 2, 5, 6, 5, 3, 8, 3, 4, 6, 4,\n",
            "       8, 3, 7, 4, 2, 0, 2, 7, 2, 8, 5, 8, 3, 5, 8, 4, 4, 3, 7, 4, 7, 0,\n",
            "       5, 3, 5, 8, 7, 0, 4, 4, 6, 0, 1, 8, 0, 4, 5, 3, 3, 5, 6, 1, 8, 5,\n",
            "       4, 8, 7, 4, 1, 0, 4, 5, 4, 3, 6, 0, 5, 3, 8, 1, 8, 6, 1, 1, 8, 8,\n",
            "       4, 6, 8, 1, 0, 6, 8, 3, 8, 4, 6, 8, 6, 4, 6, 4, 4, 6, 2, 4, 5, 2,\n",
            "       3, 1, 0, 4, 3, 0, 7, 1, 8, 5, 3, 0, 1, 8, 1, 8, 0, 2, 4, 7, 8, 8,\n",
            "       4, 3, 0, 6, 4, 1, 4, 1])), (array([[22.16577861, 70.20228452],\n",
            "       [26.6124459 , 43.91604964],\n",
            "       [19.74208872, 64.1000882 ],\n",
            "       [39.78587939, 19.72783208],\n",
            "       [15.57193046, 70.58516939],\n",
            "       [60.58250295, 27.97262624],\n",
            "       [25.38793378, 73.72176884],\n",
            "       [ 9.92511389, 25.73098987],\n",
            "       [55.37159269, 32.68544864],\n",
            "       [31.42335817, 38.75662838]]), array([9, 9, 4, 9, 8, 7, 9, 3, 0, 3, 3, 1, 4, 3, 0, 7, 3, 8, 3, 0, 7, 1,\n",
            "       4, 5, 9, 7, 3, 3, 7, 5, 5, 9, 0, 7, 3, 9, 5, 9, 5, 2, 0, 3, 1, 7,\n",
            "       3, 1, 9, 9, 6, 5, 5, 4, 1, 6, 9, 7, 9, 7, 9, 9, 7, 7, 8, 7, 5, 5,\n",
            "       1, 3, 2, 5, 0, 3, 9, 9, 7, 9, 0, 7, 9, 2, 8, 9, 5, 6, 7, 3, 7, 1,\n",
            "       5, 4, 9, 7, 8, 9, 9, 0, 7, 6, 3, 5, 9, 7, 5, 3, 3, 9, 7, 3, 5, 3,\n",
            "       7, 7, 3, 4, 3, 7, 7, 6, 7, 7, 3, 3, 1, 0, 9, 0, 4, 8, 4, 7, 9, 7,\n",
            "       5, 4, 5, 7, 1, 3, 1, 8, 1, 8, 6, 5, 4, 0, 8, 7, 7, 4, 5, 7, 8, 3,\n",
            "       6, 2, 2, 5, 5, 3, 7, 7, 9, 3, 3, 5, 3, 7, 6, 4, 2, 6, 9, 3, 5, 0,\n",
            "       7, 5, 8, 7, 3, 3, 7, 0, 7, 4, 9, 3, 6, 2, 5, 3, 8, 9, 3, 3, 5, 8,\n",
            "       7, 9, 5, 3, 3, 9, 5, 4, 5, 7, 9, 5, 9, 7, 9, 7, 7, 9, 1, 7, 2, 1,\n",
            "       4, 3, 3, 7, 4, 3, 5, 3, 5, 2, 4, 3, 3, 5, 3, 5, 3, 1, 7, 5, 5, 5,\n",
            "       7, 2, 3, 9, 7, 3, 7, 3]))]\n",
            "[     0.       75832.02223 123143.46797 134769.30424 150059.18397\n",
            " 150520.77443 150997.04159 151765.54636 152083.78065 152200.29395]\n"
          ]
        },
        {
          "output_type": "display_data",
          "data": {
            "image/png": "[encoded data removed]",
            "text/plain": [
              "<Figure size 432x288 with 1 Axes>"
            ]
          },
          "metadata": {
            "needs_background": "light"
          }
        }
      ]
    },
    {
      "cell_type": "markdown",
      "metadata": {
        "id": "YJJLuswzV77s"
      },
      "source": [
        "## 4. Initialize GMM\n"
      ]
    },
    {
      "cell_type": "code",
      "metadata": {
        "id": "QgR-bR6oNymD"
      },
      "source": [
        "def initialize(X, k):\n",
        "    \"\"\"initializes variables for a Gaussian Mixture Model\"\"\"\n",
        "    _,  d = X.shape\n",
        "    if type(X) is not np.ndarray or X.ndim != 2:\n",
        "        return None, None, None\n",
        "    if type(k) is not int or k < 1:\n",
        "        return None, None, None\n",
        "    pi = np.full(k, 1/k) # a new array of shape k filled with 1/k\n",
        "    m, _ = kmeans(X, k)\n",
        "    # S = np.array([np.eye(d) for i in range(k)])   \n",
        "    S = np.tile(np.eye(d), (k, 1, 1))\n",
        "    return pi, m, S\n",
        "\n",
        "\n",
        "\n"
      ],
      "execution_count": 29,
      "outputs": []
    },
    {
      "cell_type": "code",
      "metadata": {
        "colab": {
          "base_uri": "https://localhost:8080/"
        },
        "id": "O1oD4vsvXWAF",
        "outputId": "6961b5e8-b787-4c65-f65b-7c667648639a"
      },
      "source": [
        "\n",
        "if __name__ == '__main__':\n",
        "    np.random.seed(11)\n",
        "    a = np.random.multivariate_normal([30, 40], [[75, 5], [5, 75]], size=10000)\n",
        "    b = np.random.multivariate_normal([5, 25], [[16, 10], [10, 16]], size=750)\n",
        "    c = np.random.multivariate_normal([60, 30], [[16, 0], [0, 16]], size=750)\n",
        "    d = np.random.multivariate_normal([20, 70], [[35, 10], [10, 35]], size=1000)\n",
        "    X = np.concatenate((a, b, c, d), axis=0)\n",
        "    np.random.shuffle(X)\n",
        "    pi, m, S = initialize(X, 4)\n",
        "    print(pi)\n",
        "    print(m)\n",
        "    print(S)"
      ],
      "execution_count": 30,
      "outputs": [
        {
          "output_type": "stream",
          "name": "stdout",
          "text": [
            "[0.25 0.25 0.25 0.25]\n",
            "[[54.73711515 31.81393242]\n",
            " [16.84012557 31.20248225]\n",
            " [21.43215816 65.50449077]\n",
            " [32.3301925  41.80664127]]\n",
            "[[[1. 0.]\n",
            "  [0. 1.]]\n",
            "\n",
            " [[1. 0.]\n",
            "  [0. 1.]]\n",
            "\n",
            " [[1. 0.]\n",
            "  [0. 1.]]\n",
            "\n",
            " [[1. 0.]\n",
            "  [0. 1.]]]\n"
          ]
        }
      ]
    },
    {
      "cell_type": "markdown",
      "metadata": {
        "id": "rqjqrpcf6kAP"
      },
      "source": [
        "## 5. PDF"
      ]
    },
    {
      "cell_type": "code",
      "metadata": {
        "id": "dTd-e6wyNHcI"
      },
      "source": [
        "a = np.arange(2 * 4 ).reshape((2, 4))\n",
        "b = np.arange(2 * 4).reshape(( 2, 4))"
      ],
      "execution_count": 31,
      "outputs": []
    },
    {
      "cell_type": "code",
      "metadata": {
        "colab": {
          "base_uri": "https://localhost:8080/"
        },
        "id": "8br-JWnTNRAQ",
        "outputId": "82d6ae5e-9bc4-4594-8a35-aeac177dbede"
      },
      "source": [
        "a.shape, b.shape"
      ],
      "execution_count": 32,
      "outputs": [
        {
          "output_type": "execute_result",
          "data": {
            "text/plain": [
              "((2, 4), (2, 4))"
            ]
          },
          "metadata": {},
          "execution_count": 32
        }
      ]
    },
    {
      "cell_type": "code",
      "metadata": {
        "colab": {
          "base_uri": "https://localhost:8080/"
        },
        "id": "J3rAfObSNUF0",
        "outputId": "dbb2ef5d-e2e6-45f5-d2b2-85b4071d0d1a"
      },
      "source": [
        "np.matmul(a.T,b).shape"
      ],
      "execution_count": 33,
      "outputs": [
        {
          "output_type": "execute_result",
          "data": {
            "text/plain": [
              "(4, 4)"
            ]
          },
          "metadata": {},
          "execution_count": 33
        }
      ]
    },
    {
      "cell_type": "markdown",
      "metadata": {
        "id": "Ur9XOxUfR8Tu"
      },
      "source": [
        "![image.png](data:image/png;base64,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)"
      ]
    },
    {
      "cell_type": "code",
      "metadata": {
        "id": "BUqpjMLUR797"
      },
      "source": [
        ""
      ],
      "execution_count": 33,
      "outputs": []
    },
    {
      "cell_type": "code",
      "metadata": {
        "id": "b3hg_fDLXdAn"
      },
      "source": [
        "def pdf(X, m, S):\n",
        "    \"\"\"calculate the pdf of the multinormal distribution\"\"\"\n",
        "    if type(X) is not np.ndarray or X.ndim != 2:\n",
        "        return None\n",
        "    d = X.shape[1]\n",
        "    if type(m) is not np.ndarray or m.ndim != 1 or m.shape[0] != d:\n",
        "        return None\n",
        "    if type(S) is not np.ndarray or S.ndim != 2 or S.shape != (d, d):\n",
        "        return None\n",
        "\n",
        "    Xm = X - m\n",
        "    e = - 0.5 * np.sum(Xm * np.matmul(np.linalg.inv(S), Xm.T).T, axis=1)\n",
        "    num = np.exp(e)\n",
        "    det = np.linalg.det(S)\n",
        "    prob = num / np.sqrt(((2 * np.pi) ** d) * det)\n",
        "    return  np.maximum(prob, 1e-300) # should have a minimum value of 1e-300"
      ],
      "execution_count": 34,
      "outputs": []
    },
    {
      "cell_type": "code",
      "metadata": {
        "colab": {
          "base_uri": "https://localhost:8080/"
        },
        "id": "sVqUUnieS_Oc",
        "outputId": "cf575bf9-d2b7-4be5-8f47-fd64c4bcac02"
      },
      "source": [
        "if __name__ == '__main__':\n",
        " \n",
        "    np.random.seed(0)\n",
        "    m = np.array([12, 30, 10])\n",
        "    S = np.array([[36, -30, 15], [-30, 100, -20], [15, -20, 25]])\n",
        "    X = np.random.multivariate_normal(m, S, 10000)\n",
        "    P = pdf(X, m, S)\n",
        "    print(P)"
      ],
      "execution_count": 35,
      "outputs": [
        {
          "output_type": "stream",
          "name": "stdout",
          "text": [
            "[3.47450910e-05 2.53649178e-06 1.80348301e-04 ... 1.24604061e-04\n",
            " 1.86345129e-04 2.59397003e-05]\n"
          ]
        }
      ]
    },
    {
      "cell_type": "markdown",
      "metadata": {
        "id": "CwMIcrfDUtul"
      },
      "source": [
        "# 6. Expectation"
      ]
    },
    {
      "cell_type": "code",
      "metadata": {
        "id": "IlQpbzTcTEOS"
      },
      "source": [
        "#!/usr/bin/env python3\n",
        "\"\"\" Expectation\"\"\"\n",
        "import numpy as np\n",
        "\n",
        "\n",
        "def expectation(X, pi, m, S):\n",
        "    \"\"\"calculate the expectation step in the EM algorithm for a GMM\"\"\"\n",
        "    if type(X) is not np.ndarray or X.ndim != 2:\n",
        "        return None, None\n",
        "    d = X.shape[1]\n",
        "    if type(pi) is not np.ndarray or pi.ndim != 1 or not np.isclose(np.sum(pi), 1):\n",
        "        return None, None\n",
        "    k = pi.shape[0]\n",
        "    if type(m) is not np.ndarray or m.ndim != 2 or m.shape != (k, d):\n",
        "        return None, None\n",
        "    if type(S) is not np.ndarray or S.ndim != 3 or S.shape != (k, d, d):\n",
        "        return None, None\n",
        "\n",
        "    n = X.shape[0]\n",
        "    k = pi.shape[0]\n",
        "    g = np.zeros((k, n))\n",
        "\n",
        "    for i in range(k):\n",
        "        g[i] = pi[i] * pdf(X, m[i], S[i])\n",
        "    l = np.sum(g, axis=0, keepdims=True)\n",
        "    g = g / l\n",
        "    return g, np.sum(np.log(l))\n"
      ],
      "execution_count": 36,
      "outputs": []
    },
    {
      "cell_type": "code",
      "metadata": {
        "colab": {
          "base_uri": "https://localhost:8080/"
        },
        "id": "xrghLCAEbAQJ",
        "outputId": "5f490cfa-b25d-437d-bc1f-0fd81ab0be51"
      },
      "source": [
        "np.random.seed(11)\n",
        "a = np.random.multivariate_normal([30, 40], [[75, 5], [5, 75]], size=10000)\n",
        "b = np.random.multivariate_normal([5, 25], [[16, 10], [10, 16]], size=750)\n",
        "c = np.random.multivariate_normal([60, 30], [[16, 0], [0, 16]], size=750)\n",
        "d = np.random.multivariate_normal([20, 70], [[35, 10], [10, 35]], size=1000)\n",
        "X = np.concatenate((a, b, c, d), axis=0)\n",
        "np.random.shuffle(X)\n",
        "pi, m, S = initialize(X, 4)\n",
        "g, l = expectation(X, pi, m, S)\n",
        "print(g)\n",
        "print(np.sum(g, axis=0))\n",
        "print(l)"
      ],
      "execution_count": 37,
      "outputs": [
        {
          "output_type": "stream",
          "name": "stdout",
          "text": [
            "[[1.98542668e-055 1.00000000e+000 1.56526421e-185 ... 1.00000000e+000\n",
            "  3.70567311e-236 1.91892348e-012]\n",
            " [6.97883333e-085 2.28658376e-279 9.28518983e-065 ... 8.12227631e-287\n",
            "  1.53690661e-032 3.17417182e-181]\n",
            " [9.79811365e-234 2.28658376e-279 2.35073465e-095 ... 1.65904890e-298\n",
            "  9.62514613e-068 5.67072057e-183]\n",
            " [1.00000000e+000 7.21133039e-186 1.00000000e+000 ... 2.42138447e-125\n",
            "  1.00000000e+000 1.00000000e+000]]\n",
            "[1. 1. 1. ... 1. 1. 1.]\n",
            "-652797.7866541843\n"
          ]
        }
      ]
    },
    {
      "cell_type": "markdown",
      "metadata": {
        "id": "ytZ_UvzAb_Km"
      },
      "source": [
        "## 7. Maximization"
      ]
    },
    {
      "cell_type": "code",
      "metadata": {
        "id": "XhEiw8P7bDoI"
      },
      "source": [
        "#!/usr/bin/env python3\n",
        "\"\"\" Maximization \"\"\"\n",
        "import numpy as np\n",
        "\n",
        "def maximization(X, g):\n",
        "    \"\"\"calculate maximization of all points\"\"\"\n",
        "    if type(X) is not np.ndarray or X.ndim != 2:\n",
        "        return None, None, None\n",
        "    n, d = X.shape\n",
        "    if type(g) is not np.ndarray or g.ndim != 2 or g.shape[1] != n or not np.allclose(np.sum(g, axis=0), np.ones(g.shape[1])):\n",
        "        return None, None, None\n",
        "    k = g.shape[0]\n",
        "    m = np.zeros((k, d))\n",
        "    S = np.zeros((k, d, d))\n",
        "\n",
        "    nk = np.sum(g, axis=1)\n",
        "    pi = nk / n\n",
        "    \n",
        "    for i in range(k):\n",
        "        gi = g[i].reshape((-1, 1))\n",
        "        m[i] = np.sum(gi * X, axis=0) / nk[i]\n",
        "        Xm = X - m[i]\n",
        "        S[i] = np.matmul(Xm.T, Xm * gi) / nk[i]\n",
        "    return pi, m, S\n"
      ],
      "execution_count": 38,
      "outputs": []
    },
    {
      "cell_type": "code",
      "metadata": {
        "colab": {
          "base_uri": "https://localhost:8080/"
        },
        "id": "ZFQu_CzbdKBI",
        "outputId": "3c0ec4c9-f8d6-496b-80a3-2a0c2f0ecde4"
      },
      "source": [
        "if __name__ == '__main__':\n",
        "    np.random.seed(11)\n",
        "    a = np.random.multivariate_normal([30, 40], [[75, 5], [5, 75]], size=10000)\n",
        "    b = np.random.multivariate_normal([5, 25], [[16, 10], [10, 16]], size=750)\n",
        "    c = np.random.multivariate_normal([60, 30], [[16, 0], [0, 16]], size=750)\n",
        "    d = np.random.multivariate_normal([20, 70], [[35, 10], [10, 35]], size=1000)\n",
        "    X = np.concatenate((a, b, c, d), axis=0)\n",
        "    np.random.shuffle(X)\n",
        "    pi, m, S = initialize(X, 4)\n",
        "    g, _ = expectation(X, pi, m, S)\n",
        "    pi, m, S = maximization(X, g)\n",
        "    print(pi)\n",
        "    print(m)\n",
        "    print(S)"
      ],
      "execution_count": 39,
      "outputs": [
        {
          "output_type": "stream",
          "name": "stdout",
          "text": [
            "[0.10104901 0.24748822 0.1193333  0.53212947]\n",
            "[[54.7440558  31.80888393]\n",
            " [16.84099873 31.20560148]\n",
            " [21.42588061 65.51441875]\n",
            " [32.33208369 41.80830251]]\n",
            "[[[64.05063663 -2.13941814]\n",
            "  [-2.13941814 41.90354928]]\n",
            "\n",
            " [[72.72404579  9.96322554]\n",
            "  [ 9.96322554 53.05035303]]\n",
            "\n",
            " [[46.20933259  1.08979413]\n",
            "  [ 1.08979413 66.9841323 ]]\n",
            "\n",
            " [[35.04054823 -0.94790014]\n",
            "  [-0.94790014 45.14948772]]]\n"
          ]
        }
      ]
    },
    {
      "cell_type": "markdown",
      "metadata": {
        "id": "Efcj9h4ddPcK"
      },
      "source": [
        "## 8. EM"
      ]
    },
    {
      "cell_type": "code",
      "metadata": {
        "id": "w98bWnkLdMj_"
      },
      "source": [
        "#!/usr/bin/env python3\n",
        "\"\"\"EM\"\"\"\n",
        "import numpy as np\n",
        "\n",
        "\n",
        "def expectation_maximization(X, k, iterations=1000, tol=1e-5, verbose=False):\n",
        "    \"\"\"performs the EM algorithm\"\"\"\n",
        "    if type(X) is not np.ndarray or X.ndim != 2:\n",
        "        return None, None, None, None, None\n",
        "    if type(k) is not int or int(k) != k or k < 1:\n",
        "        return None, None, None, None, None\n",
        "    if type(iterations) is not int or int(iterations) != iterations or iterations < 1:\n",
        "        return None, None, None, None, None\n",
        "    if type(tol) is not float or tol < 0:\n",
        "        return None, None, None, None, None\n",
        "    if type(verbose) is not bool:\n",
        "        return None, None, None, None, None\n",
        "    pi, m, S = initialize(X, k)\n",
        "    lo = None\n",
        "    for i in range(iterations):\n",
        "        g, l = expectation(X, pi, m, S)\n",
        "        if lo is not None and np.abs(l - lo) <= tol:\n",
        "            if verbose:\n",
        "                print('Log Likelihood after {} iterations: {}'.format(i, l.round(5)))\n",
        "            break\n",
        "        if verbose and i % 10 == 0:\n",
        "            print('Log Likelihood after {} iterations: {}'.format(i, l.round(5)))\n",
        "        pi, m, S = maximization(X, g)\n",
        "        lo = l\n",
        "    else:\n",
        "        g, l = expectation(X, pi, m, S)\n",
        "        if verbose:\n",
        "            print('Log Likelihood after {} iterations: {}'.format(iterations, l.round(5)))\n",
        "    return pi, m, S, g, l\n"
      ],
      "execution_count": 40,
      "outputs": []
    },
    {
      "cell_type": "code",
      "metadata": {
        "colab": {
          "base_uri": "https://localhost:8080/",
          "height": 701
        },
        "id": "Bpie7Y03d41z",
        "outputId": "8ced7de4-5689-4a98-bc72-1f39d5674809"
      },
      "source": [
        "if __name__ == '__main__':\n",
        "    np.random.seed(11)\n",
        "    a = np.random.multivariate_normal([30, 40], [[75, 5], [5, 75]], size=10000)\n",
        "    b = np.random.multivariate_normal([5, 25], [[16, 10], [10, 16]], size=750)\n",
        "    c = np.random.multivariate_normal([60, 30], [[16, 0], [0, 16]], size=750)\n",
        "    d = np.random.multivariate_normal([20, 70], [[35, 10], [10, 35]], size=1000)\n",
        "    X = np.concatenate((a, b, c, d), axis=0)\n",
        "    np.random.shuffle(X)\n",
        "    k = 4\n",
        "    pi, m, S, g, l = expectation_maximization(X, k, 150, verbose=True)\n",
        "    clss = np.sum(g * np.arange(k).reshape(k, 1), axis=0)\n",
        "    plt.scatter(X[:, 0], X[:, 1], s=20, c=clss)\n",
        "    plt.scatter(m[:, 0], m[:, 1], s=50, c=np.arange(k), marker='*')\n",
        "    plt.show()\n",
        "    print(X.shape[0] * pi)\n",
        "    print(m)\n",
        "    print(S)\n",
        "    print(l)"
      ],
      "execution_count": 41,
      "outputs": [
        {
          "output_type": "stream",
          "name": "stdout",
          "text": [
            "Log Likelihood after 0 iterations: -652797.78665\n",
            "Log Likelihood after 10 iterations: -94855.45662\n",
            "Log Likelihood after 20 iterations: -94714.52057\n",
            "Log Likelihood after 30 iterations: -94590.87362\n",
            "Log Likelihood after 40 iterations: -94440.40559\n",
            "Log Likelihood after 50 iterations: -94439.93891\n",
            "Log Likelihood after 52 iterations: -94439.93889\n"
          ]
        },
        {
          "output_type": "display_data",
          "data": {
            "image/png": "[encoded data removed]",
            "text/plain": [
              "<Figure size 432x288 with 1 Axes>"
            ]
          },
          "metadata": {
            "needs_background": "light"
          }
        },
        {
          "output_type": "stream",
          "name": "stdout",
          "text": [
            "[ 761.03239903  747.62391034 1005.60275934 9985.74093129]\n",
            "[[60.18888335 30.19707607]\n",
            " [ 5.05794926 24.92588821]\n",
            " [20.03438453 69.84721009]\n",
            " [29.89607379 40.12519148]]\n",
            "[[[16.85183426  0.2547388 ]\n",
            "  [ 0.2547388  16.49432111]]\n",
            "\n",
            " [[15.19555672  9.62661086]\n",
            "  [ 9.62661086 15.47295413]]\n",
            "\n",
            " [[35.58332494 11.08419454]\n",
            "  [11.08419454 33.09463207]]\n",
            "\n",
            " [[74.52083678  5.20755533]\n",
            "  [ 5.20755533 73.87299705]]]\n",
            "-94439.93889004056\n"
          ]
        }
      ]
    },
    {
      "cell_type": "markdown",
      "metadata": {
        "id": "UWCJEIE4fSli"
      },
      "source": [
        "## 9-BIC.py"
      ]
    },
    {
      "cell_type": "code",
      "metadata": {
        "id": "seuRfjoRd8TW"
      },
      "source": [
        "#!/usr/bin/env python3\n",
        "\"\"\" BIC \"\"\"\n",
        "import numpy as np\n",
        "\n",
        "\n",
        "def BIC(X, kmin=1, kmax=None, iterations=1000, tol=1e-5, verbose=False):\n",
        "    \"\"\"calculates BIC over various \"\"\"\n",
        "    if type(X) is not np.ndarray or X.ndim != 2:\n",
        "        return None, None, None, None\n",
        "    n, d = X.shape\n",
        "    if type(kmin) is not int or kmin != int(kmin) or kmin < 1:\n",
        "        return None, None, None, None\n",
        "    if kmax is None:\n",
        "        kmax = n \n",
        "    if type(kmax) is not int or kmax != int(kmax) or kmax < 1:\n",
        "        return None, None, None, None\n",
        "    if kmax <= kmin:\n",
        "        return None, None, None, None\n",
        "    if type(iterations) is not int or iterations != int(iterations) or iterations < 1:\n",
        "        return None, None, None, None\n",
        "    if type(tol) is not float or tol < 0:\n",
        "        return None, None, None, None\n",
        "    if type(verbose) is not bool:\n",
        "        return None, None, None, None\n",
        "\n",
        "    b = np.zeros(kmax + 1 - kmin)\n",
        "    l = np.zeros(kmax + 1 - kmin)\n",
        "    results = []\n",
        "\n",
        "    for k in range(kmin, kmax + 1):\n",
        "        pi, m, S, _, l[k - kmin] = expectation_maximization(X, k, iterations=iterations, tol=tol, verbose=verbose)\n",
        "        results.append((pi, m, S))\n",
        "        p = k * (d + 2) * (d + 1) / 2 - 1\n",
        "        b[k - kmin] = p * np.log(n) - 2 * l[k - kmin]\n",
        "\n",
        "    amin = np.argmin(b)\n",
        "    best_k = amin + kmin\n",
        "    best_result = results[amin]\n",
        "    return best_k, best_result, l, b\n"
      ],
      "execution_count": 42,
      "outputs": []
    },
    {
      "cell_type": "code",
      "metadata": {
        "colab": {
          "base_uri": "https://localhost:8080/",
          "height": 959
        },
        "id": "HixSMoMMfTk0",
        "outputId": "735c3802-09fa-4c3a-94d4-b4116f0f6fba"
      },
      "source": [
        "\n",
        "if __name__ == '__main__':\n",
        "    np.random.seed(11)\n",
        "    a = np.random.multivariate_normal([30, 40], [[75, 5], [5, 75]], size=10000)\n",
        "    b = np.random.multivariate_normal([5, 25], [[16, 10], [10, 16]], size=750)\n",
        "    c = np.random.multivariate_normal([60, 30], [[16, 0], [0, 16]], size=750)\n",
        "    d = np.random.multivariate_normal([20, 70], [[35, 10], [10, 35]], size=1000)\n",
        "    X = np.concatenate((a, b, c, d), axis=0)\n",
        "    np.random.shuffle(X)\n",
        "    best_k, best_result, l, b = BIC(X, kmin=1, kmax=10)\n",
        "    print(best_k)\n",
        "    print(best_result)\n",
        "    print(l)\n",
        "    print(b)\n",
        "    x = np.arange(1, 11)\n",
        "    plt.plot(x, l, 'r')\n",
        "    plt.xlabel('Clusters')\n",
        "    plt.ylabel('Log Likelihood')\n",
        "    plt.tight_layout()\n",
        "    plt.show()\n",
        "    plt.plot(x, b, 'b')\n",
        "    plt.xlabel('Clusters')\n",
        "    plt.ylabel('BIC')\n",
        "    plt.tight_layout()\n",
        "    plt.show()"
      ],
      "execution_count": 43,
      "outputs": [
        {
          "output_type": "stream",
          "name": "stdout",
          "text": [
            "4\n",
            "(array([0.79885962, 0.08044842, 0.06088258, 0.05980938]), array([[29.89606417, 40.12518027],\n",
            "       [20.0343883 , 69.84718588],\n",
            "       [60.18888407, 30.19707372],\n",
            "       [ 5.05788987, 24.92583792]]), array([[[74.52101284,  5.20770764],\n",
            "        [ 5.20770764, 73.8729309 ]],\n",
            "\n",
            "       [[35.58334497, 11.08416742],\n",
            "        [11.08416742, 33.09483747]],\n",
            "\n",
            "       [[16.85183256,  0.25475122],\n",
            "        [ 0.25475122, 16.4943092 ]],\n",
            "\n",
            "       [[15.19520213,  9.62633552],\n",
            "        [ 9.62633552, 15.47268905]]]))\n",
            "[-98801.40298366 -96729.95558846 -95798.40406023 -94439.93888882\n",
            " -94435.87750008 -94428.62217176 -94426.71159745 -94425.5860871\n",
            " -94421.41864281 -94416.43390835]\n",
            "[197649.97338694 193563.67950008 191757.17734716 189096.84790787\n",
            " 189145.32603394 189187.41628084 189240.19603576 189294.54591859\n",
            " 189342.81193356 189389.44336818]\n"
          ]
        },
        {
          "output_type": "display_data",
          "data": {
            "image/png": "[encoded data removed]",
            "text/plain": [
              "<Figure size 432x288 with 1 Axes>"
            ]
          },
          "metadata": {
            "needs_background": "light"
          }
        },
        {
          "output_type": "display_data",
          "data": {
            "image/png": "[encoded data removed]",
            "text/plain": [
              "<Figure size 432x288 with 1 Axes>"
            ]
          },
          "metadata": {
            "needs_background": "light"
          }
        }
      ]
    },
    {
      "cell_type": "markdown",
      "metadata": {
        "id": "VrUz48DEfhEH"
      },
      "source": [
        "## 10. Hello, sklearn!"
      ]
    },
    {
      "cell_type": "code",
      "metadata": {
        "id": "LBACikXrfadp"
      },
      "source": [
        "#!/usr/bin/env python3\n",
        "\"\"\" Kmeans using sklearn \"\"\"\n",
        "#import numpy as np\n",
        "import sklearn.cluster\n",
        "\n",
        "\n",
        "def kmeans(X, k):\n",
        "    \"\"\"performs K-means on a dataset\"\"\"\n",
        "    kmeans = sklearn.cluster.KMeans(n_clusters=k).fit(X)\n",
        "    C = kmeans.cluster_centers_\n",
        "    clss = kmeans.labels_\n",
        "    return C, clss\n"
      ],
      "execution_count": 44,
      "outputs": []
    },
    {
      "cell_type": "code",
      "metadata": {
        "colab": {
          "base_uri": "https://localhost:8080/",
          "height": 355
        },
        "id": "3f0nG_oygq5S",
        "outputId": "6a01cf47-443a-4e5a-fb9b-6564ce828e99"
      },
      "source": [
        "if __name__ == \"__main__\":\n",
        "    np.random.seed(0)\n",
        "    a = np.random.multivariate_normal([30, 40], [[16, 0], [0, 16]], size=50)\n",
        "    b = np.random.multivariate_normal([10, 25], [[16, 0], [0, 16]], size=50)\n",
        "    c = np.random.multivariate_normal([40, 20], [[16, 0], [0, 16]], size=50)\n",
        "    d = np.random.multivariate_normal([60, 30], [[16, 0], [0, 16]], size=50)\n",
        "    e = np.random.multivariate_normal([20, 70], [[16, 0], [0, 16]], size=50)\n",
        "    X = np.concatenate((a, b, c, d, e), axis=0)\n",
        "    np.random.shuffle(X)\n",
        "\n",
        "    C, clss = kmeans(X, 5)\n",
        "    print(C)\n",
        "    plt.scatter(X[:, 0], X[:, 1], s=10, c=clss)\n",
        "    plt.scatter(C[:, 0], C[:, 1], s=50, marker='*', c=list(range(5)))\n",
        "    plt.show()"
      ],
      "execution_count": 45,
      "outputs": [
        {
          "output_type": "stream",
          "name": "stdout",
          "text": [
            "[[20.0835633  69.81592298]\n",
            " [59.22766628 29.19796006]\n",
            " [30.06722465 40.41123947]\n",
            " [ 9.92511389 25.73098987]\n",
            " [39.62770705 19.89843487]]\n"
          ]
        },
        {
          "output_type": "display_data",
          "data": {
            "image/png": "[encoded data removed]",
            "text/plain": [
              "<Figure size 432x288 with 1 Axes>"
            ]
          },
          "metadata": {
            "needs_background": "light"
          }
        }
      ]
    },
    {
      "cell_type": "markdown",
      "metadata": {
        "id": "omHp8JxKiEWd"
      },
      "source": [
        "## 11. GMM:\n"
      ]
    },
    {
      "cell_type": "code",
      "metadata": {
        "id": "sXHY4Fr3gtBL"
      },
      "source": [
        "#!/usr/bin/env python3\n",
        "import sklearn.mixture\n",
        "\n",
        "\n",
        "def gmm(X, k):\n",
        "    \"\"\"calculates a GMM from a dataset\"\"\"\n",
        "    g = sklearn.mixture.GaussianMixture(n_components=k)\n",
        "    # Generate random observations with two modes centered on 0\n",
        "    # and 10 to use for training.\n",
        "    g.fit(X) \n",
        "    pi = g.weights_\n",
        "    m = g.means_\n",
        "    S = g.covariances_\n",
        "\n",
        "    clss = g.predict(X)\n",
        "    bic = g.bic(X)\n",
        "\n",
        "    return pi, m, S, clss, bic\n",
        "\n"
      ],
      "execution_count": 46,
      "outputs": []
    },
    {
      "cell_type": "code",
      "metadata": {
        "colab": {
          "base_uri": "https://localhost:8080/",
          "height": 574
        },
        "id": "NPpCGuJhjfqx",
        "outputId": "7fa8eb72-d33d-4b65-f670-fa244f8230a5"
      },
      "source": [
        "if __name__ == '__main__':\n",
        "    np.random.seed(11)\n",
        "    a = np.random.multivariate_normal([30, 40], [[75, 5], [5, 75]], size=10000)\n",
        "    b = np.random.multivariate_normal([5, 25], [[16, 10], [10, 16]], size=750)\n",
        "    c = np.random.multivariate_normal([60, 30], [[16, 0], [0, 16]], size=750)\n",
        "    d = np.random.multivariate_normal([20, 70], [[35, 10], [10, 35]], size=1000)\n",
        "    X = np.concatenate((a, b, c, d), axis=0)\n",
        "    np.random.shuffle(X)\n",
        "\n",
        "    pi, m, S, clss, bic = gmm(X, 4)\n",
        "    print(pi)\n",
        "    print(m)\n",
        "    print(S)\n",
        "    print(bic)\n",
        "    plt.scatter(X[:, 0], X[:, 1], s=10, c=clss)\n",
        "    plt.scatter(m[:, 0], m[:, 1], s=50, marker='*', c=list(range(4)))\n",
        "    plt.show()"
      ],
      "execution_count": 47,
      "outputs": [
        {
          "output_type": "stream",
          "name": "stdout",
          "text": [
            "[0.06056715 0.15664423 0.07861691 0.70417171]\n",
            "[[60.23243716 30.22540976]\n",
            " [17.23466059 32.21829334]\n",
            " [20.00760431 70.01916458]\n",
            " [30.5901298  40.64433308]]\n",
            "[[[ 1.65441658e+01  9.58167200e-02]\n",
            "  [ 9.58167200e-02  1.65751132e+01]]\n",
            "\n",
            " [[ 1.42279616e+02  7.97904717e+01]\n",
            "  [ 7.97904717e+01  6.38223627e+01]]\n",
            "\n",
            " [[ 3.54622294e+01  1.12790828e+01]\n",
            "  [ 1.12790828e+01  3.20886074e+01]]\n",
            "\n",
            " [[ 7.09564499e+01 -2.22335546e+00]\n",
            "  [-2.22335546e+00  7.78124575e+01]]]\n",
            "189729.73950241003\n"
          ]
        },
        {
          "output_type": "display_data",
          "data": {
            "image/png": "[encoded data removed]",
            "text/plain": [
              "<Figure size 432x288 with 1 Axes>"
            ]
          },
          "metadata": {
            "needs_background": "light"
          }
        }
      ]
    },
    {
      "cell_type": "markdown",
      "metadata": {
        "id": "TyYhjzZWlHQM"
      },
      "source": [
        "## 12. Agglomerative"
      ]
    },
    {
      "cell_type": "code",
      "metadata": {
        "id": "QTGKIA9Ijhup"
      },
      "source": [
        "#!/usr/bin/env python3\n",
        "\"\"\" Agglomerative \"\"\"\n",
        "import scipy.cluster.hierarchy\n",
        "import matplotlib.pyplot as plt\n",
        "\n",
        "\n",
        "def agglomerative(X, dist):\n",
        "    \"\"\" perform agglomerative clustering on a dataset \"\"\"\n",
        "    h = scipy.cluster.hierarchy\n",
        "    Z = h.linkage(X, 'ward')\n",
        "    ind = h.fcluster(Z, t=dist, criterion=\"distance\")\n",
        "    fig = plt.figure()\n",
        "    dn = h.dendrogram(Z, color_threshold=dist)\n",
        "    plt.show()\n",
        "    return ind\n"
      ],
      "execution_count": 53,
      "outputs": []
    },
    {
      "cell_type": "code",
      "metadata": {
        "colab": {
          "base_uri": "https://localhost:8080/",
          "height": 513
        },
        "id": "vZ4F0UYhlEsE",
        "outputId": "c5ba0c9a-4f11-44aa-d16c-72865c16b66f"
      },
      "source": [
        "\n",
        "if __name__ == '__main__':\n",
        "    np.random.seed(0)\n",
        "    a = np.random.multivariate_normal([30, 40], [[16, 0], [0, 16]], size=50)\n",
        "    b = np.random.multivariate_normal([10, 25], [[16, 0], [0, 16]], size=50)\n",
        "    c = np.random.multivariate_normal([40, 20], [[16, 0], [0, 16]], size=50)\n",
        "    d = np.random.multivariate_normal([60, 30], [[16, 0], [0, 16]], size=100)\n",
        "    e = np.random.multivariate_normal([20, 70], [[16, 0], [0, 16]], size=100)\n",
        "    X = np.concatenate((a, b, c, d, e), axis=0)\n",
        "    np.random.shuffle(X)\n",
        "\n",
        "    clss = agglomerative(X, 100)\n",
        "    plt.scatter(X[:, 0], X[:, 1], s=10, c=clss)\n",
        "    plt.show()"
      ],
      "execution_count": 54,
      "outputs": [
        {
          "output_type": "display_data",
          "data": {
            "image/png": "[encoded data removed]",
            "text/plain": [
              "<Figure size 432x288 with 1 Axes>"
            ]
          },
          "metadata": {
            "needs_background": "light"
          }
        },
        {
          "output_type": "display_data",
          "data": {
            "image/png": "[encoded data removed]",
            "text/plain": [
              "<Figure size 432x288 with 1 Axes>"
            ]
          },
          "metadata": {
            "needs_background": "light"
          }
        }
      ]
    },
    {
      "cell_type": "code",
      "metadata": {
        "id": "H1G5b5H5lKZk"
      },
      "source": [
        ""
      ],
      "execution_count": null,
      "outputs": []
    }
  ]
}