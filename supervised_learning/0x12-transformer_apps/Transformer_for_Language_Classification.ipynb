{
  "nbformat": 4,
  "nbformat_minor": 0,
  "metadata": {
    "colab": {
      "name": " Transformer for Language Classification.ipynb",
      "provenance": []
    },
    "kernelspec": {
      "name": "python3",
      "display_name": "Python 3"
    },
    "language_info": {
      "name": "python"
    },
    "accelerator": "GPU",
    "widgets": {
      "application/vnd.jupyter.widget-state+json": {
        "51ad91c38f504acb9be5e345b02c51ce": {
          "model_module": "@jupyter-widgets/controls",
          "model_name": "HBoxModel",
          "model_module_version": "1.5.0",
          "state": {
            "_view_name": "HBoxView",
            "_dom_classes": [],
            "_model_name": "HBoxModel",
            "_view_module": "@jupyter-widgets/controls",
            "_model_module_version": "1.5.0",
            "_view_count": null,
            "_view_module_version": "1.5.0",
            "box_style": "",
            "layout": "IPY_MODEL_1c10ae5384a94709b3fdbc6a3ed6b451",
            "_model_module": "@jupyter-widgets/controls",
            "children": [
              "IPY_MODEL_de0a75d2377e49aba6b9186bfae54204",
              "IPY_MODEL_baac30da046143f58c72b270885536f9",
              "IPY_MODEL_4c771c53427542c0b9b511d3c470d43a"
            ]
          }
        },
        "1c10ae5384a94709b3fdbc6a3ed6b451": {
          "model_module": "@jupyter-widgets/base",
          "model_name": "LayoutModel",
          "model_module_version": "1.2.0",
          "state": {
            "_view_name": "LayoutView",
            "grid_template_rows": null,
            "right": null,
            "justify_content": null,
            "_view_module": "@jupyter-widgets/base",
            "overflow": null,
            "_model_module_version": "1.2.0",
            "_view_count": null,
            "flex_flow": null,
            "width": null,
            "min_width": null,
            "border": null,
            "align_items": null,
            "bottom": null,
            "_model_module": "@jupyter-widgets/base",
            "top": null,
            "grid_column": null,
            "overflow_y": null,
            "overflow_x": null,
            "grid_auto_flow": null,
            "grid_area": null,
            "grid_template_columns": null,
            "flex": null,
            "_model_name": "LayoutModel",
            "justify_items": null,
            "grid_row": null,
            "max_height": null,
            "align_content": null,
            "visibility": null,
            "align_self": null,
            "height": null,
            "min_height": null,
            "padding": null,
            "grid_auto_rows": null,
            "grid_gap": null,
            "max_width": null,
            "order": null,
            "_view_module_version": "1.2.0",
            "grid_template_areas": null,
            "object_position": null,
            "object_fit": null,
            "grid_auto_columns": null,
            "margin": null,
            "display": null,
            "left": null
          }
        },
        "de0a75d2377e49aba6b9186bfae54204": {
          "model_module": "@jupyter-widgets/controls",
          "model_name": "HTMLModel",
          "model_module_version": "1.5.0",
          "state": {
            "_view_name": "HTMLView",
            "style": "IPY_MODEL_53dde1d0748c4f7989a8896fb0f62781",
            "_dom_classes": [],
            "description": "",
            "_model_name": "HTMLModel",
            "placeholder": "​",
            "_view_module": "@jupyter-widgets/controls",
            "_model_module_version": "1.5.0",
            "value": "Downloading: 100%",
            "_view_count": null,
            "_view_module_version": "1.5.0",
            "description_tooltip": null,
            "_model_module": "@jupyter-widgets/controls",
            "layout": "IPY_MODEL_866e25d2857149e79e4800b0e7f338ae"
          }
        },
        "baac30da046143f58c72b270885536f9": {
          "model_module": "@jupyter-widgets/controls",
          "model_name": "FloatProgressModel",
          "model_module_version": "1.5.0",
          "state": {
            "_view_name": "ProgressView",
            "style": "IPY_MODEL_dd523f9d25264c4ca83a77a9b501d077",
            "_dom_classes": [],
            "description": "",
            "_model_name": "FloatProgressModel",
            "bar_style": "success",
            "max": 29,
            "_view_module": "@jupyter-widgets/controls",
            "_model_module_version": "1.5.0",
            "value": 29,
            "_view_count": null,
            "_view_module_version": "1.5.0",
            "orientation": "horizontal",
            "min": 0,
            "description_tooltip": null,
            "_model_module": "@jupyter-widgets/controls",
            "layout": "IPY_MODEL_7d3729708d4a468dbc704d349446519e"
          }
        },
        "4c771c53427542c0b9b511d3c470d43a": {
          "model_module": "@jupyter-widgets/controls",
          "model_name": "HTMLModel",
          "model_module_version": "1.5.0",
          "state": {
            "_view_name": "HTMLView",
            "style": "IPY_MODEL_4aa9004c29af45538eb1784f5d66e337",
            "_dom_classes": [],
            "description": "",
            "_model_name": "HTMLModel",
            "placeholder": "​",
            "_view_module": "@jupyter-widgets/controls",
            "_model_module_version": "1.5.0",
            "value": " 29.0/29.0 [00:00&lt;00:00, 821B/s]",
            "_view_count": null,
            "_view_module_version": "1.5.0",
            "description_tooltip": null,
            "_model_module": "@jupyter-widgets/controls",
            "layout": "IPY_MODEL_79bde5c3b13e4e6789d5ae30c757c0da"
          }
        },
        "53dde1d0748c4f7989a8896fb0f62781": {
          "model_module": "@jupyter-widgets/controls",
          "model_name": "DescriptionStyleModel",
          "model_module_version": "1.5.0",
          "state": {
            "_view_name": "StyleView",
            "_model_name": "DescriptionStyleModel",
            "description_width": "",
            "_view_module": "@jupyter-widgets/base",
            "_model_module_version": "1.5.0",
            "_view_count": null,
            "_view_module_version": "1.2.0",
            "_model_module": "@jupyter-widgets/controls"
          }
        },
        "866e25d2857149e79e4800b0e7f338ae": {
          "model_module": "@jupyter-widgets/base",
          "model_name": "LayoutModel",
          "model_module_version": "1.2.0",
          "state": {
            "_view_name": "LayoutView",
            "grid_template_rows": null,
            "right": null,
            "justify_content": null,
            "_view_module": "@jupyter-widgets/base",
            "overflow": null,
            "_model_module_version": "1.2.0",
            "_view_count": null,
            "flex_flow": null,
            "width": null,
            "min_width": null,
            "border": null,
            "align_items": null,
            "bottom": null,
            "_model_module": "@jupyter-widgets/base",
            "top": null,
            "grid_column": null,
            "overflow_y": null,
            "overflow_x": null,
            "grid_auto_flow": null,
            "grid_area": null,
            "grid_template_columns": null,
            "flex": null,
            "_model_name": "LayoutModel",
            "justify_items": null,
            "grid_row": null,
            "max_height": null,
            "align_content": null,
            "visibility": null,
            "align_self": null,
            "height": null,
            "min_height": null,
            "padding": null,
            "grid_auto_rows": null,
            "grid_gap": null,
            "max_width": null,
            "order": null,
            "_view_module_version": "1.2.0",
            "grid_template_areas": null,
            "object_position": null,
            "object_fit": null,
            "grid_auto_columns": null,
            "margin": null,
            "display": null,
            "left": null
          }
        },
        "dd523f9d25264c4ca83a77a9b501d077": {
          "model_module": "@jupyter-widgets/controls",
          "model_name": "ProgressStyleModel",
          "model_module_version": "1.5.0",
          "state": {
            "_view_name": "StyleView",
            "_model_name": "ProgressStyleModel",
            "description_width": "",
            "_view_module": "@jupyter-widgets/base",
            "_model_module_version": "1.5.0",
            "_view_count": null,
            "_view_module_version": "1.2.0",
            "bar_color": null,
            "_model_module": "@jupyter-widgets/controls"
          }
        },
        "7d3729708d4a468dbc704d349446519e": {
          "model_module": "@jupyter-widgets/base",
          "model_name": "LayoutModel",
          "model_module_version": "1.2.0",
          "state": {
            "_view_name": "LayoutView",
            "grid_template_rows": null,
            "right": null,
            "justify_content": null,
            "_view_module": "@jupyter-widgets/base",
            "overflow": null,
            "_model_module_version": "1.2.0",
            "_view_count": null,
            "flex_flow": null,
            "width": null,
            "min_width": null,
            "border": null,
            "align_items": null,
            "bottom": null,
            "_model_module": "@jupyter-widgets/base",
            "top": null,
            "grid_column": null,
            "overflow_y": null,
            "overflow_x": null,
            "grid_auto_flow": null,
            "grid_area": null,
            "grid_template_columns": null,
            "flex": null,
            "_model_name": "LayoutModel",
            "justify_items": null,
            "grid_row": null,
            "max_height": null,
            "align_content": null,
            "visibility": null,
            "align_self": null,
            "height": null,
            "min_height": null,
            "padding": null,
            "grid_auto_rows": null,
            "grid_gap": null,
            "max_width": null,
            "order": null,
            "_view_module_version": "1.2.0",
            "grid_template_areas": null,
            "object_position": null,
            "object_fit": null,
            "grid_auto_columns": null,
            "margin": null,
            "display": null,
            "left": null
          }
        },
        "4aa9004c29af45538eb1784f5d66e337": {
          "model_module": "@jupyter-widgets/controls",
          "model_name": "DescriptionStyleModel",
          "model_module_version": "1.5.0",
          "state": {
            "_view_name": "StyleView",
            "_model_name": "DescriptionStyleModel",
            "description_width": "",
            "_view_module": "@jupyter-widgets/base",
            "_model_module_version": "1.5.0",
            "_view_count": null,
            "_view_module_version": "1.2.0",
            "_model_module": "@jupyter-widgets/controls"
          }
        },
        "79bde5c3b13e4e6789d5ae30c757c0da": {
          "model_module": "@jupyter-widgets/base",
          "model_name": "LayoutModel",
          "model_module_version": "1.2.0",
          "state": {
            "_view_name": "LayoutView",
            "grid_template_rows": null,
            "right": null,
            "justify_content": null,
            "_view_module": "@jupyter-widgets/base",
            "overflow": null,
            "_model_module_version": "1.2.0",
            "_view_count": null,
            "flex_flow": null,
            "width": null,
            "min_width": null,
            "border": null,
            "align_items": null,
            "bottom": null,
            "_model_module": "@jupyter-widgets/base",
            "top": null,
            "grid_column": null,
            "overflow_y": null,
            "overflow_x": null,
            "grid_auto_flow": null,
            "grid_area": null,
            "grid_template_columns": null,
            "flex": null,
            "_model_name": "LayoutModel",
            "justify_items": null,
            "grid_row": null,
            "max_height": null,
            "align_content": null,
            "visibility": null,
            "align_self": null,
            "height": null,
            "min_height": null,
            "padding": null,
            "grid_auto_rows": null,
            "grid_gap": null,
            "max_width": null,
            "order": null,
            "_view_module_version": "1.2.0",
            "grid_template_areas": null,
            "object_position": null,
            "object_fit": null,
            "grid_auto_columns": null,
            "margin": null,
            "display": null,
            "left": null
          }
        },
        "dbbbe4f85f3e477a8ace679d52134853": {
          "model_module": "@jupyter-widgets/controls",
          "model_name": "HBoxModel",
          "model_module_version": "1.5.0",
          "state": {
            "_view_name": "HBoxView",
            "_dom_classes": [],
            "_model_name": "HBoxModel",
            "_view_module": "@jupyter-widgets/controls",
            "_model_module_version": "1.5.0",
            "_view_count": null,
            "_view_module_version": "1.5.0",
            "box_style": "",
            "layout": "IPY_MODEL_19e5344582674d239f1a2c115ad7906e",
            "_model_module": "@jupyter-widgets/controls",
            "children": [
              "IPY_MODEL_abb843cc0d3e460bb97d1f2c852e939c",
              "IPY_MODEL_93aa5c6a0edb4c9b813394e4ab89be11",
              "IPY_MODEL_850c196219bb48adb2323d5d435c0da7"
            ]
          }
        },
        "19e5344582674d239f1a2c115ad7906e": {
          "model_module": "@jupyter-widgets/base",
          "model_name": "LayoutModel",
          "model_module_version": "1.2.0",
          "state": {
            "_view_name": "LayoutView",
            "grid_template_rows": null,
            "right": null,
            "justify_content": null,
            "_view_module": "@jupyter-widgets/base",
            "overflow": null,
            "_model_module_version": "1.2.0",
            "_view_count": null,
            "flex_flow": null,
            "width": null,
            "min_width": null,
            "border": null,
            "align_items": null,
            "bottom": null,
            "_model_module": "@jupyter-widgets/base",
            "top": null,
            "grid_column": null,
            "overflow_y": null,
            "overflow_x": null,
            "grid_auto_flow": null,
            "grid_area": null,
            "grid_template_columns": null,
            "flex": null,
            "_model_name": "LayoutModel",
            "justify_items": null,
            "grid_row": null,
            "max_height": null,
            "align_content": null,
            "visibility": null,
            "align_self": null,
            "height": null,
            "min_height": null,
            "padding": null,
            "grid_auto_rows": null,
            "grid_gap": null,
            "max_width": null,
            "order": null,
            "_view_module_version": "1.2.0",
            "grid_template_areas": null,
            "object_position": null,
            "object_fit": null,
            "grid_auto_columns": null,
            "margin": null,
            "display": null,
            "left": null
          }
        },
        "abb843cc0d3e460bb97d1f2c852e939c": {
          "model_module": "@jupyter-widgets/controls",
          "model_name": "HTMLModel",
          "model_module_version": "1.5.0",
          "state": {
            "_view_name": "HTMLView",
            "style": "IPY_MODEL_b988eafd4d834b3fa6a085111d1603c4",
            "_dom_classes": [],
            "description": "",
            "_model_name": "HTMLModel",
            "placeholder": "​",
            "_view_module": "@jupyter-widgets/controls",
            "_model_module_version": "1.5.0",
            "value": "Downloading: 100%",
            "_view_count": null,
            "_view_module_version": "1.5.0",
            "description_tooltip": null,
            "_model_module": "@jupyter-widgets/controls",
            "layout": "IPY_MODEL_393de5be862b44ce96e1f8c5a6e1e511"
          }
        },
        "93aa5c6a0edb4c9b813394e4ab89be11": {
          "model_module": "@jupyter-widgets/controls",
          "model_name": "FloatProgressModel",
          "model_module_version": "1.5.0",
          "state": {
            "_view_name": "ProgressView",
            "style": "IPY_MODEL_db48db37a3de4d2090ce74c2f3a0139a",
            "_dom_classes": [],
            "description": "",
            "_model_name": "FloatProgressModel",
            "bar_style": "success",
            "max": 570,
            "_view_module": "@jupyter-widgets/controls",
            "_model_module_version": "1.5.0",
            "value": 570,
            "_view_count": null,
            "_view_module_version": "1.5.0",
            "orientation": "horizontal",
            "min": 0,
            "description_tooltip": null,
            "_model_module": "@jupyter-widgets/controls",
            "layout": "IPY_MODEL_c0aa862eec7f4917afc6eb7ea2e7e9c1"
          }
        },
        "850c196219bb48adb2323d5d435c0da7": {
          "model_module": "@jupyter-widgets/controls",
          "model_name": "HTMLModel",
          "model_module_version": "1.5.0",
          "state": {
            "_view_name": "HTMLView",
            "style": "IPY_MODEL_b257c4f98c574bc3998b6ca46eda2f80",
            "_dom_classes": [],
            "description": "",
            "_model_name": "HTMLModel",
            "placeholder": "​",
            "_view_module": "@jupyter-widgets/controls",
            "_model_module_version": "1.5.0",
            "value": " 570/570 [00:00&lt;00:00, 17.6kB/s]",
            "_view_count": null,
            "_view_module_version": "1.5.0",
            "description_tooltip": null,
            "_model_module": "@jupyter-widgets/controls",
            "layout": "IPY_MODEL_f81c5ece52f84afe860c2d87068d64bf"
          }
        },
        "b988eafd4d834b3fa6a085111d1603c4": {
          "model_module": "@jupyter-widgets/controls",
          "model_name": "DescriptionStyleModel",
          "model_module_version": "1.5.0",
          "state": {
            "_view_name": "StyleView",
            "_model_name": "DescriptionStyleModel",
            "description_width": "",
            "_view_module": "@jupyter-widgets/base",
            "_model_module_version": "1.5.0",
            "_view_count": null,
            "_view_module_version": "1.2.0",
            "_model_module": "@jupyter-widgets/controls"
          }
        },
        "393de5be862b44ce96e1f8c5a6e1e511": {
          "model_module": "@jupyter-widgets/base",
          "model_name": "LayoutModel",
          "model_module_version": "1.2.0",
          "state": {
            "_view_name": "LayoutView",
            "grid_template_rows": null,
            "right": null,
            "justify_content": null,
            "_view_module": "@jupyter-widgets/base",
            "overflow": null,
            "_model_module_version": "1.2.0",
            "_view_count": null,
            "flex_flow": null,
            "width": null,
            "min_width": null,
            "border": null,
            "align_items": null,
            "bottom": null,
            "_model_module": "@jupyter-widgets/base",
            "top": null,
            "grid_column": null,
            "overflow_y": null,
            "overflow_x": null,
            "grid_auto_flow": null,
            "grid_area": null,
            "grid_template_columns": null,
            "flex": null,
            "_model_name": "LayoutModel",
            "justify_items": null,
            "grid_row": null,
            "max_height": null,
            "align_content": null,
            "visibility": null,
            "align_self": null,
            "height": null,
            "min_height": null,
            "padding": null,
            "grid_auto_rows": null,
            "grid_gap": null,
            "max_width": null,
            "order": null,
            "_view_module_version": "1.2.0",
            "grid_template_areas": null,
            "object_position": null,
            "object_fit": null,
            "grid_auto_columns": null,
            "margin": null,
            "display": null,
            "left": null
          }
        },
        "db48db37a3de4d2090ce74c2f3a0139a": {
          "model_module": "@jupyter-widgets/controls",
          "model_name": "ProgressStyleModel",
          "model_module_version": "1.5.0",
          "state": {
            "_view_name": "StyleView",
            "_model_name": "ProgressStyleModel",
            "description_width": "",
            "_view_module": "@jupyter-widgets/base",
            "_model_module_version": "1.5.0",
            "_view_count": null,
            "_view_module_version": "1.2.0",
            "bar_color": null,
            "_model_module": "@jupyter-widgets/controls"
          }
        },
        "c0aa862eec7f4917afc6eb7ea2e7e9c1": {
          "model_module": "@jupyter-widgets/base",
          "model_name": "LayoutModel",
          "model_module_version": "1.2.0",
          "state": {
            "_view_name": "LayoutView",
            "grid_template_rows": null,
            "right": null,
            "justify_content": null,
            "_view_module": "@jupyter-widgets/base",
            "overflow": null,
            "_model_module_version": "1.2.0",
            "_view_count": null,
            "flex_flow": null,
            "width": null,
            "min_width": null,
            "border": null,
            "align_items": null,
            "bottom": null,
            "_model_module": "@jupyter-widgets/base",
            "top": null,
            "grid_column": null,
            "overflow_y": null,
            "overflow_x": null,
            "grid_auto_flow": null,
            "grid_area": null,
            "grid_template_columns": null,
            "flex": null,
            "_model_name": "LayoutModel",
            "justify_items": null,
            "grid_row": null,
            "max_height": null,
            "align_content": null,
            "visibility": null,
            "align_self": null,
            "height": null,
            "min_height": null,
            "padding": null,
            "grid_auto_rows": null,
            "grid_gap": null,
            "max_width": null,
            "order": null,
            "_view_module_version": "1.2.0",
            "grid_template_areas": null,
            "object_position": null,
            "object_fit": null,
            "grid_auto_columns": null,
            "margin": null,
            "display": null,
            "left": null
          }
        },
        "b257c4f98c574bc3998b6ca46eda2f80": {
          "model_module": "@jupyter-widgets/controls",
          "model_name": "DescriptionStyleModel",
          "model_module_version": "1.5.0",
          "state": {
            "_view_name": "StyleView",
            "_model_name": "DescriptionStyleModel",
            "description_width": "",
            "_view_module": "@jupyter-widgets/base",
            "_model_module_version": "1.5.0",
            "_view_count": null,
            "_view_module_version": "1.2.0",
            "_model_module": "@jupyter-widgets/controls"
          }
        },
        "f81c5ece52f84afe860c2d87068d64bf": {
          "model_module": "@jupyter-widgets/base",
          "model_name": "LayoutModel",
          "model_module_version": "1.2.0",
          "state": {
            "_view_name": "LayoutView",
            "grid_template_rows": null,
            "right": null,
            "justify_content": null,
            "_view_module": "@jupyter-widgets/base",
            "overflow": null,
            "_model_module_version": "1.2.0",
            "_view_count": null,
            "flex_flow": null,
            "width": null,
            "min_width": null,
            "border": null,
            "align_items": null,
            "bottom": null,
            "_model_module": "@jupyter-widgets/base",
            "top": null,
            "grid_column": null,
            "overflow_y": null,
            "overflow_x": null,
            "grid_auto_flow": null,
            "grid_area": null,
            "grid_template_columns": null,
            "flex": null,
            "_model_name": "LayoutModel",
            "justify_items": null,
            "grid_row": null,
            "max_height": null,
            "align_content": null,
            "visibility": null,
            "align_self": null,
            "height": null,
            "min_height": null,
            "padding": null,
            "grid_auto_rows": null,
            "grid_gap": null,
            "max_width": null,
            "order": null,
            "_view_module_version": "1.2.0",
            "grid_template_areas": null,
            "object_position": null,
            "object_fit": null,
            "grid_auto_columns": null,
            "margin": null,
            "display": null,
            "left": null
          }
        },
        "1d9ae5559b634648a180bb5735f6ce3e": {
          "model_module": "@jupyter-widgets/controls",
          "model_name": "HBoxModel",
          "model_module_version": "1.5.0",
          "state": {
            "_view_name": "HBoxView",
            "_dom_classes": [],
            "_model_name": "HBoxModel",
            "_view_module": "@jupyter-widgets/controls",
            "_model_module_version": "1.5.0",
            "_view_count": null,
            "_view_module_version": "1.5.0",
            "box_style": "",
            "layout": "IPY_MODEL_7b2ed27fba5143afba560492612e4930",
            "_model_module": "@jupyter-widgets/controls",
            "children": [
              "IPY_MODEL_2294153d05354191b880f2c37217ae74",
              "IPY_MODEL_2b896c2453134d3e885e3741b1d72de9",
              "IPY_MODEL_0bcf053cc0914935b9ccfffabefd869c"
            ]
          }
        },
        "7b2ed27fba5143afba560492612e4930": {
          "model_module": "@jupyter-widgets/base",
          "model_name": "LayoutModel",
          "model_module_version": "1.2.0",
          "state": {
            "_view_name": "LayoutView",
            "grid_template_rows": null,
            "right": null,
            "justify_content": null,
            "_view_module": "@jupyter-widgets/base",
            "overflow": null,
            "_model_module_version": "1.2.0",
            "_view_count": null,
            "flex_flow": null,
            "width": null,
            "min_width": null,
            "border": null,
            "align_items": null,
            "bottom": null,
            "_model_module": "@jupyter-widgets/base",
            "top": null,
            "grid_column": null,
            "overflow_y": null,
            "overflow_x": null,
            "grid_auto_flow": null,
            "grid_area": null,
            "grid_template_columns": null,
            "flex": null,
            "_model_name": "LayoutModel",
            "justify_items": null,
            "grid_row": null,
            "max_height": null,
            "align_content": null,
            "visibility": null,
            "align_self": null,
            "height": null,
            "min_height": null,
            "padding": null,
            "grid_auto_rows": null,
            "grid_gap": null,
            "max_width": null,
            "order": null,
            "_view_module_version": "1.2.0",
            "grid_template_areas": null,
            "object_position": null,
            "object_fit": null,
            "grid_auto_columns": null,
            "margin": null,
            "display": null,
            "left": null
          }
        },
        "2294153d05354191b880f2c37217ae74": {
          "model_module": "@jupyter-widgets/controls",
          "model_name": "HTMLModel",
          "model_module_version": "1.5.0",
          "state": {
            "_view_name": "HTMLView",
            "style": "IPY_MODEL_19276ddeeef24d67a825d3c1612e57fb",
            "_dom_classes": [],
            "description": "",
            "_model_name": "HTMLModel",
            "placeholder": "​",
            "_view_module": "@jupyter-widgets/controls",
            "_model_module_version": "1.5.0",
            "value": "Downloading: 100%",
            "_view_count": null,
            "_view_module_version": "1.5.0",
            "description_tooltip": null,
            "_model_module": "@jupyter-widgets/controls",
            "layout": "IPY_MODEL_9534691d36504047ae7193cfad495941"
          }
        },
        "2b896c2453134d3e885e3741b1d72de9": {
          "model_module": "@jupyter-widgets/controls",
          "model_name": "FloatProgressModel",
          "model_module_version": "1.5.0",
          "state": {
            "_view_name": "ProgressView",
            "style": "IPY_MODEL_7f2cb4e192cb49dc9ddc02709895f359",
            "_dom_classes": [],
            "description": "",
            "_model_name": "FloatProgressModel",
            "bar_style": "success",
            "max": 213450,
            "_view_module": "@jupyter-widgets/controls",
            "_model_module_version": "1.5.0",
            "value": 213450,
            "_view_count": null,
            "_view_module_version": "1.5.0",
            "orientation": "horizontal",
            "min": 0,
            "description_tooltip": null,
            "_model_module": "@jupyter-widgets/controls",
            "layout": "IPY_MODEL_55c263c75ecd49458c645c9e3a4ff6f6"
          }
        },
        "0bcf053cc0914935b9ccfffabefd869c": {
          "model_module": "@jupyter-widgets/controls",
          "model_name": "HTMLModel",
          "model_module_version": "1.5.0",
          "state": {
            "_view_name": "HTMLView",
            "style": "IPY_MODEL_b618bdfe32cf408a8635ab3754652f67",
            "_dom_classes": [],
            "description": "",
            "_model_name": "HTMLModel",
            "placeholder": "​",
            "_view_module": "@jupyter-widgets/controls",
            "_model_module_version": "1.5.0",
            "value": " 208k/208k [00:00&lt;00:00, 2.69MB/s]",
            "_view_count": null,
            "_view_module_version": "1.5.0",
            "description_tooltip": null,
            "_model_module": "@jupyter-widgets/controls",
            "layout": "IPY_MODEL_e541cad6a2a04e34b4a42f0ff2a3d96e"
          }
        },
        "19276ddeeef24d67a825d3c1612e57fb": {
          "model_module": "@jupyter-widgets/controls",
          "model_name": "DescriptionStyleModel",
          "model_module_version": "1.5.0",
          "state": {
            "_view_name": "StyleView",
            "_model_name": "DescriptionStyleModel",
            "description_width": "",
            "_view_module": "@jupyter-widgets/base",
            "_model_module_version": "1.5.0",
            "_view_count": null,
            "_view_module_version": "1.2.0",
            "_model_module": "@jupyter-widgets/controls"
          }
        },
        "9534691d36504047ae7193cfad495941": {
          "model_module": "@jupyter-widgets/base",
          "model_name": "LayoutModel",
          "model_module_version": "1.2.0",
          "state": {
            "_view_name": "LayoutView",
            "grid_template_rows": null,
            "right": null,
            "justify_content": null,
            "_view_module": "@jupyter-widgets/base",
            "overflow": null,
            "_model_module_version": "1.2.0",
            "_view_count": null,
            "flex_flow": null,
            "width": null,
            "min_width": null,
            "border": null,
            "align_items": null,
            "bottom": null,
            "_model_module": "@jupyter-widgets/base",
            "top": null,
            "grid_column": null,
            "overflow_y": null,
            "overflow_x": null,
            "grid_auto_flow": null,
            "grid_area": null,
            "grid_template_columns": null,
            "flex": null,
            "_model_name": "LayoutModel",
            "justify_items": null,
            "grid_row": null,
            "max_height": null,
            "align_content": null,
            "visibility": null,
            "align_self": null,
            "height": null,
            "min_height": null,
            "padding": null,
            "grid_auto_rows": null,
            "grid_gap": null,
            "max_width": null,
            "order": null,
            "_view_module_version": "1.2.0",
            "grid_template_areas": null,
            "object_position": null,
            "object_fit": null,
            "grid_auto_columns": null,
            "margin": null,
            "display": null,
            "left": null
          }
        },
        "7f2cb4e192cb49dc9ddc02709895f359": {
          "model_module": "@jupyter-widgets/controls",
          "model_name": "ProgressStyleModel",
          "model_module_version": "1.5.0",
          "state": {
            "_view_name": "StyleView",
            "_model_name": "ProgressStyleModel",
            "description_width": "",
            "_view_module": "@jupyter-widgets/base",
            "_model_module_version": "1.5.0",
            "_view_count": null,
            "_view_module_version": "1.2.0",
            "bar_color": null,
            "_model_module": "@jupyter-widgets/controls"
          }
        },
        "55c263c75ecd49458c645c9e3a4ff6f6": {
          "model_module": "@jupyter-widgets/base",
          "model_name": "LayoutModel",
          "model_module_version": "1.2.0",
          "state": {
            "_view_name": "LayoutView",
            "grid_template_rows": null,
            "right": null,
            "justify_content": null,
            "_view_module": "@jupyter-widgets/base",
            "overflow": null,
            "_model_module_version": "1.2.0",
            "_view_count": null,
            "flex_flow": null,
            "width": null,
            "min_width": null,
            "border": null,
            "align_items": null,
            "bottom": null,
            "_model_module": "@jupyter-widgets/base",
            "top": null,
            "grid_column": null,
            "overflow_y": null,
            "overflow_x": null,
            "grid_auto_flow": null,
            "grid_area": null,
            "grid_template_columns": null,
            "flex": null,
            "_model_name": "LayoutModel",
            "justify_items": null,
            "grid_row": null,
            "max_height": null,
            "align_content": null,
            "visibility": null,
            "align_self": null,
            "height": null,
            "min_height": null,
            "padding": null,
            "grid_auto_rows": null,
            "grid_gap": null,
            "max_width": null,
            "order": null,
            "_view_module_version": "1.2.0",
            "grid_template_areas": null,
            "object_position": null,
            "object_fit": null,
            "grid_auto_columns": null,
            "margin": null,
            "display": null,
            "left": null
          }
        },
        "b618bdfe32cf408a8635ab3754652f67": {
          "model_module": "@jupyter-widgets/controls",
          "model_name": "DescriptionStyleModel",
          "model_module_version": "1.5.0",
          "state": {
            "_view_name": "StyleView",
            "_model_name": "DescriptionStyleModel",
            "description_width": "",
            "_view_module": "@jupyter-widgets/base",
            "_model_module_version": "1.5.0",
            "_view_count": null,
            "_view_module_version": "1.2.0",
            "_model_module": "@jupyter-widgets/controls"
          }
        },
        "e541cad6a2a04e34b4a42f0ff2a3d96e": {
          "model_module": "@jupyter-widgets/base",
          "model_name": "LayoutModel",
          "model_module_version": "1.2.0",
          "state": {
            "_view_name": "LayoutView",
            "grid_template_rows": null,
            "right": null,
            "justify_content": null,
            "_view_module": "@jupyter-widgets/base",
            "overflow": null,
            "_model_module_version": "1.2.0",
            "_view_count": null,
            "flex_flow": null,
            "width": null,
            "min_width": null,
            "border": null,
            "align_items": null,
            "bottom": null,
            "_model_module": "@jupyter-widgets/base",
            "top": null,
            "grid_column": null,
            "overflow_y": null,
            "overflow_x": null,
            "grid_auto_flow": null,
            "grid_area": null,
            "grid_template_columns": null,
            "flex": null,
            "_model_name": "LayoutModel",
            "justify_items": null,
            "grid_row": null,
            "max_height": null,
            "align_content": null,
            "visibility": null,
            "align_self": null,
            "height": null,
            "min_height": null,
            "padding": null,
            "grid_auto_rows": null,
            "grid_gap": null,
            "max_width": null,
            "order": null,
            "_view_module_version": "1.2.0",
            "grid_template_areas": null,
            "object_position": null,
            "object_fit": null,
            "grid_auto_columns": null,
            "margin": null,
            "display": null,
            "left": null
          }
        },
        "5913bbde9c404e8991ec9f8b04fe1b55": {
          "model_module": "@jupyter-widgets/controls",
          "model_name": "HBoxModel",
          "model_module_version": "1.5.0",
          "state": {
            "_view_name": "HBoxView",
            "_dom_classes": [],
            "_model_name": "HBoxModel",
            "_view_module": "@jupyter-widgets/controls",
            "_model_module_version": "1.5.0",
            "_view_count": null,
            "_view_module_version": "1.5.0",
            "box_style": "",
            "layout": "IPY_MODEL_9a495674a3fc4786bbecbdccdab6a4f9",
            "_model_module": "@jupyter-widgets/controls",
            "children": [
              "IPY_MODEL_e16b67729a2343c9bd145d4dabacbb65",
              "IPY_MODEL_8b81c8ae04cf4c27aefedecdbf11d413",
              "IPY_MODEL_d07b3d14342844d9a5d6ad01a545de54"
            ]
          }
        },
        "9a495674a3fc4786bbecbdccdab6a4f9": {
          "model_module": "@jupyter-widgets/base",
          "model_name": "LayoutModel",
          "model_module_version": "1.2.0",
          "state": {
            "_view_name": "LayoutView",
            "grid_template_rows": null,
            "right": null,
            "justify_content": null,
            "_view_module": "@jupyter-widgets/base",
            "overflow": null,
            "_model_module_version": "1.2.0",
            "_view_count": null,
            "flex_flow": null,
            "width": null,
            "min_width": null,
            "border": null,
            "align_items": null,
            "bottom": null,
            "_model_module": "@jupyter-widgets/base",
            "top": null,
            "grid_column": null,
            "overflow_y": null,
            "overflow_x": null,
            "grid_auto_flow": null,
            "grid_area": null,
            "grid_template_columns": null,
            "flex": null,
            "_model_name": "LayoutModel",
            "justify_items": null,
            "grid_row": null,
            "max_height": null,
            "align_content": null,
            "visibility": null,
            "align_self": null,
            "height": null,
            "min_height": null,
            "padding": null,
            "grid_auto_rows": null,
            "grid_gap": null,
            "max_width": null,
            "order": null,
            "_view_module_version": "1.2.0",
            "grid_template_areas": null,
            "object_position": null,
            "object_fit": null,
            "grid_auto_columns": null,
            "margin": null,
            "display": null,
            "left": null
          }
        },
        "e16b67729a2343c9bd145d4dabacbb65": {
          "model_module": "@jupyter-widgets/controls",
          "model_name": "HTMLModel",
          "model_module_version": "1.5.0",
          "state": {
            "_view_name": "HTMLView",
            "style": "IPY_MODEL_572e597d49a14b46af811393592d49c8",
            "_dom_classes": [],
            "description": "",
            "_model_name": "HTMLModel",
            "placeholder": "​",
            "_view_module": "@jupyter-widgets/controls",
            "_model_module_version": "1.5.0",
            "value": "Downloading: 100%",
            "_view_count": null,
            "_view_module_version": "1.5.0",
            "description_tooltip": null,
            "_model_module": "@jupyter-widgets/controls",
            "layout": "IPY_MODEL_47bc8815a5d245f992a7740a29f682e1"
          }
        },
        "8b81c8ae04cf4c27aefedecdbf11d413": {
          "model_module": "@jupyter-widgets/controls",
          "model_name": "FloatProgressModel",
          "model_module_version": "1.5.0",
          "state": {
            "_view_name": "ProgressView",
            "style": "IPY_MODEL_03c67f84a547438ea4f8b3a694c1c655",
            "_dom_classes": [],
            "description": "",
            "_model_name": "FloatProgressModel",
            "bar_style": "success",
            "max": 435797,
            "_view_module": "@jupyter-widgets/controls",
            "_model_module_version": "1.5.0",
            "value": 435797,
            "_view_count": null,
            "_view_module_version": "1.5.0",
            "orientation": "horizontal",
            "min": 0,
            "description_tooltip": null,
            "_model_module": "@jupyter-widgets/controls",
            "layout": "IPY_MODEL_a85fd635a7694f96a125bd762750cca9"
          }
        },
        "d07b3d14342844d9a5d6ad01a545de54": {
          "model_module": "@jupyter-widgets/controls",
          "model_name": "HTMLModel",
          "model_module_version": "1.5.0",
          "state": {
            "_view_name": "HTMLView",
            "style": "IPY_MODEL_51146c30a2af47449d030289e1190d6f",
            "_dom_classes": [],
            "description": "",
            "_model_name": "HTMLModel",
            "placeholder": "​",
            "_view_module": "@jupyter-widgets/controls",
            "_model_module_version": "1.5.0",
            "value": " 426k/426k [00:00&lt;00:00, 3.40MB/s]",
            "_view_count": null,
            "_view_module_version": "1.5.0",
            "description_tooltip": null,
            "_model_module": "@jupyter-widgets/controls",
            "layout": "IPY_MODEL_cf9064807a07457ba24c96a2945a02ba"
          }
        },
        "572e597d49a14b46af811393592d49c8": {
          "model_module": "@jupyter-widgets/controls",
          "model_name": "DescriptionStyleModel",
          "model_module_version": "1.5.0",
          "state": {
            "_view_name": "StyleView",
            "_model_name": "DescriptionStyleModel",
            "description_width": "",
            "_view_module": "@jupyter-widgets/base",
            "_model_module_version": "1.5.0",
            "_view_count": null,
            "_view_module_version": "1.2.0",
            "_model_module": "@jupyter-widgets/controls"
          }
        },
        "47bc8815a5d245f992a7740a29f682e1": {
          "model_module": "@jupyter-widgets/base",
          "model_name": "LayoutModel",
          "model_module_version": "1.2.0",
          "state": {
            "_view_name": "LayoutView",
            "grid_template_rows": null,
            "right": null,
            "justify_content": null,
            "_view_module": "@jupyter-widgets/base",
            "overflow": null,
            "_model_module_version": "1.2.0",
            "_view_count": null,
            "flex_flow": null,
            "width": null,
            "min_width": null,
            "border": null,
            "align_items": null,
            "bottom": null,
            "_model_module": "@jupyter-widgets/base",
            "top": null,
            "grid_column": null,
            "overflow_y": null,
            "overflow_x": null,
            "grid_auto_flow": null,
            "grid_area": null,
            "grid_template_columns": null,
            "flex": null,
            "_model_name": "LayoutModel",
            "justify_items": null,
            "grid_row": null,
            "max_height": null,
            "align_content": null,
            "visibility": null,
            "align_self": null,
            "height": null,
            "min_height": null,
            "padding": null,
            "grid_auto_rows": null,
            "grid_gap": null,
            "max_width": null,
            "order": null,
            "_view_module_version": "1.2.0",
            "grid_template_areas": null,
            "object_position": null,
            "object_fit": null,
            "grid_auto_columns": null,
            "margin": null,
            "display": null,
            "left": null
          }
        },
        "03c67f84a547438ea4f8b3a694c1c655": {
          "model_module": "@jupyter-widgets/controls",
          "model_name": "ProgressStyleModel",
          "model_module_version": "1.5.0",
          "state": {
            "_view_name": "StyleView",
            "_model_name": "ProgressStyleModel",
            "description_width": "",
            "_view_module": "@jupyter-widgets/base",
            "_model_module_version": "1.5.0",
            "_view_count": null,
            "_view_module_version": "1.2.0",
            "bar_color": null,
            "_model_module": "@jupyter-widgets/controls"
          }
        },
        "a85fd635a7694f96a125bd762750cca9": {
          "model_module": "@jupyter-widgets/base",
          "model_name": "LayoutModel",
          "model_module_version": "1.2.0",
          "state": {
            "_view_name": "LayoutView",
            "grid_template_rows": null,
            "right": null,
            "justify_content": null,
            "_view_module": "@jupyter-widgets/base",
            "overflow": null,
            "_model_module_version": "1.2.0",
            "_view_count": null,
            "flex_flow": null,
            "width": null,
            "min_width": null,
            "border": null,
            "align_items": null,
            "bottom": null,
            "_model_module": "@jupyter-widgets/base",
            "top": null,
            "grid_column": null,
            "overflow_y": null,
            "overflow_x": null,
            "grid_auto_flow": null,
            "grid_area": null,
            "grid_template_columns": null,
            "flex": null,
            "_model_name": "LayoutModel",
            "justify_items": null,
            "grid_row": null,
            "max_height": null,
            "align_content": null,
            "visibility": null,
            "align_self": null,
            "height": null,
            "min_height": null,
            "padding": null,
            "grid_auto_rows": null,
            "grid_gap": null,
            "max_width": null,
            "order": null,
            "_view_module_version": "1.2.0",
            "grid_template_areas": null,
            "object_position": null,
            "object_fit": null,
            "grid_auto_columns": null,
            "margin": null,
            "display": null,
            "left": null
          }
        },
        "51146c30a2af47449d030289e1190d6f": {
          "model_module": "@jupyter-widgets/controls",
          "model_name": "DescriptionStyleModel",
          "model_module_version": "1.5.0",
          "state": {
            "_view_name": "StyleView",
            "_model_name": "DescriptionStyleModel",
            "description_width": "",
            "_view_module": "@jupyter-widgets/base",
            "_model_module_version": "1.5.0",
            "_view_count": null,
            "_view_module_version": "1.2.0",
            "_model_module": "@jupyter-widgets/controls"
          }
        },
        "cf9064807a07457ba24c96a2945a02ba": {
          "model_module": "@jupyter-widgets/base",
          "model_name": "LayoutModel",
          "model_module_version": "1.2.0",
          "state": {
            "_view_name": "LayoutView",
            "grid_template_rows": null,
            "right": null,
            "justify_content": null,
            "_view_module": "@jupyter-widgets/base",
            "overflow": null,
            "_model_module_version": "1.2.0",
            "_view_count": null,
            "flex_flow": null,
            "width": null,
            "min_width": null,
            "border": null,
            "align_items": null,
            "bottom": null,
            "_model_module": "@jupyter-widgets/base",
            "top": null,
            "grid_column": null,
            "overflow_y": null,
            "overflow_x": null,
            "grid_auto_flow": null,
            "grid_area": null,
            "grid_template_columns": null,
            "flex": null,
            "_model_name": "LayoutModel",
            "justify_items": null,
            "grid_row": null,
            "max_height": null,
            "align_content": null,
            "visibility": null,
            "align_self": null,
            "height": null,
            "min_height": null,
            "padding": null,
            "grid_auto_rows": null,
            "grid_gap": null,
            "max_width": null,
            "order": null,
            "_view_module_version": "1.2.0",
            "grid_template_areas": null,
            "object_position": null,
            "object_fit": null,
            "grid_auto_columns": null,
            "margin": null,
            "display": null,
            "left": null
          }
        },
        "ab02d8e78fcb44ae9ab1feb8d91638e1": {
          "model_module": "@jupyter-widgets/controls",
          "model_name": "HBoxModel",
          "model_module_version": "1.5.0",
          "state": {
            "_view_name": "HBoxView",
            "_dom_classes": [],
            "_model_name": "HBoxModel",
            "_view_module": "@jupyter-widgets/controls",
            "_model_module_version": "1.5.0",
            "_view_count": null,
            "_view_module_version": "1.5.0",
            "box_style": "",
            "layout": "IPY_MODEL_8580f12d4630466ea2ada6326ab792a5",
            "_model_module": "@jupyter-widgets/controls",
            "children": [
              "IPY_MODEL_4916e127f91b47139affe08a20f3ce8a",
              "IPY_MODEL_607c5f6025d24a6fb511939afa47a4a9",
              "IPY_MODEL_ee2038944567413082d36c343c46f179"
            ]
          }
        },
        "8580f12d4630466ea2ada6326ab792a5": {
          "model_module": "@jupyter-widgets/base",
          "model_name": "LayoutModel",
          "model_module_version": "1.2.0",
          "state": {
            "_view_name": "LayoutView",
            "grid_template_rows": null,
            "right": null,
            "justify_content": null,
            "_view_module": "@jupyter-widgets/base",
            "overflow": null,
            "_model_module_version": "1.2.0",
            "_view_count": null,
            "flex_flow": null,
            "width": null,
            "min_width": null,
            "border": null,
            "align_items": null,
            "bottom": null,
            "_model_module": "@jupyter-widgets/base",
            "top": null,
            "grid_column": null,
            "overflow_y": null,
            "overflow_x": null,
            "grid_auto_flow": null,
            "grid_area": null,
            "grid_template_columns": null,
            "flex": null,
            "_model_name": "LayoutModel",
            "justify_items": null,
            "grid_row": null,
            "max_height": null,
            "align_content": null,
            "visibility": null,
            "align_self": null,
            "height": null,
            "min_height": null,
            "padding": null,
            "grid_auto_rows": null,
            "grid_gap": null,
            "max_width": null,
            "order": null,
            "_view_module_version": "1.2.0",
            "grid_template_areas": null,
            "object_position": null,
            "object_fit": null,
            "grid_auto_columns": null,
            "margin": null,
            "display": null,
            "left": null
          }
        },
        "4916e127f91b47139affe08a20f3ce8a": {
          "model_module": "@jupyter-widgets/controls",
          "model_name": "HTMLModel",
          "model_module_version": "1.5.0",
          "state": {
            "_view_name": "HTMLView",
            "style": "IPY_MODEL_934c5dd73b8c424cac078f7bcf5cd42b",
            "_dom_classes": [],
            "description": "",
            "_model_name": "HTMLModel",
            "placeholder": "​",
            "_view_module": "@jupyter-widgets/controls",
            "_model_module_version": "1.5.0",
            "value": "Downloading: 100%",
            "_view_count": null,
            "_view_module_version": "1.5.0",
            "description_tooltip": null,
            "_model_module": "@jupyter-widgets/controls",
            "layout": "IPY_MODEL_6d0079f8c8444f69b9838974ee3ea8f6"
          }
        },
        "607c5f6025d24a6fb511939afa47a4a9": {
          "model_module": "@jupyter-widgets/controls",
          "model_name": "FloatProgressModel",
          "model_module_version": "1.5.0",
          "state": {
            "_view_name": "ProgressView",
            "style": "IPY_MODEL_1fca8476839e42a48d33cea5c297850e",
            "_dom_classes": [],
            "description": "",
            "_model_name": "FloatProgressModel",
            "bar_style": "success",
            "max": 526681800,
            "_view_module": "@jupyter-widgets/controls",
            "_model_module_version": "1.5.0",
            "value": 526681800,
            "_view_count": null,
            "_view_module_version": "1.5.0",
            "orientation": "horizontal",
            "min": 0,
            "description_tooltip": null,
            "_model_module": "@jupyter-widgets/controls",
            "layout": "IPY_MODEL_26ab2fd179e64cd0b523462a9c6d6f74"
          }
        },
        "ee2038944567413082d36c343c46f179": {
          "model_module": "@jupyter-widgets/controls",
          "model_name": "HTMLModel",
          "model_module_version": "1.5.0",
          "state": {
            "_view_name": "HTMLView",
            "style": "IPY_MODEL_6cd78f2bab1a4d2d9d75f8d8da645692",
            "_dom_classes": [],
            "description": "",
            "_model_name": "HTMLModel",
            "placeholder": "​",
            "_view_module": "@jupyter-widgets/controls",
            "_model_module_version": "1.5.0",
            "value": " 502M/502M [00:09&lt;00:00, 54.3MB/s]",
            "_view_count": null,
            "_view_module_version": "1.5.0",
            "description_tooltip": null,
            "_model_module": "@jupyter-widgets/controls",
            "layout": "IPY_MODEL_31a07c2f33634020a2d085ad40537d0c"
          }
        },
        "934c5dd73b8c424cac078f7bcf5cd42b": {
          "model_module": "@jupyter-widgets/controls",
          "model_name": "DescriptionStyleModel",
          "model_module_version": "1.5.0",
          "state": {
            "_view_name": "StyleView",
            "_model_name": "DescriptionStyleModel",
            "description_width": "",
            "_view_module": "@jupyter-widgets/base",
            "_model_module_version": "1.5.0",
            "_view_count": null,
            "_view_module_version": "1.2.0",
            "_model_module": "@jupyter-widgets/controls"
          }
        },
        "6d0079f8c8444f69b9838974ee3ea8f6": {
          "model_module": "@jupyter-widgets/base",
          "model_name": "LayoutModel",
          "model_module_version": "1.2.0",
          "state": {
            "_view_name": "LayoutView",
            "grid_template_rows": null,
            "right": null,
            "justify_content": null,
            "_view_module": "@jupyter-widgets/base",
            "overflow": null,
            "_model_module_version": "1.2.0",
            "_view_count": null,
            "flex_flow": null,
            "width": null,
            "min_width": null,
            "border": null,
            "align_items": null,
            "bottom": null,
            "_model_module": "@jupyter-widgets/base",
            "top": null,
            "grid_column": null,
            "overflow_y": null,
            "overflow_x": null,
            "grid_auto_flow": null,
            "grid_area": null,
            "grid_template_columns": null,
            "flex": null,
            "_model_name": "LayoutModel",
            "justify_items": null,
            "grid_row": null,
            "max_height": null,
            "align_content": null,
            "visibility": null,
            "align_self": null,
            "height": null,
            "min_height": null,
            "padding": null,
            "grid_auto_rows": null,
            "grid_gap": null,
            "max_width": null,
            "order": null,
            "_view_module_version": "1.2.0",
            "grid_template_areas": null,
            "object_position": null,
            "object_fit": null,
            "grid_auto_columns": null,
            "margin": null,
            "display": null,
            "left": null
          }
        },
        "1fca8476839e42a48d33cea5c297850e": {
          "model_module": "@jupyter-widgets/controls",
          "model_name": "ProgressStyleModel",
          "model_module_version": "1.5.0",
          "state": {
            "_view_name": "StyleView",
            "_model_name": "ProgressStyleModel",
            "description_width": "",
            "_view_module": "@jupyter-widgets/base",
            "_model_module_version": "1.5.0",
            "_view_count": null,
            "_view_module_version": "1.2.0",
            "bar_color": null,
            "_model_module": "@jupyter-widgets/controls"
          }
        },
        "26ab2fd179e64cd0b523462a9c6d6f74": {
          "model_module": "@jupyter-widgets/base",
          "model_name": "LayoutModel",
          "model_module_version": "1.2.0",
          "state": {
            "_view_name": "LayoutView",
            "grid_template_rows": null,
            "right": null,
            "justify_content": null,
            "_view_module": "@jupyter-widgets/base",
            "overflow": null,
            "_model_module_version": "1.2.0",
            "_view_count": null,
            "flex_flow": null,
            "width": null,
            "min_width": null,
            "border": null,
            "align_items": null,
            "bottom": null,
            "_model_module": "@jupyter-widgets/base",
            "top": null,
            "grid_column": null,
            "overflow_y": null,
            "overflow_x": null,
            "grid_auto_flow": null,
            "grid_area": null,
            "grid_template_columns": null,
            "flex": null,
            "_model_name": "LayoutModel",
            "justify_items": null,
            "grid_row": null,
            "max_height": null,
            "align_content": null,
            "visibility": null,
            "align_self": null,
            "height": null,
            "min_height": null,
            "padding": null,
            "grid_auto_rows": null,
            "grid_gap": null,
            "max_width": null,
            "order": null,
            "_view_module_version": "1.2.0",
            "grid_template_areas": null,
            "object_position": null,
            "object_fit": null,
            "grid_auto_columns": null,
            "margin": null,
            "display": null,
            "left": null
          }
        },
        "6cd78f2bab1a4d2d9d75f8d8da645692": {
          "model_module": "@jupyter-widgets/controls",
          "model_name": "DescriptionStyleModel",
          "model_module_version": "1.5.0",
          "state": {
            "_view_name": "StyleView",
            "_model_name": "DescriptionStyleModel",
            "description_width": "",
            "_view_module": "@jupyter-widgets/base",
            "_model_module_version": "1.5.0",
            "_view_count": null,
            "_view_module_version": "1.2.0",
            "_model_module": "@jupyter-widgets/controls"
          }
        },
        "31a07c2f33634020a2d085ad40537d0c": {
          "model_module": "@jupyter-widgets/base",
          "model_name": "LayoutModel",
          "model_module_version": "1.2.0",
          "state": {
            "_view_name": "LayoutView",
            "grid_template_rows": null,
            "right": null,
            "justify_content": null,
            "_view_module": "@jupyter-widgets/base",
            "overflow": null,
            "_model_module_version": "1.2.0",
            "_view_count": null,
            "flex_flow": null,
            "width": null,
            "min_width": null,
            "border": null,
            "align_items": null,
            "bottom": null,
            "_model_module": "@jupyter-widgets/base",
            "top": null,
            "grid_column": null,
            "overflow_y": null,
            "overflow_x": null,
            "grid_auto_flow": null,
            "grid_area": null,
            "grid_template_columns": null,
            "flex": null,
            "_model_name": "LayoutModel",
            "justify_items": null,
            "grid_row": null,
            "max_height": null,
            "align_content": null,
            "visibility": null,
            "align_self": null,
            "height": null,
            "min_height": null,
            "padding": null,
            "grid_auto_rows": null,
            "grid_gap": null,
            "max_width": null,
            "order": null,
            "_view_module_version": "1.2.0",
            "grid_template_areas": null,
            "object_position": null,
            "object_fit": null,
            "grid_auto_columns": null,
            "margin": null,
            "display": null,
            "left": null
          }
        }
      }
    }
  },
  "cells": [
    {
      "cell_type": "markdown",
      "source": [
        "[How-to Build a Transformer for Language Classification in TensorFlow\n",
        "](https://https://www.youtube.com/watch?v=GYDFBfx8Ts8&t=218s)"
      ],
      "metadata": {
        "id": "mpfvOKBGtQE1"
      }
    },
    {
      "cell_type": "code",
      "execution_count": 1,
      "metadata": {
        "colab": {
          "base_uri": "https://localhost:8080/"
        },
        "id": "INx1xWdhbmlw",
        "outputId": "039b4344-7c45-4c3c-e6df-00e05c367923"
      },
      "outputs": [
        {
          "output_type": "stream",
          "name": "stdout",
          "text": [
            "Requirement already satisfied: kaggle in /usr/local/lib/python3.7/dist-packages (1.5.12)\n",
            "Requirement already satisfied: urllib3 in /usr/local/lib/python3.7/dist-packages (from kaggle) (1.24.3)\n",
            "Requirement already satisfied: python-slugify in /usr/local/lib/python3.7/dist-packages (from kaggle) (5.0.2)\n",
            "Requirement already satisfied: six>=1.10 in /usr/local/lib/python3.7/dist-packages (from kaggle) (1.15.0)\n",
            "Requirement already satisfied: python-dateutil in /usr/local/lib/python3.7/dist-packages (from kaggle) (2.8.2)\n",
            "Requirement already satisfied: tqdm in /usr/local/lib/python3.7/dist-packages (from kaggle) (4.62.3)\n",
            "Requirement already satisfied: requests in /usr/local/lib/python3.7/dist-packages (from kaggle) (2.23.0)\n",
            "Requirement already satisfied: certifi in /usr/local/lib/python3.7/dist-packages (from kaggle) (2021.10.8)\n",
            "Requirement already satisfied: text-unidecode>=1.3 in /usr/local/lib/python3.7/dist-packages (from python-slugify->kaggle) (1.3)\n",
            "Requirement already satisfied: idna<3,>=2.5 in /usr/local/lib/python3.7/dist-packages (from requests->kaggle) (2.10)\n",
            "Requirement already satisfied: chardet<4,>=3.0.2 in /usr/local/lib/python3.7/dist-packages (from requests->kaggle) (3.0.4)\n"
          ]
        }
      ],
      "source": [
        "!pip install kaggle"
      ]
    },
    {
      "cell_type": "markdown",
      "source": [
        "[How to Load Kaggle Datasets Directly into Google Colab?](https://https://www.analyticsvidhya.com/blog/2021/06/how-to-load-kaggle-datasets-directly-into-google-colab/)"
      ],
      "metadata": {
        "id": "Ug3hiT-V1ZZS"
      }
    },
    {
      "cell_type": "markdown",
      "source": [
        "[Easy way to use Kaggle datasets in Google Colab](https://https://www.kaggle.com/general/51898)"
      ],
      "metadata": {
        "id": "mI8qusRq1iAX"
      }
    },
    {
      "cell_type": "code",
      "source": [
        "! mkdir ~/.kaggle"
      ],
      "metadata": {
        "id": "Y0uXwFigtbGZ"
      },
      "execution_count": 2,
      "outputs": []
    },
    {
      "cell_type": "code",
      "source": [
        "! cp kaggle.json ~/.kaggle/ # Copy the “kaggle.json” into this new directory"
      ],
      "metadata": {
        "id": "ZNgq9MWY05Rw"
      },
      "execution_count": 3,
      "outputs": []
    },
    {
      "cell_type": "code",
      "source": [
        "! chmod 600 ~/.kaggle/kaggle.json"
      ],
      "metadata": {
        "id": "xjbk1Z3a1OC2"
      },
      "execution_count": 4,
      "outputs": []
    },
    {
      "cell_type": "code",
      "source": [
        "from kaggle.api.kaggle_api_extended import KaggleApi"
      ],
      "metadata": {
        "id": "V6bUoepob-zE"
      },
      "execution_count": 5,
      "outputs": []
    },
    {
      "cell_type": "code",
      "source": [
        "import kaggle"
      ],
      "metadata": {
        "id": "mZvxzEH3zd81"
      },
      "execution_count": 6,
      "outputs": []
    },
    {
      "cell_type": "code",
      "source": [
        "api = KaggleApi()\n",
        "api.authenticate()"
      ],
      "metadata": {
        "id": "Zpcnj6vIcJc5"
      },
      "execution_count": 7,
      "outputs": []
    },
    {
      "cell_type": "code",
      "source": [
        "api.competition_download_file('sentiment-analysis-on-movie-reviews', 'train.tsv.zip', path='./')"
      ],
      "metadata": {
        "colab": {
          "base_uri": "https://localhost:8080/"
        },
        "id": "9s9jqAGLepb4",
        "outputId": "f60b58d9-1452-4d84-fd2d-c4dbc417bc27"
      },
      "execution_count": 8,
      "outputs": [
        {
          "output_type": "stream",
          "name": "stdout",
          "text": [
            "Downloading train.tsv.zip to .\n"
          ]
        },
        {
          "output_type": "stream",
          "name": "stderr",
          "text": [
            "100%|██████████| 1.28M/1.28M [00:00<00:00, 120MB/s]"
          ]
        },
        {
          "output_type": "stream",
          "name": "stdout",
          "text": [
            "\n"
          ]
        },
        {
          "output_type": "stream",
          "name": "stderr",
          "text": [
            "\n"
          ]
        }
      ]
    },
    {
      "cell_type": "code",
      "source": [
        "import zipfile\n",
        "with zipfile.ZipFile('train.tsv.zip', 'r') as zipref:\n",
        "    zipref.extractall('./')"
      ],
      "metadata": {
        "id": "_CapBAon1_2H"
      },
      "execution_count": 9,
      "outputs": []
    },
    {
      "cell_type": "code",
      "source": [
        "import pandas as pd\n",
        "df = pd.read_csv('train.tsv', sep='\\t')"
      ],
      "metadata": {
        "id": "vU-NcZYC6fsI"
      },
      "execution_count": 10,
      "outputs": []
    },
    {
      "cell_type": "code",
      "source": [
        "df.head()"
      ],
      "metadata": {
        "colab": {
          "base_uri": "https://localhost:8080/",
          "height": 206
        },
        "id": "bZcvqugB7C05",
        "outputId": "9a93a9f6-08d4-4f0d-c20b-1f47bb3150ab"
      },
      "execution_count": 11,
      "outputs": [
        {
          "output_type": "execute_result",
          "data": {
            "text/html": [
              "\n",
              "  <div id=\"df-7d8d42fc-d56e-43b0-9b10-97bdcbdf757d\">\n",
              "    <div class=\"colab-df-container\">\n",
              "      <div>\n",
              "<style scoped>\n",
              "    .dataframe tbody tr th:only-of-type {\n",
              "        vertical-align: middle;\n",
              "    }\n",
              "\n",
              "    .dataframe tbody tr th {\n",
              "        vertical-align: top;\n",
              "    }\n",
              "\n",
              "    .dataframe thead th {\n",
              "        text-align: right;\n",
              "    }\n",
              "</style>\n",
              "<table border=\"1\" class=\"dataframe\">\n",
              "  <thead>\n",
              "    <tr style=\"text-align: right;\">\n",
              "      <th></th>\n",
              "      <th>PhraseId</th>\n",
              "      <th>SentenceId</th>\n",
              "      <th>Phrase</th>\n",
              "      <th>Sentiment</th>\n",
              "    </tr>\n",
              "  </thead>\n",
              "  <tbody>\n",
              "    <tr>\n",
              "      <th>0</th>\n",
              "      <td>1</td>\n",
              "      <td>1</td>\n",
              "      <td>A series of escapades demonstrating the adage ...</td>\n",
              "      <td>1</td>\n",
              "    </tr>\n",
              "    <tr>\n",
              "      <th>1</th>\n",
              "      <td>2</td>\n",
              "      <td>1</td>\n",
              "      <td>A series of escapades demonstrating the adage ...</td>\n",
              "      <td>2</td>\n",
              "    </tr>\n",
              "    <tr>\n",
              "      <th>2</th>\n",
              "      <td>3</td>\n",
              "      <td>1</td>\n",
              "      <td>A series</td>\n",
              "      <td>2</td>\n",
              "    </tr>\n",
              "    <tr>\n",
              "      <th>3</th>\n",
              "      <td>4</td>\n",
              "      <td>1</td>\n",
              "      <td>A</td>\n",
              "      <td>2</td>\n",
              "    </tr>\n",
              "    <tr>\n",
              "      <th>4</th>\n",
              "      <td>5</td>\n",
              "      <td>1</td>\n",
              "      <td>series</td>\n",
              "      <td>2</td>\n",
              "    </tr>\n",
              "  </tbody>\n",
              "</table>\n",
              "</div>\n",
              "      <button class=\"colab-df-convert\" onclick=\"convertToInteractive('df-7d8d42fc-d56e-43b0-9b10-97bdcbdf757d')\"\n",
              "              title=\"Convert this dataframe to an interactive table.\"\n",
              "              style=\"display:none;\">\n",
              "        \n",
              "  <svg xmlns=\"http://www.w3.org/2000/svg\" height=\"24px\"viewBox=\"0 0 24 24\"\n",
              "       width=\"24px\">\n",
              "    <path d=\"M0 0h24v24H0V0z\" fill=\"none\"/>\n",
              "    <path d=\"M18.56 5.44l.94 2.06.94-2.06 2.06-.94-2.06-.94-.94-2.06-.94 2.06-2.06.94zm-11 1L8.5 8.5l.94-2.06 2.06-.94-2.06-.94L8.5 2.5l-.94 2.06-2.06.94zm10 10l.94 2.06.94-2.06 2.06-.94-2.06-.94-.94-2.06-.94 2.06-2.06.94z\"/><path d=\"M17.41 7.96l-1.37-1.37c-.4-.4-.92-.59-1.43-.59-.52 0-1.04.2-1.43.59L10.3 9.45l-7.72 7.72c-.78.78-.78 2.05 0 2.83L4 21.41c.39.39.9.59 1.41.59.51 0 1.02-.2 1.41-.59l7.78-7.78 2.81-2.81c.8-.78.8-2.07 0-2.86zM5.41 20L4 18.59l7.72-7.72 1.47 1.35L5.41 20z\"/>\n",
              "  </svg>\n",
              "      </button>\n",
              "      \n",
              "  <style>\n",
              "    .colab-df-container {\n",
              "      display:flex;\n",
              "      flex-wrap:wrap;\n",
              "      gap: 12px;\n",
              "    }\n",
              "\n",
              "    .colab-df-convert {\n",
              "      background-color: #E8F0FE;\n",
              "      border: none;\n",
              "      border-radius: 50%;\n",
              "      cursor: pointer;\n",
              "      display: none;\n",
              "      fill: #1967D2;\n",
              "      height: 32px;\n",
              "      padding: 0 0 0 0;\n",
              "      width: 32px;\n",
              "    }\n",
              "\n",
              "    .colab-df-convert:hover {\n",
              "      background-color: #E2EBFA;\n",
              "      box-shadow: 0px 1px 2px rgba(60, 64, 67, 0.3), 0px 1px 3px 1px rgba(60, 64, 67, 0.15);\n",
              "      fill: #174EA6;\n",
              "    }\n",
              "\n",
              "    [theme=dark] .colab-df-convert {\n",
              "      background-color: #3B4455;\n",
              "      fill: #D2E3FC;\n",
              "    }\n",
              "\n",
              "    [theme=dark] .colab-df-convert:hover {\n",
              "      background-color: #434B5C;\n",
              "      box-shadow: 0px 1px 3px 1px rgba(0, 0, 0, 0.15);\n",
              "      filter: drop-shadow(0px 1px 2px rgba(0, 0, 0, 0.3));\n",
              "      fill: #FFFFFF;\n",
              "    }\n",
              "  </style>\n",
              "\n",
              "      <script>\n",
              "        const buttonEl =\n",
              "          document.querySelector('#df-7d8d42fc-d56e-43b0-9b10-97bdcbdf757d button.colab-df-convert');\n",
              "        buttonEl.style.display =\n",
              "          google.colab.kernel.accessAllowed ? 'block' : 'none';\n",
              "\n",
              "        async function convertToInteractive(key) {\n",
              "          const element = document.querySelector('#df-7d8d42fc-d56e-43b0-9b10-97bdcbdf757d');\n",
              "          const dataTable =\n",
              "            await google.colab.kernel.invokeFunction('convertToInteractive',\n",
              "                                                     [key], {});\n",
              "          if (!dataTable) return;\n",
              "\n",
              "          const docLinkHtml = 'Like what you see? Visit the ' +\n",
              "            '<a target=\"_blank\" href=https://colab.research.google.com/notebooks/data_table.ipynb>data table notebook</a>'\n",
              "            + ' to learn more about interactive tables.';\n",
              "          element.innerHTML = '';\n",
              "          dataTable['output_type'] = 'display_data';\n",
              "          await google.colab.output.renderOutput(dataTable, element);\n",
              "          const docLink = document.createElement('div');\n",
              "          docLink.innerHTML = docLinkHtml;\n",
              "          element.appendChild(docLink);\n",
              "        }\n",
              "      </script>\n",
              "    </div>\n",
              "  </div>\n",
              "  "
            ],
            "text/plain": [
              "   PhraseId  ...  Sentiment\n",
              "0         1  ...          1\n",
              "1         2  ...          2\n",
              "2         3  ...          2\n",
              "3         4  ...          2\n",
              "4         5  ...          2\n",
              "\n",
              "[5 rows x 4 columns]"
            ]
          },
          "metadata": {},
          "execution_count": 11
        }
      ]
    },
    {
      "cell_type": "code",
      "source": [
        "df.drop_duplicates(subset='SentenceId', keep='first', inplace=True)\n",
        "df.head()"
      ],
      "metadata": {
        "colab": {
          "base_uri": "https://localhost:8080/",
          "height": 206
        },
        "id": "ucwQg_J27PHn",
        "outputId": "56f1ecab-eb85-45df-d484-f43aecc6d76f"
      },
      "execution_count": 12,
      "outputs": [
        {
          "output_type": "execute_result",
          "data": {
            "text/html": [
              "\n",
              "  <div id=\"df-ffdc441d-6896-4330-b285-610a07fb7a46\">\n",
              "    <div class=\"colab-df-container\">\n",
              "      <div>\n",
              "<style scoped>\n",
              "    .dataframe tbody tr th:only-of-type {\n",
              "        vertical-align: middle;\n",
              "    }\n",
              "\n",
              "    .dataframe tbody tr th {\n",
              "        vertical-align: top;\n",
              "    }\n",
              "\n",
              "    .dataframe thead th {\n",
              "        text-align: right;\n",
              "    }\n",
              "</style>\n",
              "<table border=\"1\" class=\"dataframe\">\n",
              "  <thead>\n",
              "    <tr style=\"text-align: right;\">\n",
              "      <th></th>\n",
              "      <th>PhraseId</th>\n",
              "      <th>SentenceId</th>\n",
              "      <th>Phrase</th>\n",
              "      <th>Sentiment</th>\n",
              "    </tr>\n",
              "  </thead>\n",
              "  <tbody>\n",
              "    <tr>\n",
              "      <th>0</th>\n",
              "      <td>1</td>\n",
              "      <td>1</td>\n",
              "      <td>A series of escapades demonstrating the adage ...</td>\n",
              "      <td>1</td>\n",
              "    </tr>\n",
              "    <tr>\n",
              "      <th>63</th>\n",
              "      <td>64</td>\n",
              "      <td>2</td>\n",
              "      <td>This quiet , introspective and entertaining in...</td>\n",
              "      <td>4</td>\n",
              "    </tr>\n",
              "    <tr>\n",
              "      <th>81</th>\n",
              "      <td>82</td>\n",
              "      <td>3</td>\n",
              "      <td>Even fans of Ismail Merchant 's work , I suspe...</td>\n",
              "      <td>1</td>\n",
              "    </tr>\n",
              "    <tr>\n",
              "      <th>116</th>\n",
              "      <td>117</td>\n",
              "      <td>4</td>\n",
              "      <td>A positively thrilling combination of ethnogra...</td>\n",
              "      <td>3</td>\n",
              "    </tr>\n",
              "    <tr>\n",
              "      <th>156</th>\n",
              "      <td>157</td>\n",
              "      <td>5</td>\n",
              "      <td>Aggressive self-glorification and a manipulati...</td>\n",
              "      <td>1</td>\n",
              "    </tr>\n",
              "  </tbody>\n",
              "</table>\n",
              "</div>\n",
              "      <button class=\"colab-df-convert\" onclick=\"convertToInteractive('df-ffdc441d-6896-4330-b285-610a07fb7a46')\"\n",
              "              title=\"Convert this dataframe to an interactive table.\"\n",
              "              style=\"display:none;\">\n",
              "        \n",
              "  <svg xmlns=\"http://www.w3.org/2000/svg\" height=\"24px\"viewBox=\"0 0 24 24\"\n",
              "       width=\"24px\">\n",
              "    <path d=\"M0 0h24v24H0V0z\" fill=\"none\"/>\n",
              "    <path d=\"M18.56 5.44l.94 2.06.94-2.06 2.06-.94-2.06-.94-.94-2.06-.94 2.06-2.06.94zm-11 1L8.5 8.5l.94-2.06 2.06-.94-2.06-.94L8.5 2.5l-.94 2.06-2.06.94zm10 10l.94 2.06.94-2.06 2.06-.94-2.06-.94-.94-2.06-.94 2.06-2.06.94z\"/><path d=\"M17.41 7.96l-1.37-1.37c-.4-.4-.92-.59-1.43-.59-.52 0-1.04.2-1.43.59L10.3 9.45l-7.72 7.72c-.78.78-.78 2.05 0 2.83L4 21.41c.39.39.9.59 1.41.59.51 0 1.02-.2 1.41-.59l7.78-7.78 2.81-2.81c.8-.78.8-2.07 0-2.86zM5.41 20L4 18.59l7.72-7.72 1.47 1.35L5.41 20z\"/>\n",
              "  </svg>\n",
              "      </button>\n",
              "      \n",
              "  <style>\n",
              "    .colab-df-container {\n",
              "      display:flex;\n",
              "      flex-wrap:wrap;\n",
              "      gap: 12px;\n",
              "    }\n",
              "\n",
              "    .colab-df-convert {\n",
              "      background-color: #E8F0FE;\n",
              "      border: none;\n",
              "      border-radius: 50%;\n",
              "      cursor: pointer;\n",
              "      display: none;\n",
              "      fill: #1967D2;\n",
              "      height: 32px;\n",
              "      padding: 0 0 0 0;\n",
              "      width: 32px;\n",
              "    }\n",
              "\n",
              "    .colab-df-convert:hover {\n",
              "      background-color: #E2EBFA;\n",
              "      box-shadow: 0px 1px 2px rgba(60, 64, 67, 0.3), 0px 1px 3px 1px rgba(60, 64, 67, 0.15);\n",
              "      fill: #174EA6;\n",
              "    }\n",
              "\n",
              "    [theme=dark] .colab-df-convert {\n",
              "      background-color: #3B4455;\n",
              "      fill: #D2E3FC;\n",
              "    }\n",
              "\n",
              "    [theme=dark] .colab-df-convert:hover {\n",
              "      background-color: #434B5C;\n",
              "      box-shadow: 0px 1px 3px 1px rgba(0, 0, 0, 0.15);\n",
              "      filter: drop-shadow(0px 1px 2px rgba(0, 0, 0, 0.3));\n",
              "      fill: #FFFFFF;\n",
              "    }\n",
              "  </style>\n",
              "\n",
              "      <script>\n",
              "        const buttonEl =\n",
              "          document.querySelector('#df-ffdc441d-6896-4330-b285-610a07fb7a46 button.colab-df-convert');\n",
              "        buttonEl.style.display =\n",
              "          google.colab.kernel.accessAllowed ? 'block' : 'none';\n",
              "\n",
              "        async function convertToInteractive(key) {\n",
              "          const element = document.querySelector('#df-ffdc441d-6896-4330-b285-610a07fb7a46');\n",
              "          const dataTable =\n",
              "            await google.colab.kernel.invokeFunction('convertToInteractive',\n",
              "                                                     [key], {});\n",
              "          if (!dataTable) return;\n",
              "\n",
              "          const docLinkHtml = 'Like what you see? Visit the ' +\n",
              "            '<a target=\"_blank\" href=https://colab.research.google.com/notebooks/data_table.ipynb>data table notebook</a>'\n",
              "            + ' to learn more about interactive tables.';\n",
              "          element.innerHTML = '';\n",
              "          dataTable['output_type'] = 'display_data';\n",
              "          await google.colab.output.renderOutput(dataTable, element);\n",
              "          const docLink = document.createElement('div');\n",
              "          docLink.innerHTML = docLinkHtml;\n",
              "          element.appendChild(docLink);\n",
              "        }\n",
              "      </script>\n",
              "    </div>\n",
              "  </div>\n",
              "  "
            ],
            "text/plain": [
              "     PhraseId  ...  Sentiment\n",
              "0           1  ...          1\n",
              "63         64  ...          4\n",
              "81         82  ...          1\n",
              "116       117  ...          3\n",
              "156       157  ...          1\n",
              "\n",
              "[5 rows x 4 columns]"
            ]
          },
          "metadata": {},
          "execution_count": 12
        }
      ]
    },
    {
      "cell_type": "code",
      "source": [
        "len(df)"
      ],
      "metadata": {
        "colab": {
          "base_uri": "https://localhost:8080/"
        },
        "id": "bOk3Fpp39oEU",
        "outputId": "8a5f7935-d273-4ee8-fbba-bdec17f095c6"
      },
      "execution_count": 13,
      "outputs": [
        {
          "output_type": "execute_result",
          "data": {
            "text/plain": [
              "8529"
            ]
          },
          "metadata": {},
          "execution_count": 13
        }
      ]
    },
    {
      "cell_type": "code",
      "source": [
        "suqlen = df['Phrase'].apply(lambda x: len(x.split()))"
      ],
      "metadata": {
        "id": "YagYBS5k90K7"
      },
      "execution_count": 14,
      "outputs": []
    },
    {
      "cell_type": "code",
      "source": [
        "suqlen"
      ],
      "metadata": {
        "colab": {
          "base_uri": "https://localhost:8080/"
        },
        "id": "LF0vO-C9RJPr",
        "outputId": "05a3a043-e1ee-41f5-f64c-84752c8cc45b"
      },
      "execution_count": 15,
      "outputs": [
        {
          "output_type": "execute_result",
          "data": {
            "text/plain": [
              "0         37\n",
              "63        11\n",
              "81        21\n",
              "116       26\n",
              "156        7\n",
              "          ..\n",
              "155984    16\n",
              "155997    26\n",
              "156021    17\n",
              "156031    11\n",
              "156039    21\n",
              "Name: Phrase, Length: 8529, dtype: int64"
            ]
          },
          "metadata": {},
          "execution_count": 15
        }
      ]
    },
    {
      "cell_type": "code",
      "source": [
        "import seaborn as sns\n",
        "import matplotlib.pyplot as plt "
      ],
      "metadata": {
        "id": "pjgyNUEsRLfP"
      },
      "execution_count": 16,
      "outputs": []
    },
    {
      "cell_type": "code",
      "source": [
        "sns.set_style('darkgrid')\n",
        "plt.figure(figsize=(16, 10))\n",
        "sns.displot(suqlen)"
      ],
      "metadata": {
        "colab": {
          "base_uri": "https://localhost:8080/",
          "height": 405
        },
        "id": "H_j7rbqGRYQJ",
        "outputId": "a4b84935-aace-4a10-cd0c-66d7eb75d919"
      },
      "execution_count": 17,
      "outputs": [
        {
          "output_type": "execute_result",
          "data": {
            "text/plain": [
              "<seaborn.axisgrid.FacetGrid at 0x7f3c57a4d710>"
            ]
          },
          "metadata": {},
          "execution_count": 17
        },
        {
          "output_type": "display_data",
          "data": {
            "text/plain": [
              "<Figure size 1152x720 with 0 Axes>"
            ]
          },
          "metadata": {}
        },
        {
          "output_type": "display_data",
          "data": {
            "image/png": "[encoded data removed]",
            "text/plain": [
              "<Figure size 360x360 with 1 Axes>"
            ]
          },
          "metadata": {}
        }
      ]
    },
    {
      "cell_type": "code",
      "source": [
        "SEQ_LEN = 50"
      ],
      "metadata": {
        "id": "WMRocmC6Rw2Q"
      },
      "execution_count": 18,
      "outputs": []
    },
    {
      "cell_type": "code",
      "source": [
        "!pip install transformers"
      ],
      "metadata": {
        "colab": {
          "base_uri": "https://localhost:8080/"
        },
        "id": "R3g_6unUSwjZ",
        "outputId": "950b1260-5225-476b-80da-44ef0303fc5b"
      },
      "execution_count": 19,
      "outputs": [
        {
          "output_type": "stream",
          "name": "stdout",
          "text": [
            "Collecting transformers\n",
            "  Downloading transformers-4.15.0-py3-none-any.whl (3.4 MB)\n",
            "\u001b[K     |████████████████████████████████| 3.4 MB 4.9 MB/s \n",
            "\u001b[?25hRequirement already satisfied: tqdm>=4.27 in /usr/local/lib/python3.7/dist-packages (from transformers) (4.62.3)\n",
            "Collecting sacremoses\n",
            "  Downloading sacremoses-0.0.47-py2.py3-none-any.whl (895 kB)\n",
            "\u001b[K     |████████████████████████████████| 895 kB 57.0 MB/s \n",
            "\u001b[?25hRequirement already satisfied: regex!=2019.12.17 in /usr/local/lib/python3.7/dist-packages (from transformers) (2019.12.20)\n",
            "Collecting tokenizers<0.11,>=0.10.1\n",
            "  Downloading tokenizers-0.10.3-cp37-cp37m-manylinux_2_5_x86_64.manylinux1_x86_64.manylinux_2_12_x86_64.manylinux2010_x86_64.whl (3.3 MB)\n",
            "\u001b[K     |████████████████████████████████| 3.3 MB 22.4 MB/s \n",
            "\u001b[?25hCollecting huggingface-hub<1.0,>=0.1.0\n",
            "  Downloading huggingface_hub-0.4.0-py3-none-any.whl (67 kB)\n",
            "\u001b[K     |████████████████████████████████| 67 kB 7.3 MB/s \n",
            "\u001b[?25hCollecting pyyaml>=5.1\n",
            "  Downloading PyYAML-6.0-cp37-cp37m-manylinux_2_5_x86_64.manylinux1_x86_64.manylinux_2_12_x86_64.manylinux2010_x86_64.whl (596 kB)\n",
            "\u001b[K     |████████████████████████████████| 596 kB 69.7 MB/s \n",
            "\u001b[?25hRequirement already satisfied: importlib-metadata in /usr/local/lib/python3.7/dist-packages (from transformers) (4.10.0)\n",
            "Requirement already satisfied: requests in /usr/local/lib/python3.7/dist-packages (from transformers) (2.23.0)\n",
            "Requirement already satisfied: filelock in /usr/local/lib/python3.7/dist-packages (from transformers) (3.4.2)\n",
            "Requirement already satisfied: numpy>=1.17 in /usr/local/lib/python3.7/dist-packages (from transformers) (1.19.5)\n",
            "Requirement already satisfied: packaging>=20.0 in /usr/local/lib/python3.7/dist-packages (from transformers) (21.3)\n",
            "Requirement already satisfied: typing-extensions>=3.7.4.3 in /usr/local/lib/python3.7/dist-packages (from huggingface-hub<1.0,>=0.1.0->transformers) (3.10.0.2)\n",
            "Requirement already satisfied: pyparsing!=3.0.5,>=2.0.2 in /usr/local/lib/python3.7/dist-packages (from packaging>=20.0->transformers) (3.0.6)\n",
            "Requirement already satisfied: zipp>=0.5 in /usr/local/lib/python3.7/dist-packages (from importlib-metadata->transformers) (3.7.0)\n",
            "Requirement already satisfied: idna<3,>=2.5 in /usr/local/lib/python3.7/dist-packages (from requests->transformers) (2.10)\n",
            "Requirement already satisfied: chardet<4,>=3.0.2 in /usr/local/lib/python3.7/dist-packages (from requests->transformers) (3.0.4)\n",
            "Requirement already satisfied: urllib3!=1.25.0,!=1.25.1,<1.26,>=1.21.1 in /usr/local/lib/python3.7/dist-packages (from requests->transformers) (1.24.3)\n",
            "Requirement already satisfied: certifi>=2017.4.17 in /usr/local/lib/python3.7/dist-packages (from requests->transformers) (2021.10.8)\n",
            "Requirement already satisfied: joblib in /usr/local/lib/python3.7/dist-packages (from sacremoses->transformers) (1.1.0)\n",
            "Requirement already satisfied: six in /usr/local/lib/python3.7/dist-packages (from sacremoses->transformers) (1.15.0)\n",
            "Requirement already satisfied: click in /usr/local/lib/python3.7/dist-packages (from sacremoses->transformers) (7.1.2)\n",
            "Installing collected packages: pyyaml, tokenizers, sacremoses, huggingface-hub, transformers\n",
            "  Attempting uninstall: pyyaml\n",
            "    Found existing installation: PyYAML 3.13\n",
            "    Uninstalling PyYAML-3.13:\n",
            "      Successfully uninstalled PyYAML-3.13\n",
            "Successfully installed huggingface-hub-0.4.0 pyyaml-6.0 sacremoses-0.0.47 tokenizers-0.10.3 transformers-4.15.0\n"
          ]
        }
      ]
    },
    {
      "cell_type": "code",
      "source": [
        "from transformers import AutoTokenizer"
      ],
      "metadata": {
        "id": "BivngDT_SKGz"
      },
      "execution_count": 20,
      "outputs": []
    },
    {
      "cell_type": "code",
      "source": [
        "tokenizer = AutoTokenizer.from_pretrained('bert-base-cased')"
      ],
      "metadata": {
        "colab": {
          "base_uri": "https://localhost:8080/",
          "height": 145,
          "referenced_widgets": [
            "51ad91c38f504acb9be5e345b02c51ce",
            "1c10ae5384a94709b3fdbc6a3ed6b451",
            "de0a75d2377e49aba6b9186bfae54204",
            "baac30da046143f58c72b270885536f9",
            "4c771c53427542c0b9b511d3c470d43a",
            "53dde1d0748c4f7989a8896fb0f62781",
            "866e25d2857149e79e4800b0e7f338ae",
            "dd523f9d25264c4ca83a77a9b501d077",
            "7d3729708d4a468dbc704d349446519e",
            "4aa9004c29af45538eb1784f5d66e337",
            "79bde5c3b13e4e6789d5ae30c757c0da",
            "dbbbe4f85f3e477a8ace679d52134853",
            "19e5344582674d239f1a2c115ad7906e",
            "abb843cc0d3e460bb97d1f2c852e939c",
            "93aa5c6a0edb4c9b813394e4ab89be11",
            "850c196219bb48adb2323d5d435c0da7",
            "b988eafd4d834b3fa6a085111d1603c4",
            "393de5be862b44ce96e1f8c5a6e1e511",
            "db48db37a3de4d2090ce74c2f3a0139a",
            "c0aa862eec7f4917afc6eb7ea2e7e9c1",
            "b257c4f98c574bc3998b6ca46eda2f80",
            "f81c5ece52f84afe860c2d87068d64bf",
            "1d9ae5559b634648a180bb5735f6ce3e",
            "7b2ed27fba5143afba560492612e4930",
            "2294153d05354191b880f2c37217ae74",
            "2b896c2453134d3e885e3741b1d72de9",
            "0bcf053cc0914935b9ccfffabefd869c",
            "19276ddeeef24d67a825d3c1612e57fb",
            "9534691d36504047ae7193cfad495941",
            "7f2cb4e192cb49dc9ddc02709895f359",
            "55c263c75ecd49458c645c9e3a4ff6f6",
            "b618bdfe32cf408a8635ab3754652f67",
            "e541cad6a2a04e34b4a42f0ff2a3d96e",
            "5913bbde9c404e8991ec9f8b04fe1b55",
            "9a495674a3fc4786bbecbdccdab6a4f9",
            "e16b67729a2343c9bd145d4dabacbb65",
            "8b81c8ae04cf4c27aefedecdbf11d413",
            "d07b3d14342844d9a5d6ad01a545de54",
            "572e597d49a14b46af811393592d49c8",
            "47bc8815a5d245f992a7740a29f682e1",
            "03c67f84a547438ea4f8b3a694c1c655",
            "a85fd635a7694f96a125bd762750cca9",
            "51146c30a2af47449d030289e1190d6f",
            "cf9064807a07457ba24c96a2945a02ba"
          ]
        },
        "id": "OwXlDD-JSb2b",
        "outputId": "7cbbcf7b-ddb2-40d0-e641-b736dccfa37f"
      },
      "execution_count": 21,
      "outputs": [
        {
          "output_type": "display_data",
          "data": {
            "application/vnd.jupyter.widget-view+json": {
              "model_id": "51ad91c38f504acb9be5e345b02c51ce",
              "version_minor": 0,
              "version_major": 2
            },
            "text/plain": [
              "Downloading:   0%|          | 0.00/29.0 [00:00<?, ?B/s]"
            ]
          },
          "metadata": {}
        },
        {
          "output_type": "display_data",
          "data": {
            "application/vnd.jupyter.widget-view+json": {
              "model_id": "dbbbe4f85f3e477a8ace679d52134853",
              "version_minor": 0,
              "version_major": 2
            },
            "text/plain": [
              "Downloading:   0%|          | 0.00/570 [00:00<?, ?B/s]"
            ]
          },
          "metadata": {}
        },
        {
          "output_type": "display_data",
          "data": {
            "application/vnd.jupyter.widget-view+json": {
              "model_id": "1d9ae5559b634648a180bb5735f6ce3e",
              "version_minor": 0,
              "version_major": 2
            },
            "text/plain": [
              "Downloading:   0%|          | 0.00/208k [00:00<?, ?B/s]"
            ]
          },
          "metadata": {}
        },
        {
          "output_type": "display_data",
          "data": {
            "application/vnd.jupyter.widget-view+json": {
              "model_id": "5913bbde9c404e8991ec9f8b04fe1b55",
              "version_minor": 0,
              "version_major": 2
            },
            "text/plain": [
              "Downloading:   0%|          | 0.00/426k [00:00<?, ?B/s]"
            ]
          },
          "metadata": {}
        }
      ]
    },
    {
      "cell_type": "code",
      "source": [
        "tokenizer"
      ],
      "metadata": {
        "colab": {
          "base_uri": "https://localhost:8080/"
        },
        "id": "5Zan-2Z5TLTL",
        "outputId": "a901d239-5630-456e-a966-308ae50b1fa6"
      },
      "execution_count": 22,
      "outputs": [
        {
          "output_type": "execute_result",
          "data": {
            "text/plain": [
              "PreTrainedTokenizerFast(name_or_path='bert-base-cased', vocab_size=28996, model_max_len=512, is_fast=True, padding_side='right', special_tokens={'unk_token': '[UNK]', 'sep_token': '[SEP]', 'pad_token': '[PAD]', 'cls_token': '[CLS]', 'mask_token': '[MASK]'})"
            ]
          },
          "metadata": {},
          "execution_count": 22
        }
      ]
    },
    {
      "cell_type": "code",
      "source": [
        "tokens = tokenizer.encode_plus(\"hello word\", max_length=SEQ_LEN, truncation=True,\n",
        "                               padding=\"max_length\", add_special_tokens=True,\n",
        "                               return_token_type_ids=False, return_attention_mask=True,\n",
        "                               return_tensors='tf')"
      ],
      "metadata": {
        "id": "d-0BYusETOgp"
      },
      "execution_count": 23,
      "outputs": []
    },
    {
      "cell_type": "code",
      "source": [
        "tokens"
      ],
      "metadata": {
        "colab": {
          "base_uri": "https://localhost:8080/"
        },
        "id": "gfxHM-DLTxBX",
        "outputId": "0b2bef05-178f-480f-8525-6575d57a0a2c"
      },
      "execution_count": 24,
      "outputs": [
        {
          "output_type": "execute_result",
          "data": {
            "text/plain": [
              "{'input_ids': <tf.Tensor: shape=(1, 50), dtype=int32, numpy=\n",
              "array([[  101, 19082,  1937,   102,     0,     0,     0,     0,     0,\n",
              "            0,     0,     0,     0,     0,     0,     0,     0,     0,\n",
              "            0,     0,     0,     0,     0,     0,     0,     0,     0,\n",
              "            0,     0,     0,     0,     0,     0,     0,     0,     0,\n",
              "            0,     0,     0,     0,     0,     0,     0,     0,     0,\n",
              "            0,     0,     0,     0,     0]], dtype=int32)>, 'attention_mask': <tf.Tensor: shape=(1, 50), dtype=int32, numpy=\n",
              "array([[1, 1, 1, 1, 0, 0, 0, 0, 0, 0, 0, 0, 0, 0, 0, 0, 0, 0, 0, 0, 0, 0,\n",
              "        0, 0, 0, 0, 0, 0, 0, 0, 0, 0, 0, 0, 0, 0, 0, 0, 0, 0, 0, 0, 0, 0,\n",
              "        0, 0, 0, 0, 0, 0]], dtype=int32)>}"
            ]
          },
          "metadata": {},
          "execution_count": 24
        }
      ]
    },
    {
      "cell_type": "code",
      "source": [
        "import numpy as np "
      ],
      "metadata": {
        "id": "fbFOWNlMUYU5"
      },
      "execution_count": 25,
      "outputs": []
    },
    {
      "cell_type": "code",
      "source": [
        "Xids = np.zeros((len(df), SEQ_LEN))\n",
        "Xmask = np.zeros((len(df), SEQ_LEN))"
      ],
      "metadata": {
        "id": "HYYufmotX2cY"
      },
      "execution_count": 26,
      "outputs": []
    },
    {
      "cell_type": "code",
      "source": [
        "Xids.shape"
      ],
      "metadata": {
        "colab": {
          "base_uri": "https://localhost:8080/"
        },
        "id": "gMmoKGWWYR6Q",
        "outputId": "3acf421c-79f2-4c58-d1a9-a3f27cd6e03c"
      },
      "execution_count": 27,
      "outputs": [
        {
          "output_type": "execute_result",
          "data": {
            "text/plain": [
              "(8529, 50)"
            ]
          },
          "metadata": {},
          "execution_count": 27
        }
      ]
    },
    {
      "cell_type": "code",
      "source": [
        "for i, sequence in enumerate(df['Phrase']):\n",
        "    tokens = tokenizer.encode_plus(sequence, max_length=SEQ_LEN, truncation=True,\n",
        "                               padding=\"max_length\", add_special_tokens=True,\n",
        "                               return_token_type_ids=False, return_attention_mask=True,\n",
        "                               return_tensors='tf')\n",
        "    Xids[i, :], Xmask[i, :] = tokens['input_ids'], tokens['attention_mask']"
      ],
      "metadata": {
        "id": "2htFbKmWYTn8"
      },
      "execution_count": 28,
      "outputs": []
    },
    {
      "cell_type": "code",
      "source": [
        "Xids\n",
        "# 101: start of seq token, 102: end of seq token (padding tokens)"
      ],
      "metadata": {
        "colab": {
          "base_uri": "https://localhost:8080/"
        },
        "id": "CYA0HoOSaHlK",
        "outputId": "58f21cae-0114-46b2-e706-200f7d3052a2"
      },
      "execution_count": 29,
      "outputs": [
        {
          "output_type": "execute_result",
          "data": {
            "text/plain": [
              "array([[ 101.,  138., 1326., ...,    0.,    0.,    0.],\n",
              "       [ 101., 1188., 3589., ...,    0.,    0.,    0.],\n",
              "       [ 101., 2431., 3899., ...,    0.,    0.,    0.],\n",
              "       ...,\n",
              "       [ 101.,  118.,  149., ...,    0.,    0.,    0.],\n",
              "       [ 101., 1109., 2523., ...,    0.,    0.,    0.],\n",
              "       [ 101., 1109., 1273., ...,    0.,    0.,    0.]])"
            ]
          },
          "metadata": {},
          "execution_count": 29
        }
      ]
    },
    {
      "cell_type": "code",
      "source": [
        "Xmask\n",
        "# our attention mask, we have the ones (1) to pay attention to and\n",
        "# the zeros ignore "
      ],
      "metadata": {
        "colab": {
          "base_uri": "https://localhost:8080/"
        },
        "id": "SNquU9_maLtK",
        "outputId": "ba6eb140-cf35-4ee9-8220-70dc6ba9c9e7"
      },
      "execution_count": 30,
      "outputs": [
        {
          "output_type": "execute_result",
          "data": {
            "text/plain": [
              "array([[1., 1., 1., ..., 0., 0., 0.],\n",
              "       [1., 1., 1., ..., 0., 0., 0.],\n",
              "       [1., 1., 1., ..., 0., 0., 0.],\n",
              "       ...,\n",
              "       [1., 1., 1., ..., 0., 0., 0.],\n",
              "       [1., 1., 1., ..., 0., 0., 0.],\n",
              "       [1., 1., 1., ..., 0., 0., 0.]])"
            ]
          },
          "metadata": {},
          "execution_count": 30
        }
      ]
    },
    {
      "cell_type": "markdown",
      "source": [
        "Now lets one hot encode our labels"
      ],
      "metadata": {
        "id": "Vjm1sFP2bEvu"
      }
    },
    {
      "cell_type": "code",
      "source": [
        "df['Sentiment'].unique"
      ],
      "metadata": {
        "colab": {
          "base_uri": "https://localhost:8080/"
        },
        "id": "lRPQFHQ_bEUb",
        "outputId": "589b3bd7-f270-41d9-bbff-a6f9a4dd8e74"
      },
      "execution_count": 31,
      "outputs": [
        {
          "output_type": "execute_result",
          "data": {
            "text/plain": [
              "<bound method Series.unique of 0         1\n",
              "63        4\n",
              "81        1\n",
              "116       3\n",
              "156       1\n",
              "         ..\n",
              "155984    2\n",
              "155997    2\n",
              "156021    1\n",
              "156031    1\n",
              "156039    2\n",
              "Name: Sentiment, Length: 8529, dtype: int64>"
            ]
          },
          "metadata": {},
          "execution_count": 31
        }
      ]
    },
    {
      "cell_type": "code",
      "source": [
        "# create an array from the dataframe column\n",
        "arr = df['Sentiment'].values\n",
        "arr.size"
      ],
      "metadata": {
        "colab": {
          "base_uri": "https://localhost:8080/"
        },
        "id": "fDg3Cq-ybDXh",
        "outputId": "78547439-10fb-4b84-d614-4b236c6ca46b"
      },
      "execution_count": 32,
      "outputs": [
        {
          "output_type": "execute_result",
          "data": {
            "text/plain": [
              "8529"
            ]
          },
          "metadata": {},
          "execution_count": 32
        }
      ]
    },
    {
      "cell_type": "code",
      "source": [
        "labels = np.zeros((arr.size, arr.max() + 1))"
      ],
      "metadata": {
        "id": "Ws5uYBIob4PL"
      },
      "execution_count": 33,
      "outputs": []
    },
    {
      "cell_type": "code",
      "source": [
        "labels.shape"
      ],
      "metadata": {
        "colab": {
          "base_uri": "https://localhost:8080/"
        },
        "id": "NYLWXq5cdAQI",
        "outputId": "66a2eab8-21cd-4096-f213-ae1012aeb012"
      },
      "execution_count": 34,
      "outputs": [
        {
          "output_type": "execute_result",
          "data": {
            "text/plain": [
              "(8529, 5)"
            ]
          },
          "metadata": {},
          "execution_count": 34
        }
      ]
    },
    {
      "cell_type": "code",
      "source": [
        "labels[np.arange(arr.size), arr] = 1"
      ],
      "metadata": {
        "id": "2EgXlJ-MdCcr"
      },
      "execution_count": 35,
      "outputs": []
    },
    {
      "cell_type": "code",
      "source": [
        "labels"
      ],
      "metadata": {
        "colab": {
          "base_uri": "https://localhost:8080/"
        },
        "id": "QlWv84hTdmpH",
        "outputId": "02f7bd19-1bed-48ad-971b-1b17d2232056"
      },
      "execution_count": 36,
      "outputs": [
        {
          "output_type": "execute_result",
          "data": {
            "text/plain": [
              "array([[0., 1., 0., 0., 0.],\n",
              "       [0., 0., 0., 0., 1.],\n",
              "       [0., 1., 0., 0., 0.],\n",
              "       ...,\n",
              "       [0., 1., 0., 0., 0.],\n",
              "       [0., 1., 0., 0., 0.],\n",
              "       [0., 0., 1., 0., 0.]])"
            ]
          },
          "metadata": {},
          "execution_count": 36
        }
      ]
    },
    {
      "cell_type": "code",
      "source": [
        "# we save them\n",
        "with open('xids.npy', 'wb') as f:\n",
        "    np.save(f, Xids)\n",
        "with open('xmask.npy', 'wb') as f:\n",
        "    np.save(f, Xmask)\n",
        "with open('labels.npy', 'wb') as f:\n",
        "    np.save(f, labels)\n",
        "\n"
      ],
      "metadata": {
        "id": "mZJJz_ehdn1v"
      },
      "execution_count": 37,
      "outputs": []
    },
    {
      "cell_type": "code",
      "source": [
        "# we load them\n",
        "with open('xids.npy', 'rb') as fp:\n",
        "    Xids = np.load(fp)\n",
        "with open('xmask.npy', 'rb') as fp:\n",
        "    Xmask = np.load(fp)\n",
        "with open('labels.npy', 'rb') as fp:\n",
        "    labels = np.load(fp)"
      ],
      "metadata": {
        "id": "5O_IU2rUeTpK"
      },
      "execution_count": 38,
      "outputs": []
    },
    {
      "cell_type": "code",
      "source": [
        "Xids"
      ],
      "metadata": {
        "colab": {
          "base_uri": "https://localhost:8080/"
        },
        "id": "91yICEIBe3C3",
        "outputId": "c392c9d7-ef25-4b01-a034-f28038c34477"
      },
      "execution_count": 39,
      "outputs": [
        {
          "output_type": "execute_result",
          "data": {
            "text/plain": [
              "array([[ 101.,  138., 1326., ...,    0.,    0.,    0.],\n",
              "       [ 101., 1188., 3589., ...,    0.,    0.,    0.],\n",
              "       [ 101., 2431., 3899., ...,    0.,    0.,    0.],\n",
              "       ...,\n",
              "       [ 101.,  118.,  149., ...,    0.,    0.,    0.],\n",
              "       [ 101., 1109., 2523., ...,    0.,    0.,    0.],\n",
              "       [ 101., 1109., 1273., ...,    0.,    0.,    0.]])"
            ]
          },
          "metadata": {},
          "execution_count": 39
        }
      ]
    },
    {
      "cell_type": "markdown",
      "source": [
        "Now, we need to put all of our arrays into a tensorflow dataset object. Tf makes things a lot easier so we can restructer, shuffle and batch the data in just a few lines of code which is a lot faster and simpler."
      ],
      "metadata": {
        "id": "Yx8f2ZOXfsxt"
      }
    },
    {
      "cell_type": "code",
      "source": [
        "import tensorflow as tf"
      ],
      "metadata": {
        "id": "s3XzrEt6e5jF"
      },
      "execution_count": 40,
      "outputs": []
    },
    {
      "cell_type": "code",
      "source": [
        "dataset = tf.data.Dataset.from_tensor_slices((Xids, Xmask, labels))"
      ],
      "metadata": {
        "id": "KL53-YoBgRoi"
      },
      "execution_count": 41,
      "outputs": []
    },
    {
      "cell_type": "code",
      "source": [
        "# lets see our dataset\n",
        "for i in dataset.take(1): \n",
        "    print(i)\n"
      ],
      "metadata": {
        "colab": {
          "base_uri": "https://localhost:8080/"
        },
        "id": "u5pp1uqCgu_o",
        "outputId": "3ff1d2a2-99c6-4dd6-eb65-39a14d571cb6"
      },
      "execution_count": 42,
      "outputs": [
        {
          "output_type": "stream",
          "name": "stdout",
          "text": [
            "(<tf.Tensor: shape=(50,), dtype=float64, numpy=\n",
            "array([  101.,   138.,  1326.,  1104., 13936., 25265., 16913., 15107.,\n",
            "        1103.,  8050.,  2553.,  1115.,  1184.,  1110.,  1363.,  1111.,\n",
            "        1103., 20398.,  1110.,  1145.,  1363.,  1111.,  1103.,   176.,\n",
            "        9900.,   117.,  1199.,  1104.,  1134.,  5411.,  1821., 14225.,\n",
            "        1133.,  3839.,  1104.,  1134.,  7919.,  1106.,  1277.,  1104.,\n",
            "         170.,  1642.,   119.,   102.,     0.,     0.,     0.,     0.,\n",
            "           0.,     0.])>, <tf.Tensor: shape=(50,), dtype=float64, numpy=\n",
            "array([1., 1., 1., 1., 1., 1., 1., 1., 1., 1., 1., 1., 1., 1., 1., 1., 1.,\n",
            "       1., 1., 1., 1., 1., 1., 1., 1., 1., 1., 1., 1., 1., 1., 1., 1., 1.,\n",
            "       1., 1., 1., 1., 1., 1., 1., 1., 1., 1., 0., 0., 0., 0., 0., 0.])>, <tf.Tensor: shape=(5,), dtype=float64, numpy=array([0., 1., 0., 0., 0.])>)\n"
          ]
        }
      ]
    },
    {
      "cell_type": "code",
      "source": [
        "# we have a dict so:\n",
        "def map_func(input_ids, masks, labels):\n",
        "    return {'input_ids': input_ids, 'attention_mask': masks}, labels"
      ],
      "metadata": {
        "id": "k7BnAoEQg4ic"
      },
      "execution_count": 43,
      "outputs": []
    },
    {
      "cell_type": "code",
      "source": [
        "dataset = dataset.map(map_func)"
      ],
      "metadata": {
        "id": "V_k4CYijmDUw"
      },
      "execution_count": 44,
      "outputs": []
    },
    {
      "cell_type": "code",
      "source": [
        "for i in dataset.take(1): \n",
        "    print(i)"
      ],
      "metadata": {
        "colab": {
          "base_uri": "https://localhost:8080/"
        },
        "id": "Cr8QFlJPmKI-",
        "outputId": "3fdf742a-7f13-4dec-c985-c0777afd82a5"
      },
      "execution_count": 45,
      "outputs": [
        {
          "output_type": "stream",
          "name": "stdout",
          "text": [
            "({'input_ids': <tf.Tensor: shape=(50,), dtype=float64, numpy=\n",
            "array([  101.,   138.,  1326.,  1104., 13936., 25265., 16913., 15107.,\n",
            "        1103.,  8050.,  2553.,  1115.,  1184.,  1110.,  1363.,  1111.,\n",
            "        1103., 20398.,  1110.,  1145.,  1363.,  1111.,  1103.,   176.,\n",
            "        9900.,   117.,  1199.,  1104.,  1134.,  5411.,  1821., 14225.,\n",
            "        1133.,  3839.,  1104.,  1134.,  7919.,  1106.,  1277.,  1104.,\n",
            "         170.,  1642.,   119.,   102.,     0.,     0.,     0.,     0.,\n",
            "           0.,     0.])>, 'attention_mask': <tf.Tensor: shape=(50,), dtype=float64, numpy=\n",
            "array([1., 1., 1., 1., 1., 1., 1., 1., 1., 1., 1., 1., 1., 1., 1., 1., 1.,\n",
            "       1., 1., 1., 1., 1., 1., 1., 1., 1., 1., 1., 1., 1., 1., 1., 1., 1.,\n",
            "       1., 1., 1., 1., 1., 1., 1., 1., 1., 1., 0., 0., 0., 0., 0., 0.])>}, <tf.Tensor: shape=(5,), dtype=float64, numpy=array([0., 1., 0., 0., 0.])>)\n"
          ]
        }
      ]
    },
    {
      "cell_type": "code",
      "source": [
        "# shuffle\n",
        "dataset = dataset.shuffle(100000).batch(32)"
      ],
      "metadata": {
        "id": "DY9Yl4NZmPfQ"
      },
      "execution_count": 46,
      "outputs": []
    },
    {
      "cell_type": "code",
      "source": [
        "# split train and validation\n",
        "DS_LEN = len(list(dataset))\n"
      ],
      "metadata": {
        "id": "xBi-5fewmyuz"
      },
      "execution_count": 47,
      "outputs": []
    },
    {
      "cell_type": "code",
      "source": [
        "DS_LEN"
      ],
      "metadata": {
        "colab": {
          "base_uri": "https://localhost:8080/"
        },
        "id": "VcLHWQx7m-bz",
        "outputId": "602bdacb-5b63-4b52-cf19-d9bc5856233a"
      },
      "execution_count": 48,
      "outputs": [
        {
          "output_type": "execute_result",
          "data": {
            "text/plain": [
              "267"
            ]
          },
          "metadata": {},
          "execution_count": 48
        }
      ]
    },
    {
      "cell_type": "code",
      "source": [
        "SPLIT = 0.9\n",
        "train = dataset.take(round(DS_LEN*SPLIT))\n",
        "val = dataset.skip(round(DS_LEN*SPLIT))"
      ],
      "metadata": {
        "id": "3DUS4BFcm_7u"
      },
      "execution_count": 49,
      "outputs": []
    },
    {
      "cell_type": "markdown",
      "source": [
        "Now data is ready, we can build our model architecture"
      ],
      "metadata": {
        "id": "hYlTT7cxnhe5"
      }
    },
    {
      "cell_type": "code",
      "source": [
        "# first we initialize bert \n",
        "from transformers import TFAutoModel"
      ],
      "metadata": {
        "id": "3z6iYAZ1nFAh"
      },
      "execution_count": 50,
      "outputs": []
    },
    {
      "cell_type": "code",
      "source": [
        "bert = TFAutoModel.from_pretrained('bert-base-cased')"
      ],
      "metadata": {
        "colab": {
          "base_uri": "https://localhost:8080/",
          "height": 160,
          "referenced_widgets": [
            "ab02d8e78fcb44ae9ab1feb8d91638e1",
            "8580f12d4630466ea2ada6326ab792a5",
            "4916e127f91b47139affe08a20f3ce8a",
            "607c5f6025d24a6fb511939afa47a4a9",
            "ee2038944567413082d36c343c46f179",
            "934c5dd73b8c424cac078f7bcf5cd42b",
            "6d0079f8c8444f69b9838974ee3ea8f6",
            "1fca8476839e42a48d33cea5c297850e",
            "26ab2fd179e64cd0b523462a9c6d6f74",
            "6cd78f2bab1a4d2d9d75f8d8da645692",
            "31a07c2f33634020a2d085ad40537d0c"
          ]
        },
        "id": "WJlcggDVn9DY",
        "outputId": "c30b4315-b747-4dba-c683-f7ce11383399"
      },
      "execution_count": 51,
      "outputs": [
        {
          "output_type": "display_data",
          "data": {
            "application/vnd.jupyter.widget-view+json": {
              "model_id": "ab02d8e78fcb44ae9ab1feb8d91638e1",
              "version_minor": 0,
              "version_major": 2
            },
            "text/plain": [
              "Downloading:   0%|          | 0.00/502M [00:00<?, ?B/s]"
            ]
          },
          "metadata": {}
        },
        {
          "output_type": "stream",
          "name": "stderr",
          "text": [
            "Some layers from the model checkpoint at bert-base-cased were not used when initializing TFBertModel: ['mlm___cls', 'nsp___cls']\n",
            "- This IS expected if you are initializing TFBertModel from the checkpoint of a model trained on another task or with another architecture (e.g. initializing a BertForSequenceClassification model from a BertForPreTraining model).\n",
            "- This IS NOT expected if you are initializing TFBertModel from the checkpoint of a model that you expect to be exactly identical (initializing a BertForSequenceClassification model from a BertForSequenceClassification model).\n",
            "All the layers of TFBertModel were initialized from the model checkpoint at bert-base-cased.\n",
            "If your task is similar to the task the model of the checkpoint was trained on, you can already use TFBertModel for predictions without further training.\n"
          ]
        }
      ]
    },
    {
      "cell_type": "code",
      "source": [
        "# define our input layers, we have 2: ids and masks\n",
        "input_ids = tf.keras.layers.Input(shape=(SEQ_LEN,), name='input_ids', dtype='int32')\n",
        "mask = tf.keras.layers.Input(shape=(SEQ_LEN,), name='attention_mask', dtype='int32') # same names as we have in the tensor\n",
        "\n",
        "# now we need to pull the embeddings from our initialized bert model\n",
        "embeddings = bert(input_ids, attention_mask=mask)[0]\n",
        "\n",
        "x = tf.keras.layers.GlobalMaxPooling1D()(embeddings)\n",
        "x = tf.keras.layers.BatchNormalization()(x)\n",
        "x = tf.keras.layers.Dense(128, activation='relu')(x)\n",
        "x = tf.keras.layers.Dense(32, activation='relu')(x)\n",
        "y = tf.keras.layers.Dense(5, activation='softmax', name='outputs')(x)\n",
        "\n",
        "model = tf.keras.Model(inputs=[input_ids, mask], outputs=y)"
      ],
      "metadata": {
        "id": "BiSODXvwoGel"
      },
      "execution_count": 52,
      "outputs": []
    },
    {
      "cell_type": "code",
      "source": [
        "model.summary()"
      ],
      "metadata": {
        "colab": {
          "base_uri": "https://localhost:8080/"
        },
        "id": "VSuhUy4opvW8",
        "outputId": "21763679-46cc-4d9a-d783-4bb1023a88cc"
      },
      "execution_count": 53,
      "outputs": [
        {
          "output_type": "stream",
          "name": "stdout",
          "text": [
            "Model: \"model\"\n",
            "__________________________________________________________________________________________________\n",
            " Layer (type)                   Output Shape         Param #     Connected to                     \n",
            "==================================================================================================\n",
            " input_ids (InputLayer)         [(None, 50)]         0           []                               \n",
            "                                                                                                  \n",
            " attention_mask (InputLayer)    [(None, 50)]         0           []                               \n",
            "                                                                                                  \n",
            " tf_bert_model (TFBertModel)    TFBaseModelOutputWi  108310272   ['input_ids[0][0]',              \n",
            "                                thPoolingAndCrossAt               'attention_mask[0][0]']         \n",
            "                                tentions(last_hidde                                               \n",
            "                                n_state=(None, 50,                                                \n",
            "                                768),                                                             \n",
            "                                 pooler_output=(Non                                               \n",
            "                                e, 768),                                                          \n",
            "                                 past_key_values=No                                               \n",
            "                                ne, hidden_states=N                                               \n",
            "                                one, attentions=Non                                               \n",
            "                                e, cross_attentions                                               \n",
            "                                =None)                                                            \n",
            "                                                                                                  \n",
            " global_max_pooling1d (GlobalMa  (None, 768)         0           ['tf_bert_model[0][0]']          \n",
            " xPooling1D)                                                                                      \n",
            "                                                                                                  \n",
            " batch_normalization (BatchNorm  (None, 768)         3072        ['global_max_pooling1d[0][0]']   \n",
            " alization)                                                                                       \n",
            "                                                                                                  \n",
            " dense (Dense)                  (None, 128)          98432       ['batch_normalization[0][0]']    \n",
            "                                                                                                  \n",
            " dense_1 (Dense)                (None, 32)           4128        ['dense[0][0]']                  \n",
            "                                                                                                  \n",
            " outputs (Dense)                (None, 5)            165         ['dense_1[0][0]']                \n",
            "                                                                                                  \n",
            "==================================================================================================\n",
            "Total params: 108,416,069\n",
            "Trainable params: 108,414,533\n",
            "Non-trainable params: 1,536\n",
            "__________________________________________________________________________________________________\n"
          ]
        }
      ]
    },
    {
      "cell_type": "markdown",
      "source": [
        "Bert is very big model and we wouldn't train it unless we have a specific reason to. For this dataset , we are going to freeze some layers "
      ],
      "metadata": {
        "id": "Sn_V6MSdroJq"
      }
    },
    {
      "cell_type": "code",
      "source": [
        "model.layers[2].trainable = False"
      ],
      "metadata": {
        "id": "_hgKAT2KrFpD"
      },
      "execution_count": 54,
      "outputs": []
    },
    {
      "cell_type": "code",
      "source": [
        "model.summary()"
      ],
      "metadata": {
        "colab": {
          "base_uri": "https://localhost:8080/"
        },
        "id": "NcvHqQZwr5t6",
        "outputId": "b6822db6-1ade-450f-8712-19e0b0e3394b"
      },
      "execution_count": 55,
      "outputs": [
        {
          "output_type": "stream",
          "name": "stdout",
          "text": [
            "Model: \"model\"\n",
            "__________________________________________________________________________________________________\n",
            " Layer (type)                   Output Shape         Param #     Connected to                     \n",
            "==================================================================================================\n",
            " input_ids (InputLayer)         [(None, 50)]         0           []                               \n",
            "                                                                                                  \n",
            " attention_mask (InputLayer)    [(None, 50)]         0           []                               \n",
            "                                                                                                  \n",
            " tf_bert_model (TFBertModel)    TFBaseModelOutputWi  108310272   ['input_ids[0][0]',              \n",
            "                                thPoolingAndCrossAt               'attention_mask[0][0]']         \n",
            "                                tentions(last_hidde                                               \n",
            "                                n_state=(None, 50,                                                \n",
            "                                768),                                                             \n",
            "                                 pooler_output=(Non                                               \n",
            "                                e, 768),                                                          \n",
            "                                 past_key_values=No                                               \n",
            "                                ne, hidden_states=N                                               \n",
            "                                one, attentions=Non                                               \n",
            "                                e, cross_attentions                                               \n",
            "                                =None)                                                            \n",
            "                                                                                                  \n",
            " global_max_pooling1d (GlobalMa  (None, 768)         0           ['tf_bert_model[0][0]']          \n",
            " xPooling1D)                                                                                      \n",
            "                                                                                                  \n",
            " batch_normalization (BatchNorm  (None, 768)         3072        ['global_max_pooling1d[0][0]']   \n",
            " alization)                                                                                       \n",
            "                                                                                                  \n",
            " dense (Dense)                  (None, 128)          98432       ['batch_normalization[0][0]']    \n",
            "                                                                                                  \n",
            " dense_1 (Dense)                (None, 32)           4128        ['dense[0][0]']                  \n",
            "                                                                                                  \n",
            " outputs (Dense)                (None, 5)            165         ['dense_1[0][0]']                \n",
            "                                                                                                  \n",
            "==================================================================================================\n",
            "Total params: 108,416,069\n",
            "Trainable params: 104,261\n",
            "Non-trainable params: 108,311,808\n",
            "__________________________________________________________________________________________________\n"
          ]
        }
      ]
    },
    {
      "cell_type": "code",
      "source": [
        "optimizer = tf.keras.optimizers.Adam(0.01)\n",
        "loss = tf.keras.losses.CategoricalCrossentropy()\n",
        "acc = tf.keras.metrics.CategoricalAccuracy('accuracy')\n",
        "\n",
        "model.compile(optimizer=optimizer, loss=loss, metrics=[acc])"
      ],
      "metadata": {
        "id": "ypvUbLLkr7dI"
      },
      "execution_count": 56,
      "outputs": []
    },
    {
      "cell_type": "code",
      "source": [
        "history = model.fit(train, validation_data=val, epochs=140)"
      ],
      "metadata": {
        "colab": {
          "base_uri": "https://localhost:8080/"
        },
        "id": "qJd0Y1mdscV3",
        "outputId": "688f68e0-d990-4a3a-98f4-83003c507415"
      },
      "execution_count": 57,
      "outputs": [
        {
          "output_type": "stream",
          "name": "stdout",
          "text": [
            "Epoch 1/140\n",
            "240/240 [==============================] - 44s 136ms/step - loss: 1.4706 - accuracy: 0.3603 - val_loss: 1.3168 - val_accuracy: 0.4417\n",
            "Epoch 2/140\n",
            "240/240 [==============================] - 30s 126ms/step - loss: 1.3639 - accuracy: 0.4072 - val_loss: 1.2300 - val_accuracy: 0.4912\n",
            "Epoch 3/140\n",
            "240/240 [==============================] - 31s 128ms/step - loss: 1.3292 - accuracy: 0.4130 - val_loss: 1.2137 - val_accuracy: 0.4676\n",
            "Epoch 4/140\n",
            "240/240 [==============================] - 31s 130ms/step - loss: 1.3184 - accuracy: 0.4225 - val_loss: 1.2449 - val_accuracy: 0.4558\n",
            "Epoch 5/140\n",
            "240/240 [==============================] - 32s 131ms/step - loss: 1.3032 - accuracy: 0.4288 - val_loss: 1.2147 - val_accuracy: 0.4794\n",
            "Epoch 6/140\n",
            "240/240 [==============================] - 32s 131ms/step - loss: 1.2991 - accuracy: 0.4350 - val_loss: 1.1843 - val_accuracy: 0.4817\n",
            "Epoch 7/140\n",
            "240/240 [==============================] - 32s 131ms/step - loss: 1.2898 - accuracy: 0.4402 - val_loss: 1.1820 - val_accuracy: 0.4947\n",
            "Epoch 8/140\n",
            "240/240 [==============================] - 32s 131ms/step - loss: 1.3101 - accuracy: 0.4264 - val_loss: 1.2437 - val_accuracy: 0.4429\n",
            "Epoch 9/140\n",
            "240/240 [==============================] - 32s 132ms/step - loss: 1.2755 - accuracy: 0.4487 - val_loss: 1.1617 - val_accuracy: 0.4782\n",
            "Epoch 10/140\n",
            "240/240 [==============================] - 32s 133ms/step - loss: 1.2533 - accuracy: 0.4594 - val_loss: 1.1139 - val_accuracy: 0.4971\n",
            "Epoch 11/140\n",
            "240/240 [==============================] - 32s 132ms/step - loss: 1.2595 - accuracy: 0.4526 - val_loss: 1.1469 - val_accuracy: 0.5418\n",
            "Epoch 12/140\n",
            "240/240 [==============================] - 32s 132ms/step - loss: 1.2367 - accuracy: 0.4711 - val_loss: 1.1068 - val_accuracy: 0.4900\n",
            "Epoch 13/140\n",
            "240/240 [==============================] - 32s 133ms/step - loss: 1.2514 - accuracy: 0.4520 - val_loss: 1.1211 - val_accuracy: 0.5265\n",
            "Epoch 14/140\n",
            "240/240 [==============================] - 32s 133ms/step - loss: 1.2272 - accuracy: 0.4655 - val_loss: 1.0951 - val_accuracy: 0.5442\n",
            "Epoch 15/140\n",
            "240/240 [==============================] - 32s 133ms/step - loss: 1.2338 - accuracy: 0.4647 - val_loss: 1.0442 - val_accuracy: 0.5736\n",
            "Epoch 16/140\n",
            "240/240 [==============================] - 32s 133ms/step - loss: 1.2087 - accuracy: 0.4746 - val_loss: 1.0712 - val_accuracy: 0.5265\n",
            "Epoch 17/140\n",
            "240/240 [==============================] - 32s 133ms/step - loss: 1.1996 - accuracy: 0.4745 - val_loss: 1.0259 - val_accuracy: 0.5524\n",
            "Epoch 18/140\n",
            "240/240 [==============================] - 32s 133ms/step - loss: 1.1921 - accuracy: 0.4819 - val_loss: 1.0507 - val_accuracy: 0.5536\n",
            "Epoch 19/140\n",
            "240/240 [==============================] - 32s 133ms/step - loss: 1.2075 - accuracy: 0.4796 - val_loss: 1.0382 - val_accuracy: 0.5501\n",
            "Epoch 20/140\n",
            "240/240 [==============================] - 32s 132ms/step - loss: 1.1830 - accuracy: 0.4844 - val_loss: 0.9863 - val_accuracy: 0.6054\n",
            "Epoch 21/140\n",
            "240/240 [==============================] - 32s 132ms/step - loss: 1.1587 - accuracy: 0.5007 - val_loss: 0.9934 - val_accuracy: 0.5665\n",
            "Epoch 22/140\n",
            "240/240 [==============================] - 32s 133ms/step - loss: 1.1555 - accuracy: 0.4969 - val_loss: 0.9962 - val_accuracy: 0.5371\n",
            "Epoch 23/140\n",
            "240/240 [==============================] - 32s 133ms/step - loss: 1.1477 - accuracy: 0.5073 - val_loss: 0.9778 - val_accuracy: 0.6137\n",
            "Epoch 24/140\n",
            "240/240 [==============================] - 32s 133ms/step - loss: 1.1484 - accuracy: 0.5083 - val_loss: 0.9140 - val_accuracy: 0.6196\n",
            "Epoch 25/140\n",
            "240/240 [==============================] - 32s 132ms/step - loss: 1.1540 - accuracy: 0.5016 - val_loss: 0.9555 - val_accuracy: 0.5783\n",
            "Epoch 26/140\n",
            "240/240 [==============================] - 32s 133ms/step - loss: 1.1217 - accuracy: 0.5219 - val_loss: 0.8925 - val_accuracy: 0.6148\n",
            "Epoch 27/140\n",
            "240/240 [==============================] - 32s 133ms/step - loss: 1.1207 - accuracy: 0.5173 - val_loss: 0.9191 - val_accuracy: 0.6031\n",
            "Epoch 28/140\n",
            "240/240 [==============================] - 32s 132ms/step - loss: 1.1172 - accuracy: 0.5199 - val_loss: 0.9373 - val_accuracy: 0.5960\n",
            "Epoch 29/140\n",
            "240/240 [==============================] - 32s 132ms/step - loss: 1.0958 - accuracy: 0.5305 - val_loss: 0.8003 - val_accuracy: 0.6773\n",
            "Epoch 30/140\n",
            "240/240 [==============================] - 32s 133ms/step - loss: 1.0869 - accuracy: 0.5340 - val_loss: 0.8371 - val_accuracy: 0.6667\n",
            "Epoch 31/140\n",
            "240/240 [==============================] - 32s 133ms/step - loss: 1.1021 - accuracy: 0.5289 - val_loss: 0.8890 - val_accuracy: 0.6254\n",
            "Epoch 32/140\n",
            "240/240 [==============================] - 32s 133ms/step - loss: 1.0735 - accuracy: 0.5400 - val_loss: 0.8614 - val_accuracy: 0.6313\n",
            "Epoch 33/140\n",
            "240/240 [==============================] - 32s 133ms/step - loss: 1.0690 - accuracy: 0.5488 - val_loss: 0.9121 - val_accuracy: 0.5878\n",
            "Epoch 34/140\n",
            "240/240 [==============================] - 32s 132ms/step - loss: 1.0732 - accuracy: 0.5456 - val_loss: 0.7865 - val_accuracy: 0.6890\n",
            "Epoch 35/140\n",
            "240/240 [==============================] - 32s 133ms/step - loss: 1.0541 - accuracy: 0.5525 - val_loss: 0.8112 - val_accuracy: 0.6466\n",
            "Epoch 36/140\n",
            "240/240 [==============================] - 32s 132ms/step - loss: 1.0567 - accuracy: 0.5426 - val_loss: 0.7713 - val_accuracy: 0.6985\n",
            "Epoch 37/140\n",
            "240/240 [==============================] - 32s 132ms/step - loss: 1.0548 - accuracy: 0.5542 - val_loss: 0.8294 - val_accuracy: 0.6608\n",
            "Epoch 38/140\n",
            "240/240 [==============================] - 32s 133ms/step - loss: 1.0322 - accuracy: 0.5625 - val_loss: 0.7927 - val_accuracy: 0.6502\n",
            "Epoch 39/140\n",
            "240/240 [==============================] - 32s 133ms/step - loss: 1.0114 - accuracy: 0.5690 - val_loss: 0.8435 - val_accuracy: 0.6184\n",
            "Epoch 40/140\n",
            "240/240 [==============================] - 32s 133ms/step - loss: 1.0336 - accuracy: 0.5714 - val_loss: 0.7545 - val_accuracy: 0.7114\n",
            "Epoch 41/140\n",
            "240/240 [==============================] - 32s 132ms/step - loss: 1.0036 - accuracy: 0.5846 - val_loss: 0.7906 - val_accuracy: 0.6832\n",
            "Epoch 42/140\n",
            "240/240 [==============================] - 32s 133ms/step - loss: 1.0109 - accuracy: 0.5734 - val_loss: 0.7481 - val_accuracy: 0.7161\n",
            "Epoch 43/140\n",
            "240/240 [==============================] - 32s 133ms/step - loss: 0.9969 - accuracy: 0.5900 - val_loss: 0.7663 - val_accuracy: 0.6702\n",
            "Epoch 44/140\n",
            "240/240 [==============================] - 32s 132ms/step - loss: 0.9733 - accuracy: 0.5991 - val_loss: 0.6871 - val_accuracy: 0.7385\n",
            "Epoch 45/140\n",
            "240/240 [==============================] - 32s 133ms/step - loss: 1.0010 - accuracy: 0.5854 - val_loss: 0.7414 - val_accuracy: 0.7138\n",
            "Epoch 46/140\n",
            "240/240 [==============================] - 32s 132ms/step - loss: 1.0136 - accuracy: 0.5828 - val_loss: 0.7113 - val_accuracy: 0.7503\n",
            "Epoch 47/140\n",
            "240/240 [==============================] - 32s 133ms/step - loss: 0.9975 - accuracy: 0.5839 - val_loss: 0.7666 - val_accuracy: 0.6525\n",
            "Epoch 48/140\n",
            "240/240 [==============================] - 32s 133ms/step - loss: 0.9723 - accuracy: 0.5872 - val_loss: 0.7088 - val_accuracy: 0.7173\n",
            "Epoch 49/140\n",
            "240/240 [==============================] - 32s 133ms/step - loss: 0.9713 - accuracy: 0.5992 - val_loss: 0.6981 - val_accuracy: 0.7114\n",
            "Epoch 50/140\n",
            "240/240 [==============================] - 32s 132ms/step - loss: 0.9535 - accuracy: 0.6065 - val_loss: 0.7138 - val_accuracy: 0.7102\n",
            "Epoch 51/140\n",
            "240/240 [==============================] - 32s 133ms/step - loss: 0.9651 - accuracy: 0.6029 - val_loss: 0.7663 - val_accuracy: 0.7291\n",
            "Epoch 52/140\n",
            "240/240 [==============================] - 32s 132ms/step - loss: 0.9849 - accuracy: 0.5917 - val_loss: 0.6763 - val_accuracy: 0.7409\n",
            "Epoch 53/140\n",
            "240/240 [==============================] - 32s 133ms/step - loss: 0.9587 - accuracy: 0.6046 - val_loss: 0.6192 - val_accuracy: 0.7468\n",
            "Epoch 54/140\n",
            "240/240 [==============================] - 32s 133ms/step - loss: 0.9464 - accuracy: 0.6173 - val_loss: 0.6422 - val_accuracy: 0.7550\n",
            "Epoch 55/140\n",
            "240/240 [==============================] - 32s 133ms/step - loss: 0.9438 - accuracy: 0.6078 - val_loss: 0.6379 - val_accuracy: 0.7715\n",
            "Epoch 56/140\n",
            "240/240 [==============================] - 32s 133ms/step - loss: 0.9376 - accuracy: 0.6145 - val_loss: 0.6714 - val_accuracy: 0.7432\n",
            "Epoch 57/140\n",
            "240/240 [==============================] - 32s 132ms/step - loss: 0.9245 - accuracy: 0.6189 - val_loss: 0.6760 - val_accuracy: 0.7326\n",
            "Epoch 58/140\n",
            "240/240 [==============================] - 32s 133ms/step - loss: 0.9208 - accuracy: 0.6281 - val_loss: 0.6294 - val_accuracy: 0.7409\n",
            "Epoch 59/140\n",
            "240/240 [==============================] - 32s 132ms/step - loss: 0.9060 - accuracy: 0.6303 - val_loss: 0.5903 - val_accuracy: 0.7703\n",
            "Epoch 60/140\n",
            "240/240 [==============================] - 32s 133ms/step - loss: 0.9139 - accuracy: 0.6281 - val_loss: 0.5604 - val_accuracy: 0.8139\n",
            "Epoch 61/140\n",
            "240/240 [==============================] - 32s 133ms/step - loss: 0.9041 - accuracy: 0.6245 - val_loss: 0.6654 - val_accuracy: 0.7279\n",
            "Epoch 62/140\n",
            "240/240 [==============================] - 32s 133ms/step - loss: 0.9169 - accuracy: 0.6281 - val_loss: 0.6138 - val_accuracy: 0.7609\n",
            "Epoch 63/140\n",
            "240/240 [==============================] - 32s 133ms/step - loss: 0.9185 - accuracy: 0.6195 - val_loss: 0.5801 - val_accuracy: 0.8080\n",
            "Epoch 64/140\n",
            "240/240 [==============================] - 32s 133ms/step - loss: 0.9169 - accuracy: 0.6242 - val_loss: 0.5806 - val_accuracy: 0.7809\n",
            "Epoch 65/140\n",
            "240/240 [==============================] - 32s 133ms/step - loss: 0.9145 - accuracy: 0.6332 - val_loss: 0.6449 - val_accuracy: 0.7585\n",
            "Epoch 66/140\n",
            "240/240 [==============================] - 32s 133ms/step - loss: 0.8843 - accuracy: 0.6366 - val_loss: 0.6258 - val_accuracy: 0.7633\n",
            "Epoch 67/140\n",
            "240/240 [==============================] - 32s 133ms/step - loss: 0.8950 - accuracy: 0.6306 - val_loss: 0.6482 - val_accuracy: 0.7409\n",
            "Epoch 68/140\n",
            "240/240 [==============================] - 32s 133ms/step - loss: 0.8949 - accuracy: 0.6342 - val_loss: 0.6468 - val_accuracy: 0.7703\n",
            "Epoch 69/140\n",
            "240/240 [==============================] - 32s 132ms/step - loss: 0.9106 - accuracy: 0.6382 - val_loss: 0.5813 - val_accuracy: 0.7903\n",
            "Epoch 70/140\n",
            "240/240 [==============================] - 32s 133ms/step - loss: 0.8996 - accuracy: 0.6372 - val_loss: 0.5878 - val_accuracy: 0.7786\n",
            "Epoch 71/140\n",
            "240/240 [==============================] - 32s 133ms/step - loss: 0.8637 - accuracy: 0.6497 - val_loss: 0.5571 - val_accuracy: 0.7927\n",
            "Epoch 72/140\n",
            "240/240 [==============================] - 32s 133ms/step - loss: 0.8671 - accuracy: 0.6497 - val_loss: 0.6043 - val_accuracy: 0.7750\n",
            "Epoch 73/140\n",
            "240/240 [==============================] - 32s 133ms/step - loss: 0.9016 - accuracy: 0.6427 - val_loss: 0.7317 - val_accuracy: 0.7091\n",
            "Epoch 74/140\n",
            "240/240 [==============================] - 32s 133ms/step - loss: 0.8681 - accuracy: 0.6479 - val_loss: 0.5904 - val_accuracy: 0.7750\n",
            "Epoch 75/140\n",
            "240/240 [==============================] - 32s 133ms/step - loss: 0.8651 - accuracy: 0.6465 - val_loss: 0.6087 - val_accuracy: 0.7562\n",
            "Epoch 76/140\n",
            "240/240 [==============================] - 32s 133ms/step - loss: 0.8628 - accuracy: 0.6493 - val_loss: 0.5323 - val_accuracy: 0.8104\n",
            "Epoch 77/140\n",
            "240/240 [==============================] - 32s 133ms/step - loss: 0.8577 - accuracy: 0.6477 - val_loss: 0.5574 - val_accuracy: 0.7986\n",
            "Epoch 78/140\n",
            "240/240 [==============================] - 32s 132ms/step - loss: 0.8554 - accuracy: 0.6525 - val_loss: 0.5569 - val_accuracy: 0.8057\n",
            "Epoch 79/140\n",
            "240/240 [==============================] - 32s 133ms/step - loss: 0.8759 - accuracy: 0.6499 - val_loss: 0.6286 - val_accuracy: 0.7609\n",
            "Epoch 80/140\n",
            "240/240 [==============================] - 32s 133ms/step - loss: 0.8667 - accuracy: 0.6522 - val_loss: 0.5254 - val_accuracy: 0.8139\n",
            "Epoch 81/140\n",
            "240/240 [==============================] - 32s 133ms/step - loss: 0.8347 - accuracy: 0.6647 - val_loss: 0.5063 - val_accuracy: 0.8163\n",
            "Epoch 82/140\n",
            "240/240 [==============================] - 32s 133ms/step - loss: 0.8337 - accuracy: 0.6622 - val_loss: 0.4964 - val_accuracy: 0.8033\n",
            "Epoch 83/140\n",
            "240/240 [==============================] - 32s 133ms/step - loss: 0.8259 - accuracy: 0.6635 - val_loss: 0.5415 - val_accuracy: 0.7962\n",
            "Epoch 84/140\n",
            "240/240 [==============================] - 32s 133ms/step - loss: 0.8188 - accuracy: 0.6747 - val_loss: 0.5622 - val_accuracy: 0.8021\n",
            "Epoch 85/140\n",
            "240/240 [==============================] - 32s 133ms/step - loss: 0.8311 - accuracy: 0.6659 - val_loss: 0.5248 - val_accuracy: 0.7998\n",
            "Epoch 86/140\n",
            "240/240 [==============================] - 32s 133ms/step - loss: 0.8280 - accuracy: 0.6664 - val_loss: 0.5372 - val_accuracy: 0.7962\n",
            "Epoch 87/140\n",
            "240/240 [==============================] - 32s 133ms/step - loss: 0.7983 - accuracy: 0.6805 - val_loss: 0.4920 - val_accuracy: 0.8210\n",
            "Epoch 88/140\n",
            "240/240 [==============================] - 32s 133ms/step - loss: 0.8338 - accuracy: 0.6628 - val_loss: 0.5235 - val_accuracy: 0.8210\n",
            "Epoch 89/140\n",
            "240/240 [==============================] - 32s 134ms/step - loss: 0.8335 - accuracy: 0.6652 - val_loss: 0.5370 - val_accuracy: 0.7951\n",
            "Epoch 90/140\n",
            "240/240 [==============================] - 32s 133ms/step - loss: 0.8025 - accuracy: 0.6829 - val_loss: 0.5003 - val_accuracy: 0.8021\n",
            "Epoch 91/140\n",
            "240/240 [==============================] - 32s 133ms/step - loss: 0.8371 - accuracy: 0.6643 - val_loss: 0.4797 - val_accuracy: 0.8398\n",
            "Epoch 92/140\n",
            "240/240 [==============================] - 32s 133ms/step - loss: 0.8314 - accuracy: 0.6766 - val_loss: 0.5168 - val_accuracy: 0.8068\n",
            "Epoch 93/140\n",
            "240/240 [==============================] - 32s 133ms/step - loss: 0.8254 - accuracy: 0.6738 - val_loss: 0.4611 - val_accuracy: 0.8433\n",
            "Epoch 94/140\n",
            "240/240 [==============================] - 32s 133ms/step - loss: 0.8049 - accuracy: 0.6764 - val_loss: 0.4942 - val_accuracy: 0.8151\n",
            "Epoch 95/140\n",
            "240/240 [==============================] - 32s 133ms/step - loss: 0.7940 - accuracy: 0.6854 - val_loss: 0.5017 - val_accuracy: 0.8198\n",
            "Epoch 96/140\n",
            "240/240 [==============================] - 32s 133ms/step - loss: 0.8061 - accuracy: 0.6811 - val_loss: 0.4675 - val_accuracy: 0.8198\n",
            "Epoch 97/140\n",
            "240/240 [==============================] - 32s 133ms/step - loss: 0.8074 - accuracy: 0.6786 - val_loss: 0.5394 - val_accuracy: 0.8163\n",
            "Epoch 98/140\n",
            "240/240 [==============================] - 32s 133ms/step - loss: 0.8058 - accuracy: 0.6932 - val_loss: 0.4840 - val_accuracy: 0.8115\n",
            "Epoch 99/140\n",
            "240/240 [==============================] - 32s 133ms/step - loss: 0.8070 - accuracy: 0.6720 - val_loss: 0.4795 - val_accuracy: 0.8092\n",
            "Epoch 100/140\n",
            "240/240 [==============================] - 32s 133ms/step - loss: 0.7976 - accuracy: 0.6850 - val_loss: 0.5380 - val_accuracy: 0.8057\n",
            "Epoch 101/140\n",
            "240/240 [==============================] - 32s 133ms/step - loss: 0.8248 - accuracy: 0.6749 - val_loss: 0.4956 - val_accuracy: 0.8316\n",
            "Epoch 102/140\n",
            "240/240 [==============================] - 32s 133ms/step - loss: 0.8271 - accuracy: 0.6829 - val_loss: 0.5622 - val_accuracy: 0.7797\n",
            "Epoch 103/140\n",
            "240/240 [==============================] - 32s 133ms/step - loss: 0.7772 - accuracy: 0.6898 - val_loss: 0.4469 - val_accuracy: 0.8198\n",
            "Epoch 104/140\n",
            "240/240 [==============================] - 32s 133ms/step - loss: 0.7749 - accuracy: 0.6941 - val_loss: 0.5003 - val_accuracy: 0.8233\n",
            "Epoch 105/140\n",
            "240/240 [==============================] - 32s 134ms/step - loss: 0.7770 - accuracy: 0.6924 - val_loss: 0.4793 - val_accuracy: 0.8280\n",
            "Epoch 106/140\n",
            "240/240 [==============================] - 32s 133ms/step - loss: 0.7742 - accuracy: 0.6935 - val_loss: 0.4607 - val_accuracy: 0.8210\n",
            "Epoch 107/140\n",
            "240/240 [==============================] - 32s 133ms/step - loss: 0.7975 - accuracy: 0.6901 - val_loss: 0.3764 - val_accuracy: 0.8693\n",
            "Epoch 108/140\n",
            "240/240 [==============================] - 32s 134ms/step - loss: 0.7721 - accuracy: 0.6910 - val_loss: 0.4651 - val_accuracy: 0.8292\n",
            "Epoch 109/140\n",
            "240/240 [==============================] - 32s 133ms/step - loss: 0.7720 - accuracy: 0.6991 - val_loss: 0.4237 - val_accuracy: 0.8422\n",
            "Epoch 110/140\n",
            "240/240 [==============================] - 32s 133ms/step - loss: 0.7566 - accuracy: 0.7008 - val_loss: 0.5263 - val_accuracy: 0.8186\n",
            "Epoch 111/140\n",
            "240/240 [==============================] - 32s 133ms/step - loss: 0.7797 - accuracy: 0.6945 - val_loss: 0.4528 - val_accuracy: 0.8292\n",
            "Epoch 112/140\n",
            "240/240 [==============================] - 32s 133ms/step - loss: 0.7770 - accuracy: 0.7003 - val_loss: 0.4297 - val_accuracy: 0.8634\n",
            "Epoch 113/140\n",
            "240/240 [==============================] - 32s 134ms/step - loss: 0.7721 - accuracy: 0.6947 - val_loss: 0.4436 - val_accuracy: 0.8398\n",
            "Epoch 114/140\n",
            "240/240 [==============================] - 32s 133ms/step - loss: 0.7601 - accuracy: 0.7060 - val_loss: 0.4028 - val_accuracy: 0.8528\n",
            "Epoch 115/140\n",
            "240/240 [==============================] - 32s 133ms/step - loss: 0.7594 - accuracy: 0.7004 - val_loss: 0.4245 - val_accuracy: 0.8539\n",
            "Epoch 116/140\n",
            "240/240 [==============================] - 32s 133ms/step - loss: 0.7556 - accuracy: 0.6983 - val_loss: 0.4024 - val_accuracy: 0.8610\n",
            "Epoch 117/140\n",
            "240/240 [==============================] - 32s 134ms/step - loss: 0.7591 - accuracy: 0.7100 - val_loss: 0.4244 - val_accuracy: 0.8469\n",
            "Epoch 118/140\n",
            "240/240 [==============================] - 32s 133ms/step - loss: 0.7494 - accuracy: 0.7064 - val_loss: 0.4239 - val_accuracy: 0.8693\n",
            "Epoch 119/140\n",
            "240/240 [==============================] - 32s 133ms/step - loss: 0.7449 - accuracy: 0.7094 - val_loss: 0.3855 - val_accuracy: 0.8799\n",
            "Epoch 120/140\n",
            "240/240 [==============================] - 32s 134ms/step - loss: 0.7520 - accuracy: 0.6988 - val_loss: 0.4064 - val_accuracy: 0.8528\n",
            "Epoch 121/140\n",
            "240/240 [==============================] - 32s 133ms/step - loss: 0.7567 - accuracy: 0.6957 - val_loss: 0.4081 - val_accuracy: 0.8610\n",
            "Epoch 122/140\n",
            "240/240 [==============================] - 32s 134ms/step - loss: 0.7628 - accuracy: 0.7118 - val_loss: 0.4183 - val_accuracy: 0.8539\n",
            "Epoch 123/140\n",
            "240/240 [==============================] - 32s 134ms/step - loss: 0.7769 - accuracy: 0.6945 - val_loss: 0.4440 - val_accuracy: 0.8469\n",
            "Epoch 124/140\n",
            "240/240 [==============================] - 32s 133ms/step - loss: 0.7525 - accuracy: 0.7063 - val_loss: 0.4174 - val_accuracy: 0.8481\n",
            "Epoch 125/140\n",
            "240/240 [==============================] - 32s 133ms/step - loss: 0.7466 - accuracy: 0.7073 - val_loss: 0.4263 - val_accuracy: 0.8681\n",
            "Epoch 126/140\n",
            "240/240 [==============================] - 32s 133ms/step - loss: 0.7427 - accuracy: 0.7126 - val_loss: 0.4471 - val_accuracy: 0.8457\n",
            "Epoch 127/140\n",
            "240/240 [==============================] - 32s 134ms/step - loss: 0.7618 - accuracy: 0.7053 - val_loss: 0.3966 - val_accuracy: 0.8622\n",
            "Epoch 128/140\n",
            "240/240 [==============================] - 32s 134ms/step - loss: 0.7442 - accuracy: 0.7092 - val_loss: 0.4242 - val_accuracy: 0.8575\n",
            "Epoch 129/140\n",
            "240/240 [==============================] - 32s 133ms/step - loss: 0.7351 - accuracy: 0.7147 - val_loss: 0.4583 - val_accuracy: 0.8174\n",
            "Epoch 130/140\n",
            "240/240 [==============================] - 32s 133ms/step - loss: 0.7360 - accuracy: 0.7145 - val_loss: 0.3950 - val_accuracy: 0.8622\n",
            "Epoch 131/140\n",
            "240/240 [==============================] - 32s 133ms/step - loss: 0.7253 - accuracy: 0.7143 - val_loss: 0.4236 - val_accuracy: 0.8516\n",
            "Epoch 132/140\n",
            "240/240 [==============================] - 32s 134ms/step - loss: 0.7536 - accuracy: 0.7125 - val_loss: 0.4458 - val_accuracy: 0.8433\n",
            "Epoch 133/140\n",
            "240/240 [==============================] - 32s 133ms/step - loss: 0.7516 - accuracy: 0.7171 - val_loss: 0.5095 - val_accuracy: 0.8198\n",
            "Epoch 134/140\n",
            "240/240 [==============================] - 32s 134ms/step - loss: 0.7741 - accuracy: 0.7022 - val_loss: 0.4586 - val_accuracy: 0.8422\n",
            "Epoch 135/140\n",
            "240/240 [==============================] - 32s 134ms/step - loss: 0.7390 - accuracy: 0.7225 - val_loss: 0.4089 - val_accuracy: 0.8539\n",
            "Epoch 136/140\n",
            "240/240 [==============================] - 32s 134ms/step - loss: 0.7245 - accuracy: 0.7259 - val_loss: 0.3503 - val_accuracy: 0.8740\n",
            "Epoch 137/140\n",
            "240/240 [==============================] - 32s 133ms/step - loss: 0.7279 - accuracy: 0.7202 - val_loss: 0.4237 - val_accuracy: 0.8504\n",
            "Epoch 138/140\n",
            "240/240 [==============================] - 32s 134ms/step - loss: 0.7411 - accuracy: 0.7174 - val_loss: 0.3644 - val_accuracy: 0.8716\n",
            "Epoch 139/140\n",
            "240/240 [==============================] - 32s 133ms/step - loss: 0.6996 - accuracy: 0.7273 - val_loss: 0.3496 - val_accuracy: 0.8645\n",
            "Epoch 140/140\n",
            "240/240 [==============================] - 32s 134ms/step - loss: 0.7420 - accuracy: 0.7163 - val_loss: 0.4780 - val_accuracy: 0.8410\n"
          ]
        }
      ]
    },
    {
      "cell_type": "code",
      "source": [
        ""
      ],
      "metadata": {
        "id": "4p7gGoUBsoLR"
      },
      "execution_count": 57,
      "outputs": []
    }
  ]
}